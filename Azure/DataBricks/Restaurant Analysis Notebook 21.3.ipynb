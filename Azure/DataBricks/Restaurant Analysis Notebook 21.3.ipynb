{
 "cells": [
  {
   "cell_type": "code",
   "execution_count": 0,
   "metadata": {
    "application/vnd.databricks.v1+cell": {
     "cellMetadata": {
      "byteLimit": 2048000,
      "implicitDf": true,
      "rowLimit": 10000
     },
     "inputWidgets": {},
     "nuid": "9209aa0f-8dd9-4122-a7dd-2527d0bba71b",
     "showTitle": false,
     "tableResultSettingsMap": {},
     "title": ""
    }
   },
   "outputs": [
    {
     "output_type": "display_data",
     "data": {
      "text/html": [
       "<style scoped>\n",
       "  .table-result-container {\n",
       "    max-height: 300px;\n",
       "    overflow: auto;\n",
       "  }\n",
       "  table, th, td {\n",
       "    border: 1px solid black;\n",
       "    border-collapse: collapse;\n",
       "  }\n",
       "  th, td {\n",
       "    padding: 5px;\n",
       "  }\n",
       "  th {\n",
       "    text-align: left;\n",
       "  }\n",
       "</style><div class='table-result-container'><table class='table-result'><thead style='background-color: white'><tr><th>city</th><th>count</th></tr></thead><tbody><tr><td>Dummy</td><td>20</td></tr><tr><td>Agra</td><td>20</td></tr><tr><td>Vizag</td><td>20</td></tr><tr><td>Ankara</td><td>20</td></tr><tr><td>Wellington City</td><td>20</td></tr><tr><td>Coimbatore</td><td>20</td></tr><tr><td>Rio de Janeiro</td><td>20</td></tr><tr><td>Birmingham</td><td>20</td></tr><tr><td>Amritsar</td><td>20</td></tr><tr><td>Varanasi</td><td>20</td></tr><tr><td>Ranchi</td><td>20</td></tr><tr><td>Mangalore</td><td>20</td></tr><tr><td>Mysore</td><td>20</td></tr><tr><td>Chennai</td><td>20</td></tr><tr><td>Ahmedabad</td><td>20</td></tr><tr><td>Lucknow</td><td>20</td></tr><tr><td>Cape Town</td><td>20</td></tr><tr><td>Indore</td><td>20</td></tr><tr><td>Dehradun</td><td>20</td></tr><tr><td>Aurangabad</td><td>20</td></tr><tr><td>Colombo</td><td>20</td></tr><tr><td>Manchester</td><td>20</td></tr><tr><td>São Paulo</td><td>20</td></tr><tr><td>Kochi</td><td>20</td></tr><tr><td>Patna</td><td>20</td></tr><tr><td>Edinburgh</td><td>20</td></tr><tr><td>Abu Dhabi</td><td>20</td></tr><tr><td>İstanbul</td><td>20</td></tr><tr><td>Bhopal</td><td>20</td></tr><tr><td>Nagpur</td><td>20</td></tr><tr><td>Brasília</td><td>20</td></tr><tr><td>Surat</td><td>20</td></tr><tr><td>Kanpur</td><td>20</td></tr><tr><td>Vadodara</td><td>20</td></tr><tr><td>Jaipur</td><td>20</td></tr><tr><td>Kolkata</td><td>20</td></tr><tr><td>Guwahati</td><td>20</td></tr><tr><td>Dubai</td><td>20</td></tr><tr><td>Mumbai</td><td>20</td></tr><tr><td>Ludhiana</td><td>20</td></tr><tr><td>Pretoria</td><td>20</td></tr><tr><td>Allahabad</td><td>20</td></tr><tr><td>Nashik</td><td>20</td></tr><tr><td>Bangalore</td><td>20</td></tr><tr><td>Puducherry</td><td>20</td></tr><tr><td>Goa</td><td>20</td></tr><tr><td>Pune</td><td>20</td></tr><tr><td>Doha</td><td>20</td></tr><tr><td>Sharjah</td><td>20</td></tr><tr><td>Singapore</td><td>20</td></tr><tr><td>Auckland</td><td>20</td></tr><tr><td>Bhubaneshwar</td><td>20</td></tr><tr><td>London</td><td>20</td></tr><tr><td>Hyderabad</td><td>18</td></tr><tr><td>Chandigarh</td><td>18</td></tr><tr><td>Jakarta</td><td>16</td></tr><tr><td>New Delhi</td><td>15</td></tr><tr><td>Sandton</td><td>11</td></tr><tr><td>Johannesburg</td><td>6</td></tr><tr><td>Gurgaon</td><td>5</td></tr><tr><td>Mandaluyong City</td><td>4</td></tr><tr><td>Taguig City</td><td>4</td></tr><tr><td>Pasig City</td><td>3</td></tr><tr><td>Pasay City</td><td>3</td></tr><tr><td>Inner City</td><td>2</td></tr><tr><td>Tangerang</td><td>2</td></tr><tr><td>Makati City</td><td>2</td></tr><tr><td>San Juan City</td><td>2</td></tr><tr><td>Secunderabad</td><td>2</td></tr><tr><td>Bogor</td><td>2</td></tr><tr><td>Randburg</td><td>1</td></tr><tr><td>Tagaytay City</td><td>1</td></tr><tr><td>Panchkula</td><td>1</td></tr><tr><td>Mohali</td><td>1</td></tr><tr><td>Quezon City</td><td>1</td></tr></tbody></table></div>"
      ]
     },
     "metadata": {
      "application/vnd.databricks.v1+output": {
       "addedWidgets": {},
       "aggData": [],
       "aggError": "",
       "aggOverflow": false,
       "aggSchema": [],
       "aggSeriesLimitReached": false,
       "aggType": "",
       "arguments": {},
       "columnCustomDisplayInfos": {},
       "data": [
        [
         "Dummy",
         20
        ],
        [
         "Agra",
         20
        ],
        [
         "Vizag",
         20
        ],
        [
         "Ankara",
         20
        ],
        [
         "Wellington City",
         20
        ],
        [
         "Coimbatore",
         20
        ],
        [
         "Rio de Janeiro",
         20
        ],
        [
         "Birmingham",
         20
        ],
        [
         "Amritsar",
         20
        ],
        [
         "Varanasi",
         20
        ],
        [
         "Ranchi",
         20
        ],
        [
         "Mangalore",
         20
        ],
        [
         "Mysore",
         20
        ],
        [
         "Chennai",
         20
        ],
        [
         "Ahmedabad",
         20
        ],
        [
         "Lucknow",
         20
        ],
        [
         "Cape Town",
         20
        ],
        [
         "Indore",
         20
        ],
        [
         "Dehradun",
         20
        ],
        [
         "Aurangabad",
         20
        ],
        [
         "Colombo",
         20
        ],
        [
         "Manchester",
         20
        ],
        [
         "São Paulo",
         20
        ],
        [
         "Kochi",
         20
        ],
        [
         "Patna",
         20
        ],
        [
         "Edinburgh",
         20
        ],
        [
         "Abu Dhabi",
         20
        ],
        [
         "İstanbul",
         20
        ],
        [
         "Bhopal",
         20
        ],
        [
         "Nagpur",
         20
        ],
        [
         "Brasília",
         20
        ],
        [
         "Surat",
         20
        ],
        [
         "Kanpur",
         20
        ],
        [
         "Vadodara",
         20
        ],
        [
         "Jaipur",
         20
        ],
        [
         "Kolkata",
         20
        ],
        [
         "Guwahati",
         20
        ],
        [
         "Dubai",
         20
        ],
        [
         "Mumbai",
         20
        ],
        [
         "Ludhiana",
         20
        ],
        [
         "Pretoria",
         20
        ],
        [
         "Allahabad",
         20
        ],
        [
         "Nashik",
         20
        ],
        [
         "Bangalore",
         20
        ],
        [
         "Puducherry",
         20
        ],
        [
         "Goa",
         20
        ],
        [
         "Pune",
         20
        ],
        [
         "Doha",
         20
        ],
        [
         "Sharjah",
         20
        ],
        [
         "Singapore",
         20
        ],
        [
         "Auckland",
         20
        ],
        [
         "Bhubaneshwar",
         20
        ],
        [
         "London",
         20
        ],
        [
         "Hyderabad",
         18
        ],
        [
         "Chandigarh",
         18
        ],
        [
         "Jakarta",
         16
        ],
        [
         "New Delhi",
         15
        ],
        [
         "Sandton",
         11
        ],
        [
         "Johannesburg",
         6
        ],
        [
         "Gurgaon",
         5
        ],
        [
         "Mandaluyong City",
         4
        ],
        [
         "Taguig City",
         4
        ],
        [
         "Pasig City",
         3
        ],
        [
         "Pasay City",
         3
        ],
        [
         "Inner City",
         2
        ],
        [
         "Tangerang",
         2
        ],
        [
         "Makati City",
         2
        ],
        [
         "San Juan City",
         2
        ],
        [
         "Secunderabad",
         2
        ],
        [
         "Bogor",
         2
        ],
        [
         "Randburg",
         1
        ],
        [
         "Tagaytay City",
         1
        ],
        [
         "Panchkula",
         1
        ],
        [
         "Mohali",
         1
        ],
        [
         "Quezon City",
         1
        ]
       ],
       "datasetInfos": [],
       "dbfsResultPath": null,
       "isJsonSchema": true,
       "metadata": {
        "createTempViewForImplicitDf": true,
        "dataframeName": "_sqldf",
        "executionCount": 17
       },
       "overflow": false,
       "plotOptions": {
        "customPlotOptions": {},
        "displayType": "table",
        "pivotAggregation": null,
        "pivotColumns": null,
        "xColumns": null,
        "yColumns": null
       },
       "removedWidgets": [],
       "schema": [
        {
         "metadata": "{}",
         "name": "city",
         "type": "\"string\""
        },
        {
         "metadata": "{}",
         "name": "count",
         "type": "\"long\""
        }
       ],
       "type": "table"
      }
     },
     "output_type": "display_data"
    }
   ],
   "source": [
    "%sql\n",
    "USE CATALOG hive_metastore; \n",
    "\n",
    "SELECT city,COUNT(*) AS count\n",
    "FROM(\n",
    " SELECT explode(restaurants.restaurant.location.city) AS city\n",
    " FROM file_1)\n",
    " GROUP BY city\n",
    " ORDER BY count DESC\n",
    "\n"
   ]
  },
  {
   "cell_type": "code",
   "execution_count": 0,
   "metadata": {
    "application/vnd.databricks.v1+cell": {
     "cellMetadata": {
      "byteLimit": 2048000,
      "implicitDf": true,
      "rowLimit": 10000
     },
     "inputWidgets": {},
     "nuid": "b268cd74-557b-44aa-8e25-ed6d7882e0ab",
     "showTitle": false,
     "tableResultSettingsMap": {},
     "title": ""
    }
   },
   "outputs": [
    {
     "output_type": "display_data",
     "data": {
      "text/html": [
       "<style scoped>\n",
       "  .table-result-container {\n",
       "    max-height: 300px;\n",
       "    overflow: auto;\n",
       "  }\n",
       "  table, th, td {\n",
       "    border: 1px solid black;\n",
       "    border-collapse: collapse;\n",
       "  }\n",
       "  th, td {\n",
       "    padding: 5px;\n",
       "  }\n",
       "  th {\n",
       "    text-align: left;\n",
       "  }\n",
       "</style><div class='table-result-container'><table class='table-result'><thead style='background-color: white'><tr><th>city</th><th>count</th></tr></thead><tbody><tr><td>New Delhi</td><td>20843</td></tr><tr><td>Noida</td><td>4984</td></tr><tr><td>Gurgaon</td><td>3554</td></tr><tr><td>Guwahati</td><td>1111</td></tr><tr><td>Lucknow</td><td>796</td></tr><tr><td>Singapore</td><td>796</td></tr><tr><td>Hepburn Springs</td><td>688</td></tr><tr><td>Faridabad</td><td>658</td></tr><tr><td>Pune</td><td>532</td></tr><tr><td>Bandung</td><td>492</td></tr></tbody></table></div>"
      ]
     },
     "metadata": {
      "application/vnd.databricks.v1+output": {
       "addedWidgets": {},
       "aggData": [],
       "aggError": "",
       "aggOverflow": false,
       "aggSchema": [],
       "aggSeriesLimitReached": false,
       "aggType": "",
       "arguments": {},
       "columnCustomDisplayInfos": {},
       "data": [
        [
         "New Delhi",
         20843
        ],
        [
         "Noida",
         4984
        ],
        [
         "Gurgaon",
         3554
        ],
        [
         "Guwahati",
         1111
        ],
        [
         "Lucknow",
         796
        ],
        [
         "Singapore",
         796
        ],
        [
         "Hepburn Springs",
         688
        ],
        [
         "Faridabad",
         658
        ],
        [
         "Pune",
         532
        ],
        [
         "Bandung",
         492
        ]
       ],
       "datasetInfos": [],
       "dbfsResultPath": null,
       "isJsonSchema": true,
       "metadata": {
        "createTempViewForImplicitDf": true,
        "dataframeName": "_sqldf",
        "executionCount": 1
       },
       "overflow": false,
       "plotOptions": {
        "customPlotOptions": {},
        "displayType": "table",
        "pivotAggregation": null,
        "pivotColumns": null,
        "xColumns": null,
        "yColumns": null
       },
       "removedWidgets": [],
       "schema": [
        {
         "metadata": "{}",
         "name": "city",
         "type": "\"string\""
        },
        {
         "metadata": "{}",
         "name": "count",
         "type": "\"long\""
        }
       ],
       "type": "table"
      }
     },
     "output_type": "display_data"
    }
   ],
   "source": [
    "%sql\n",
    "USE CATALOG hive_metastore; \n",
    "\n",
    "SELECT city, COUNT(*) AS count\n",
    "FROM (\n",
    "  SELECT explode(restaurants.restaurant.location.city) AS city FROM file_1\n",
    "  UNION ALL\n",
    "  SELECT explode(restaurants.restaurant.location.city) AS city FROM file_2\n",
    "  UNION ALL\n",
    "  SELECT explode(restaurants.restaurant.location.city) AS city FROM file_3\n",
    "  UNION ALL\n",
    "  SELECT explode(restaurants.restaurant.location.city) AS city FROM file_4\n",
    ")\n",
    "GROUP BY city\n",
    "ORDER BY count DESC\n",
    "LIMIT 10;"
   ]
  },
  {
   "cell_type": "code",
   "execution_count": 0,
   "metadata": {
    "application/vnd.databricks.v1+cell": {
     "cellMetadata": {
      "byteLimit": 2048000,
      "implicitDf": true,
      "rowLimit": 10000
     },
     "inputWidgets": {},
     "nuid": "052e077f-5d8d-447d-886f-a1eb61ba804e",
     "showTitle": false,
     "tableResultSettingsMap": {},
     "title": ""
    }
   },
   "outputs": [
    {
     "output_type": "display_data",
     "data": {
      "text/html": [
       "<style scoped>\n",
       "  .table-result-container {\n",
       "    max-height: 300px;\n",
       "    overflow: auto;\n",
       "  }\n",
       "  table, th, td {\n",
       "    border: 1px solid black;\n",
       "    border-collapse: collapse;\n",
       "  }\n",
       "  th, td {\n",
       "    padding: 5px;\n",
       "  }\n",
       "  th {\n",
       "    text-align: left;\n",
       "  }\n",
       "</style><div class='table-result-container'><table class='table-result'><thead style='background-color: white'><tr><th>city</th><th>count</th></tr></thead><tbody><tr><td>New Delhi</td><td>20843</td></tr><tr><td>Noida</td><td>4984</td></tr><tr><td>Gurgaon</td><td>3554</td></tr><tr><td>Guwahati</td><td>1111</td></tr><tr><td>Lucknow</td><td>796</td></tr><tr><td>Singapore</td><td>796</td></tr><tr><td>Hepburn Springs</td><td>688</td></tr><tr><td>Faridabad</td><td>658</td></tr><tr><td>Pune</td><td>532</td></tr><tr><td>Bandung</td><td>492</td></tr></tbody></table></div>"
      ]
     },
     "metadata": {
      "application/vnd.databricks.v1+output": {
       "addedWidgets": {},
       "aggData": [],
       "aggError": "",
       "aggOverflow": false,
       "aggSchema": [],
       "aggSeriesLimitReached": false,
       "aggType": "",
       "arguments": {},
       "columnCustomDisplayInfos": {},
       "data": [
        [
         "New Delhi",
         20843
        ],
        [
         "Noida",
         4984
        ],
        [
         "Gurgaon",
         3554
        ],
        [
         "Guwahati",
         1111
        ],
        [
         "Lucknow",
         796
        ],
        [
         "Singapore",
         796
        ],
        [
         "Hepburn Springs",
         688
        ],
        [
         "Faridabad",
         658
        ],
        [
         "Pune",
         532
        ],
        [
         "Bandung",
         492
        ]
       ],
       "datasetInfos": [],
       "dbfsResultPath": null,
       "isJsonSchema": true,
       "metadata": {
        "createTempViewForImplicitDf": true,
        "dataframeName": "_sqldf",
        "executionCount": 19
       },
       "overflow": false,
       "plotOptions": {
        "customPlotOptions": {},
        "displayType": "table",
        "pivotAggregation": null,
        "pivotColumns": null,
        "xColumns": null,
        "yColumns": null
       },
       "removedWidgets": [],
       "schema": [
        {
         "metadata": "{}",
         "name": "city",
         "type": "\"string\""
        },
        {
         "metadata": "{}",
         "name": "count",
         "type": "\"long\""
        }
       ],
       "type": "table"
      }
     },
     "output_type": "display_data"
    },
    {
     "output_type": "display_data",
     "data": {
      "text/plain": [
       "Databricks visualization. Run in Databricks to view."
      ]
     },
     "metadata": {
      "application/vnd.databricks.v1.subcommand+json": {
       "baseErrorDetails": null,
       "bindings": {},
       "collapsed": false,
       "command": "%sql WITH q AS (SELECT city, COUNT(*) AS count\nFROM (\n  SELECT explode(restaurants.restaurant.location.city) AS city FROM file_1\n  UNION ALL\n  SELECT explode(restaurants.restaurant.location.city) AS city FROM file_2\n  UNION ALL\n  SELECT explode(restaurants.restaurant.location.city) AS city FROM file_3\n  UNION ALL\n  SELECT explode(restaurants.restaurant.location.city) AS city FROM file_4\n)\nGROUP BY city\nORDER BY count DESC\nLIMIT 10) SELECT `city`,SUM(`count`) `column_8fc5cde227` FROM q GROUP BY `city`",
       "commandTitle": "Visualization 1",
       "commandType": "auto",
       "commandVersion": 0,
       "commentThread": [],
       "commentsVisible": false,
       "contentSha256Hex": null,
       "customPlotOptions": {
        "redashChart": [
         {
          "key": "type",
          "value": "CHART"
         },
         {
          "key": "options",
          "value": {
           "alignYAxesAtZero": true,
           "coefficient": 1,
           "columnConfigurationMap": {
            "x": {
             "column": "city",
             "id": "column_8fc5cde226"
            },
            "y": [
             {
              "column": "count",
              "id": "column_8fc5cde227",
              "transform": "SUM"
             }
            ]
           },
           "dateTimeFormat": "DD/MM/YYYY HH:mm",
           "direction": {
            "type": "counterclockwise"
           },
           "error_y": {
            "type": "data",
            "visible": true
           },
           "globalSeriesType": "column",
           "legend": {
            "traceorder": "normal"
           },
           "missingValuesAsZero": true,
           "numberFormat": "0,0.[00000]",
           "percentFormat": "0[.]00%",
           "series": {
            "error_y": {
             "type": "data",
             "visible": true
            },
            "stacking": null
           },
           "seriesOptions": {
            "column_8fc5cde227": {
             "name": "count",
             "yAxis": 0
            }
           },
           "showDataLabels": false,
           "sizemode": "diameter",
           "sortX": true,
           "sortY": true,
           "swappedAxes": true,
           "textFormat": "",
           "useAggregationsUi": true,
           "valuesOptions": {},
           "version": 2,
           "xAxis": {
            "labels": {
             "enabled": true
            },
            "type": "-"
           },
           "yAxis": [
            {
             "type": "-"
            },
            {
             "opposite": true,
             "type": "-"
            }
           ]
          }
         }
        ]
       },
       "datasetPreviewNameToCmdIdMap": {},
       "diffDeletes": [],
       "diffInserts": [],
       "displayType": "redashChart",
       "error": null,
       "errorDetails": null,
       "errorSummary": null,
       "errorTraceType": null,
       "finishTime": 0,
       "globalVars": {},
       "guid": "",
       "height": "auto",
       "hideCommandCode": false,
       "hideCommandResult": false,
       "iPythonMetadata": null,
       "inputWidgets": {},
       "isLockedInExamMode": false,
       "latestUser": "a user",
       "latestUserId": null,
       "listResultMetadata": null,
       "metadata": {},
       "nuid": "41d983c3-a7a8-4019-ad1a-922843939644",
       "origId": 0,
       "parentHierarchy": [],
       "pivotAggregation": null,
       "pivotColumns": null,
       "position": 4.0,
       "resultDbfsErrorMessage": null,
       "resultDbfsStatus": "INLINED_IN_TREE",
       "results": null,
       "showCommandTitle": false,
       "startTime": 0,
       "state": "input",
       "streamStates": {},
       "subcommandOptions": {
        "queryPlan": {
         "groups": [
          {
           "column": "city",
           "type": "column"
          }
         ],
         "selects": [
          {
           "column": "city",
           "type": "column"
          },
          {
           "alias": "column_8fc5cde227",
           "args": [
            {
             "column": "count",
             "type": "column"
            }
           ],
           "function": "SUM",
           "type": "function"
          }
         ]
        }
       },
       "submitTime": 0,
       "subtype": "tableResultSubCmd.visualization",
       "tableResultIndex": 0,
       "tableResultSettingsMap": {},
       "useConsistentColors": false,
       "version": "CommandV1",
       "width": "auto",
       "workflows": [],
       "xColumns": null,
       "yColumns": null
      }
     },
     "output_type": "display_data"
    }
   ],
   "source": [
    "%sql\n",
    "USE CATALOG hive_metastore; \n",
    "\n",
    "SELECT city, COUNT(*) AS count\n",
    "FROM (\n",
    "  SELECT explode(restaurants.restaurant.location.city) AS city FROM file_1\n",
    "  UNION ALL\n",
    "  SELECT explode(restaurants.restaurant.location.city) AS city FROM file_2\n",
    "  UNION ALL\n",
    "  SELECT explode(restaurants.restaurant.location.city) AS city FROM file_3\n",
    "  UNION ALL\n",
    "  SELECT explode(restaurants.restaurant.location.city) AS city FROM file_4\n",
    ")\n",
    "GROUP BY city\n",
    "ORDER BY count DESC\n",
    "LIMIT 10;"
   ]
  }
 ],
 "metadata": {
  "application/vnd.databricks.v1+notebook": {
   "computePreferences": null,
   "dashboards": [],
   "environmentMetadata": {
    "base_environment": "",
    "environment_version": "2"
   },
   "language": "python",
   "notebookMetadata": {
    "mostRecentlyExecutedCommandWithImplicitDF": {
     "commandId": 8265341424722739,
     "dataframes": [
      "_sqldf"
     ]
    },
    "pythonIndentUnit": 4
   },
   "notebookName": "Restaurant Analysis Notebook 21.3",
   "widgets": {}
  },
  "language_info": {
   "name": "python"
  }
 },
 "nbformat": 4,
 "nbformat_minor": 0
}
