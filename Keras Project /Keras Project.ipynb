{
 "cells": [
  {
   "cell_type": "markdown",
   "id": "72e7d579-f2af-45ca-b11d-9162516c4fb1",
   "metadata": {},
   "source": [
    "<span style=\"font-family: 'Times New Roman'; font-size: 18px;\">\n",
    "    \n",
    "# LendingClub Loan Repayment Prediction\n",
    "## Introduction\n",
    "\n",
    "In the ever-evolving landscape of peer-to-peer lending, accurate and reliable predictions of loan repayments are crucial for both lenders and borrowers. This project focuses on leveraging historical loan data from LendingClub, the world's largest peer-to-peer lending platform, to build a predictive model that determines whether a borrower will repay their loan. By analyzing key features and trends within the dataset, this model aims to aid in assessing the risk associated with potential borrowers, thereby enhancing decision-making processes for lending.\n",
    "\n",
    "## Import libraries\n",
    "We import usual libraries\n",
    "</span>"
   ]
  },
  {
   "cell_type": "code",
   "execution_count": 128,
   "id": "a9bcdc5c-319f-4697-9d72-76761d253ff6",
   "metadata": {},
   "outputs": [],
   "source": [
    "import pandas as pd\n",
    "import numpy as np\n",
    "import matplotlib.pyplot as plt\n",
    "import seaborn as sns\n",
    "%matplotlib inline "
   ]
  },
  {
   "cell_type": "markdown",
   "id": "be1829a9-bbf8-48dc-aaca-5569ffaf3fd6",
   "metadata": {},
   "source": [
    "<span style=\"font-family: 'Times New Roman'; font-size: 18px;\">\n",
    "\n",
    "## Get the Data\n",
    "\n",
    "Pandas is utilized for loading our data into a dataframe named df.\n",
    "</span>"
   ]
  },
  {
   "cell_type": "code",
   "execution_count": 129,
   "id": "1d7ca25f-c2c7-4f2b-9009-9fc0ea731ccf",
   "metadata": {},
   "outputs": [],
   "source": [
    "df = pd.read_csv('lending_club_loan_two.csv')"
   ]
  },
  {
   "cell_type": "markdown",
   "id": "9a54f8d8-26a1-40ff-a051-f32ffd239820",
   "metadata": {},
   "source": [
    "<span style=\"font-family: 'Times New Roman'; font-size: 18px;\">\n",
    "\n",
    "\n",
    "We check out the info() methods on df. \n",
    "\n",
    "</span>\n"
   ]
  },
  {
   "cell_type": "code",
   "execution_count": 130,
   "id": "35de2258-8b02-4a9e-af40-2ddae98fc4a6",
   "metadata": {},
   "outputs": [
    {
     "name": "stdout",
     "output_type": "stream",
     "text": [
      "<class 'pandas.core.frame.DataFrame'>\n",
      "RangeIndex: 396030 entries, 0 to 396029\n",
      "Data columns (total 27 columns):\n",
      " #   Column                Non-Null Count   Dtype  \n",
      "---  ------                --------------   -----  \n",
      " 0   loan_amnt             396030 non-null  float64\n",
      " 1   term                  396030 non-null  object \n",
      " 2   int_rate              396030 non-null  float64\n",
      " 3   installment           396030 non-null  float64\n",
      " 4   grade                 396030 non-null  object \n",
      " 5   sub_grade             396030 non-null  object \n",
      " 6   emp_title             373103 non-null  object \n",
      " 7   emp_length            377729 non-null  object \n",
      " 8   home_ownership        396030 non-null  object \n",
      " 9   annual_inc            396030 non-null  float64\n",
      " 10  verification_status   396030 non-null  object \n",
      " 11  issue_d               396030 non-null  object \n",
      " 12  loan_status           396030 non-null  object \n",
      " 13  purpose               396030 non-null  object \n",
      " 14  title                 394274 non-null  object \n",
      " 15  dti                   396030 non-null  float64\n",
      " 16  earliest_cr_line      396030 non-null  object \n",
      " 17  open_acc              396030 non-null  float64\n",
      " 18  pub_rec               396030 non-null  float64\n",
      " 19  revol_bal             396030 non-null  float64\n",
      " 20  revol_util            395754 non-null  float64\n",
      " 21  total_acc             396030 non-null  float64\n",
      " 22  initial_list_status   396030 non-null  object \n",
      " 23  application_type      396030 non-null  object \n",
      " 24  mort_acc              358235 non-null  float64\n",
      " 25  pub_rec_bankruptcies  395495 non-null  float64\n",
      " 26  address               396030 non-null  object \n",
      "dtypes: float64(12), object(15)\n",
      "memory usage: 81.6+ MB\n"
     ]
    }
   ],
   "source": [
    "df.info()"
   ]
  },
  {
   "cell_type": "markdown",
   "id": "128f87aa-92ac-4bd5-bead-4b3a9d3e0f55",
   "metadata": {},
   "source": [
    "<span style=\"font-family: 'Times New Roman'; font-size: 18px;\">\n",
    "\n",
    "## Exploratory Data Analysis\n",
    "\n",
    "The count plot below shows a significant imbalance, with many more loans marked as \"Fully Paid\" compared to \"Charged Off\". This suggests that the majority of individuals in the dataset managed to pay back their loans without issues. Conducting a count plot is a beneficial approach, particularly for classification tasks, to examine the true distribution of the data. Due to this disparity, we are likely achieving high accuracy, but the real measures we need to assess our model will be precision and recall. Given the significant imbalance in our dataset, we shouldn't anticipate strong performance in those areas.\n",
    "    \n",
    "</span>"
   ]
  },
  {
   "cell_type": "code",
   "execution_count": 131,
   "id": "25e2b98f-748b-47af-a1ba-2873c06ae11b",
   "metadata": {},
   "outputs": [
    {
     "data": {
      "text/plain": [
       "<Axes: xlabel='loan_status', ylabel='count'>"
      ]
     },
     "execution_count": 131,
     "metadata": {},
     "output_type": "execute_result"
    },
    {
     "data": {
      "image/png": "[encoded data removed]",
      "text/plain": [
       "<Figure size 640x480 with 1 Axes>"
      ]
     },
     "metadata": {},
     "output_type": "display_data"
    }
   ],
   "source": [
    "sns.countplot(x='loan_status',data=df, hue='loan_status', palette='viridis')"
   ]
  },
  {
   "cell_type": "markdown",
   "id": "fdd21c83-dffb-494a-b4c4-40beaf40ee44",
   "metadata": {},
   "source": [
    "<span style=\"font-family: 'Times New Roman'; font-size: 18px;\">\n",
    "\n",
    "To explore the distribution of loan amounts, we created a histogram of the loan_amnt column. \n",
    "The resulting histogram reveals significant peaks around the 5,000 and 10,000 dollars, indicating these\n",
    "amounts are the most common loan sizes among borrowers in our dataset. This insight is crucial for understanding\n",
    "borrower behavior and tailoring financial products to meet their needs effectively.\n",
    "\n",
    "</span>"
   ]
  },
  {
   "cell_type": "code",
   "execution_count": 132,
   "id": "1f2215af-2a78-4cac-934e-147e60a55287",
   "metadata": {},
   "outputs": [
    {
     "name": "stderr",
     "output_type": "stream",
     "text": [
      "C:\\Users\\rojin\\AppData\\Local\\Temp\\ipykernel_14876\\238418593.py:2: UserWarning: \n",
      "\n",
      "`distplot` is a deprecated function and will be removed in seaborn v0.14.0.\n",
      "\n",
      "Please adapt your code to use either `displot` (a figure-level function with\n",
      "similar flexibility) or `histplot` (an axes-level function for histograms).\n",
      "\n",
      "For a guide to updating your code to use the new functions, please see\n",
      "https://gist.github.com/mwaskom/de44147ed2974457ad6372750bbe5751\n",
      "\n",
      "  sns.distplot(df['loan_amnt'], kde=False, bins=40)\n"
     ]
    },
    {
     "data": {
      "text/plain": [
       "<Axes: xlabel='loan_amnt'>"
      ]
     },
     "execution_count": 132,
     "metadata": {},
     "output_type": "execute_result"
    },
    {
     "data": {
      "image/png": "[encoded data removed]",
      "text/plain": [
       "<Figure size 1200x400 with 1 Axes>"
      ]
     },
     "metadata": {},
     "output_type": "display_data"
    }
   ],
   "source": [
    "plt.figure(figsize=(12,4))\n",
    "sns.distplot(df['loan_amnt'], kde=False, bins=40)"
   ]
  },
  {
   "cell_type": "code",
   "execution_count": 133,
   "id": "6c7e5803-3e82-433e-93c8-3e59310ebf79",
   "metadata": {},
   "outputs": [
    {
     "name": "stdout",
     "output_type": "stream",
     "text": [
      "[10000.  8000. 15600. ... 36275. 36475.   725.]\n"
     ]
    }
   ],
   "source": [
    "print(df['loan_amnt'].unique())  # Replace 'loan_term' with the actual column name\n"
   ]
  },
  {
   "cell_type": "code",
   "execution_count": 134,
   "id": "34de3e73-4963-4261-8e5c-7e232d675926",
   "metadata": {},
   "outputs": [
    {
     "data": {
      "text/html": [
       "<div>\n",
       "<style scoped>\n",
       "    .dataframe tbody tr th:only-of-type {\n",
       "        vertical-align: middle;\n",
       "    }\n",
       "\n",
       "    .dataframe tbody tr th {\n",
       "        vertical-align: top;\n",
       "    }\n",
       "\n",
       "    .dataframe thead th {\n",
       "        text-align: right;\n",
       "    }\n",
       "</style>\n",
       "<table border=\"1\" class=\"dataframe\">\n",
       "  <thead>\n",
       "    <tr style=\"text-align: right;\">\n",
       "      <th></th>\n",
       "      <th>loan_amnt</th>\n",
       "      <th>term</th>\n",
       "      <th>int_rate</th>\n",
       "      <th>installment</th>\n",
       "      <th>grade</th>\n",
       "      <th>sub_grade</th>\n",
       "      <th>emp_title</th>\n",
       "      <th>emp_length</th>\n",
       "      <th>home_ownership</th>\n",
       "      <th>annual_inc</th>\n",
       "      <th>...</th>\n",
       "      <th>open_acc</th>\n",
       "      <th>pub_rec</th>\n",
       "      <th>revol_bal</th>\n",
       "      <th>revol_util</th>\n",
       "      <th>total_acc</th>\n",
       "      <th>initial_list_status</th>\n",
       "      <th>application_type</th>\n",
       "      <th>mort_acc</th>\n",
       "      <th>pub_rec_bankruptcies</th>\n",
       "      <th>address</th>\n",
       "    </tr>\n",
       "  </thead>\n",
       "  <tbody>\n",
       "    <tr>\n",
       "      <th>0</th>\n",
       "      <td>10000.0</td>\n",
       "      <td>36 months</td>\n",
       "      <td>11.44</td>\n",
       "      <td>329.48</td>\n",
       "      <td>B</td>\n",
       "      <td>B4</td>\n",
       "      <td>Marketing</td>\n",
       "      <td>10+ years</td>\n",
       "      <td>RENT</td>\n",
       "      <td>117000.0</td>\n",
       "      <td>...</td>\n",
       "      <td>16.0</td>\n",
       "      <td>0.0</td>\n",
       "      <td>36369.0</td>\n",
       "      <td>41.8</td>\n",
       "      <td>25.0</td>\n",
       "      <td>w</td>\n",
       "      <td>INDIVIDUAL</td>\n",
       "      <td>0.0</td>\n",
       "      <td>0.0</td>\n",
       "      <td>0174 Michelle Gateway\\nMendozaberg, OK 22690</td>\n",
       "    </tr>\n",
       "    <tr>\n",
       "      <th>1</th>\n",
       "      <td>8000.0</td>\n",
       "      <td>36 months</td>\n",
       "      <td>11.99</td>\n",
       "      <td>265.68</td>\n",
       "      <td>B</td>\n",
       "      <td>B5</td>\n",
       "      <td>Credit analyst</td>\n",
       "      <td>4 years</td>\n",
       "      <td>MORTGAGE</td>\n",
       "      <td>65000.0</td>\n",
       "      <td>...</td>\n",
       "      <td>17.0</td>\n",
       "      <td>0.0</td>\n",
       "      <td>20131.0</td>\n",
       "      <td>53.3</td>\n",
       "      <td>27.0</td>\n",
       "      <td>f</td>\n",
       "      <td>INDIVIDUAL</td>\n",
       "      <td>3.0</td>\n",
       "      <td>0.0</td>\n",
       "      <td>1076 Carney Fort Apt. 347\\nLoganmouth, SD 05113</td>\n",
       "    </tr>\n",
       "    <tr>\n",
       "      <th>2</th>\n",
       "      <td>15600.0</td>\n",
       "      <td>36 months</td>\n",
       "      <td>10.49</td>\n",
       "      <td>506.97</td>\n",
       "      <td>B</td>\n",
       "      <td>B3</td>\n",
       "      <td>Statistician</td>\n",
       "      <td>&lt; 1 year</td>\n",
       "      <td>RENT</td>\n",
       "      <td>43057.0</td>\n",
       "      <td>...</td>\n",
       "      <td>13.0</td>\n",
       "      <td>0.0</td>\n",
       "      <td>11987.0</td>\n",
       "      <td>92.2</td>\n",
       "      <td>26.0</td>\n",
       "      <td>f</td>\n",
       "      <td>INDIVIDUAL</td>\n",
       "      <td>0.0</td>\n",
       "      <td>0.0</td>\n",
       "      <td>87025 Mark Dale Apt. 269\\nNew Sabrina, WV 05113</td>\n",
       "    </tr>\n",
       "    <tr>\n",
       "      <th>3</th>\n",
       "      <td>7200.0</td>\n",
       "      <td>36 months</td>\n",
       "      <td>6.49</td>\n",
       "      <td>220.65</td>\n",
       "      <td>A</td>\n",
       "      <td>A2</td>\n",
       "      <td>Client Advocate</td>\n",
       "      <td>6 years</td>\n",
       "      <td>RENT</td>\n",
       "      <td>54000.0</td>\n",
       "      <td>...</td>\n",
       "      <td>6.0</td>\n",
       "      <td>0.0</td>\n",
       "      <td>5472.0</td>\n",
       "      <td>21.5</td>\n",
       "      <td>13.0</td>\n",
       "      <td>f</td>\n",
       "      <td>INDIVIDUAL</td>\n",
       "      <td>0.0</td>\n",
       "      <td>0.0</td>\n",
       "      <td>823 Reid Ford\\nDelacruzside, MA 00813</td>\n",
       "    </tr>\n",
       "    <tr>\n",
       "      <th>4</th>\n",
       "      <td>24375.0</td>\n",
       "      <td>60 months</td>\n",
       "      <td>17.27</td>\n",
       "      <td>609.33</td>\n",
       "      <td>C</td>\n",
       "      <td>C5</td>\n",
       "      <td>Destiny Management Inc.</td>\n",
       "      <td>9 years</td>\n",
       "      <td>MORTGAGE</td>\n",
       "      <td>55000.0</td>\n",
       "      <td>...</td>\n",
       "      <td>13.0</td>\n",
       "      <td>0.0</td>\n",
       "      <td>24584.0</td>\n",
       "      <td>69.8</td>\n",
       "      <td>43.0</td>\n",
       "      <td>f</td>\n",
       "      <td>INDIVIDUAL</td>\n",
       "      <td>1.0</td>\n",
       "      <td>0.0</td>\n",
       "      <td>679 Luna Roads\\nGreggshire, VA 11650</td>\n",
       "    </tr>\n",
       "    <tr>\n",
       "      <th>...</th>\n",
       "      <td>...</td>\n",
       "      <td>...</td>\n",
       "      <td>...</td>\n",
       "      <td>...</td>\n",
       "      <td>...</td>\n",
       "      <td>...</td>\n",
       "      <td>...</td>\n",
       "      <td>...</td>\n",
       "      <td>...</td>\n",
       "      <td>...</td>\n",
       "      <td>...</td>\n",
       "      <td>...</td>\n",
       "      <td>...</td>\n",
       "      <td>...</td>\n",
       "      <td>...</td>\n",
       "      <td>...</td>\n",
       "      <td>...</td>\n",
       "      <td>...</td>\n",
       "      <td>...</td>\n",
       "      <td>...</td>\n",
       "      <td>...</td>\n",
       "    </tr>\n",
       "    <tr>\n",
       "      <th>396025</th>\n",
       "      <td>10000.0</td>\n",
       "      <td>60 months</td>\n",
       "      <td>10.99</td>\n",
       "      <td>217.38</td>\n",
       "      <td>B</td>\n",
       "      <td>B4</td>\n",
       "      <td>licensed bankere</td>\n",
       "      <td>2 years</td>\n",
       "      <td>RENT</td>\n",
       "      <td>40000.0</td>\n",
       "      <td>...</td>\n",
       "      <td>6.0</td>\n",
       "      <td>0.0</td>\n",
       "      <td>1990.0</td>\n",
       "      <td>34.3</td>\n",
       "      <td>23.0</td>\n",
       "      <td>w</td>\n",
       "      <td>INDIVIDUAL</td>\n",
       "      <td>0.0</td>\n",
       "      <td>0.0</td>\n",
       "      <td>12951 Williams Crossing\\nJohnnyville, DC 30723</td>\n",
       "    </tr>\n",
       "    <tr>\n",
       "      <th>396026</th>\n",
       "      <td>21000.0</td>\n",
       "      <td>36 months</td>\n",
       "      <td>12.29</td>\n",
       "      <td>700.42</td>\n",
       "      <td>C</td>\n",
       "      <td>C1</td>\n",
       "      <td>Agent</td>\n",
       "      <td>5 years</td>\n",
       "      <td>MORTGAGE</td>\n",
       "      <td>110000.0</td>\n",
       "      <td>...</td>\n",
       "      <td>6.0</td>\n",
       "      <td>0.0</td>\n",
       "      <td>43263.0</td>\n",
       "      <td>95.7</td>\n",
       "      <td>8.0</td>\n",
       "      <td>f</td>\n",
       "      <td>INDIVIDUAL</td>\n",
       "      <td>1.0</td>\n",
       "      <td>0.0</td>\n",
       "      <td>0114 Fowler Field Suite 028\\nRachelborough, LA...</td>\n",
       "    </tr>\n",
       "    <tr>\n",
       "      <th>396027</th>\n",
       "      <td>5000.0</td>\n",
       "      <td>36 months</td>\n",
       "      <td>9.99</td>\n",
       "      <td>161.32</td>\n",
       "      <td>B</td>\n",
       "      <td>B1</td>\n",
       "      <td>City Carrier</td>\n",
       "      <td>10+ years</td>\n",
       "      <td>RENT</td>\n",
       "      <td>56500.0</td>\n",
       "      <td>...</td>\n",
       "      <td>15.0</td>\n",
       "      <td>0.0</td>\n",
       "      <td>32704.0</td>\n",
       "      <td>66.9</td>\n",
       "      <td>23.0</td>\n",
       "      <td>f</td>\n",
       "      <td>INDIVIDUAL</td>\n",
       "      <td>0.0</td>\n",
       "      <td>0.0</td>\n",
       "      <td>953 Matthew Points Suite 414\\nReedfort, NY 70466</td>\n",
       "    </tr>\n",
       "    <tr>\n",
       "      <th>396028</th>\n",
       "      <td>21000.0</td>\n",
       "      <td>60 months</td>\n",
       "      <td>15.31</td>\n",
       "      <td>503.02</td>\n",
       "      <td>C</td>\n",
       "      <td>C2</td>\n",
       "      <td>Gracon Services, Inc</td>\n",
       "      <td>10+ years</td>\n",
       "      <td>MORTGAGE</td>\n",
       "      <td>64000.0</td>\n",
       "      <td>...</td>\n",
       "      <td>9.0</td>\n",
       "      <td>0.0</td>\n",
       "      <td>15704.0</td>\n",
       "      <td>53.8</td>\n",
       "      <td>20.0</td>\n",
       "      <td>f</td>\n",
       "      <td>INDIVIDUAL</td>\n",
       "      <td>5.0</td>\n",
       "      <td>0.0</td>\n",
       "      <td>7843 Blake Freeway Apt. 229\\nNew Michael, FL 2...</td>\n",
       "    </tr>\n",
       "    <tr>\n",
       "      <th>396029</th>\n",
       "      <td>2000.0</td>\n",
       "      <td>36 months</td>\n",
       "      <td>13.61</td>\n",
       "      <td>67.98</td>\n",
       "      <td>C</td>\n",
       "      <td>C2</td>\n",
       "      <td>Internal Revenue Service</td>\n",
       "      <td>10+ years</td>\n",
       "      <td>RENT</td>\n",
       "      <td>42996.0</td>\n",
       "      <td>...</td>\n",
       "      <td>3.0</td>\n",
       "      <td>0.0</td>\n",
       "      <td>4292.0</td>\n",
       "      <td>91.3</td>\n",
       "      <td>19.0</td>\n",
       "      <td>f</td>\n",
       "      <td>INDIVIDUAL</td>\n",
       "      <td>NaN</td>\n",
       "      <td>0.0</td>\n",
       "      <td>787 Michelle Causeway\\nBriannaton, AR 48052</td>\n",
       "    </tr>\n",
       "  </tbody>\n",
       "</table>\n",
       "<p>396030 rows × 27 columns</p>\n",
       "</div>"
      ],
      "text/plain": [
       "        loan_amnt        term  int_rate  installment grade sub_grade  \\\n",
       "0         10000.0   36 months     11.44       329.48     B        B4   \n",
       "1          8000.0   36 months     11.99       265.68     B        B5   \n",
       "2         15600.0   36 months     10.49       506.97     B        B3   \n",
       "3          7200.0   36 months      6.49       220.65     A        A2   \n",
       "4         24375.0   60 months     17.27       609.33     C        C5   \n",
       "...           ...         ...       ...          ...   ...       ...   \n",
       "396025    10000.0   60 months     10.99       217.38     B        B4   \n",
       "396026    21000.0   36 months     12.29       700.42     C        C1   \n",
       "396027     5000.0   36 months      9.99       161.32     B        B1   \n",
       "396028    21000.0   60 months     15.31       503.02     C        C2   \n",
       "396029     2000.0   36 months     13.61        67.98     C        C2   \n",
       "\n",
       "                       emp_title emp_length home_ownership  annual_inc  ...  \\\n",
       "0                      Marketing  10+ years           RENT    117000.0  ...   \n",
       "1                Credit analyst     4 years       MORTGAGE     65000.0  ...   \n",
       "2                   Statistician   < 1 year           RENT     43057.0  ...   \n",
       "3                Client Advocate    6 years           RENT     54000.0  ...   \n",
       "4        Destiny Management Inc.    9 years       MORTGAGE     55000.0  ...   \n",
       "...                          ...        ...            ...         ...  ...   \n",
       "396025          licensed bankere    2 years           RENT     40000.0  ...   \n",
       "396026                     Agent    5 years       MORTGAGE    110000.0  ...   \n",
       "396027              City Carrier  10+ years           RENT     56500.0  ...   \n",
       "396028      Gracon Services, Inc  10+ years       MORTGAGE     64000.0  ...   \n",
       "396029  Internal Revenue Service  10+ years           RENT     42996.0  ...   \n",
       "\n",
       "       open_acc pub_rec revol_bal revol_util total_acc  initial_list_status  \\\n",
       "0          16.0     0.0   36369.0       41.8      25.0                    w   \n",
       "1          17.0     0.0   20131.0       53.3      27.0                    f   \n",
       "2          13.0     0.0   11987.0       92.2      26.0                    f   \n",
       "3           6.0     0.0    5472.0       21.5      13.0                    f   \n",
       "4          13.0     0.0   24584.0       69.8      43.0                    f   \n",
       "...         ...     ...       ...        ...       ...                  ...   \n",
       "396025      6.0     0.0    1990.0       34.3      23.0                    w   \n",
       "396026      6.0     0.0   43263.0       95.7       8.0                    f   \n",
       "396027     15.0     0.0   32704.0       66.9      23.0                    f   \n",
       "396028      9.0     0.0   15704.0       53.8      20.0                    f   \n",
       "396029      3.0     0.0    4292.0       91.3      19.0                    f   \n",
       "\n",
       "       application_type  mort_acc  pub_rec_bankruptcies  \\\n",
       "0            INDIVIDUAL       0.0                   0.0   \n",
       "1            INDIVIDUAL       3.0                   0.0   \n",
       "2            INDIVIDUAL       0.0                   0.0   \n",
       "3            INDIVIDUAL       0.0                   0.0   \n",
       "4            INDIVIDUAL       1.0                   0.0   \n",
       "...                 ...       ...                   ...   \n",
       "396025       INDIVIDUAL       0.0                   0.0   \n",
       "396026       INDIVIDUAL       1.0                   0.0   \n",
       "396027       INDIVIDUAL       0.0                   0.0   \n",
       "396028       INDIVIDUAL       5.0                   0.0   \n",
       "396029       INDIVIDUAL       NaN                   0.0   \n",
       "\n",
       "                                                  address  \n",
       "0            0174 Michelle Gateway\\nMendozaberg, OK 22690  \n",
       "1         1076 Carney Fort Apt. 347\\nLoganmouth, SD 05113  \n",
       "2         87025 Mark Dale Apt. 269\\nNew Sabrina, WV 05113  \n",
       "3                   823 Reid Ford\\nDelacruzside, MA 00813  \n",
       "4                    679 Luna Roads\\nGreggshire, VA 11650  \n",
       "...                                                   ...  \n",
       "396025     12951 Williams Crossing\\nJohnnyville, DC 30723  \n",
       "396026  0114 Fowler Field Suite 028\\nRachelborough, LA...  \n",
       "396027   953 Matthew Points Suite 414\\nReedfort, NY 70466  \n",
       "396028  7843 Blake Freeway Apt. 229\\nNew Michael, FL 2...  \n",
       "396029        787 Michelle Causeway\\nBriannaton, AR 48052  \n",
       "\n",
       "[396030 rows x 27 columns]"
      ]
     },
     "execution_count": 134,
     "metadata": {},
     "output_type": "execute_result"
    }
   ],
   "source": [
    "df"
   ]
  },
  {
   "cell_type": "markdown",
   "id": "a32ec005-0586-476a-bdaa-d152b702f0fd",
   "metadata": {
    "jp-MarkdownHeadingCollapsed": true
   },
   "source": [
    "<span style=\"font-family: 'Times New Roman'; font-size: 18px;\">\n",
    "Let's explore the correlation between continuous feature variables. Beforehand, we need to handle non-numerical columns to be able to apply statistical methods, this is done by using frequency rather than simple coding into integers.\n",
    " </span>\n"
   ]
  },
  {
   "cell_type": "code",
   "execution_count": 135,
   "id": "a4cae7ff-e128-42e5-a75e-160c2a0585cd",
   "metadata": {},
   "outputs": [
    {
     "name": "stdout",
     "output_type": "stream",
     "text": [
      "Columns that cannot be converted to float: ['term', 'grade', 'sub_grade', 'emp_title', 'emp_length', 'home_ownership', 'verification_status', 'issue_d', 'loan_status', 'purpose', 'title', 'earliest_cr_line', 'initial_list_status', 'application_type', 'address']\n"
     ]
    }
   ],
   "source": [
    "# Identify non-numeric columns\n",
    "non_numeric_columns = []\n",
    "for column in df.columns:\n",
    "    try:\n",
    "        df[column].astype(float)\n",
    "    except ValueError:\n",
    "        non_numeric_columns.append(column)\n",
    "\n",
    "print(\"Columns that cannot be converted to float:\", non_numeric_columns)\n",
    "\n",
    "\n",
    "# Apply frequency encoding to non-numeric columns\n",
    "for column in non_numeric_columns:\n",
    "    freq_encoding = df[column].value_counts().to_dict()\n",
    "    df[column] = df[column].map(freq_encoding)\n",
    "\n"
   ]
  },
  {
   "cell_type": "markdown",
   "id": "73263fb7-e794-4e9b-ac04-03f42f42aa66",
   "metadata": {},
   "source": [
    "<span style=\"font-family: 'Times New Roman'; font-size: 18px;\">\n",
    "Now we want to visualize the correlation that we have calculated.This heatmap illustrates the different relationships among features, revealing a perfect correlation along the diagonal. Additionally, there is a strong correlation with the installment feature, and the loan amount shows a correlation of 0.95 with installments, prompting us to investigate this feature in more detail.</span>\n"
   ]
  },
  {
   "cell_type": "code",
   "execution_count": 136,
   "id": "4e0d22ce-b0e9-4734-a144-ec6ee803f5d1",
   "metadata": {},
   "outputs": [
    {
     "data": {
      "text/plain": [
       "<Axes: >"
      ]
     },
     "execution_count": 136,
     "metadata": {},
     "output_type": "execute_result"
    },
    {
     "data": {
      "image/png": "[encoded data removed]",
      "text/plain": [
       "<Figure size 1400x1000 with 2 Axes>"
      ]
     },
     "metadata": {},
     "output_type": "display_data"
    }
   ],
   "source": [
    "plt.figure(figsize=(14,10))\n",
    "sns.heatmap(df.corr(),cmap='viridis')"
   ]
  },
  {
   "cell_type": "code",
   "execution_count": 137,
   "id": "8396a21c-ebaf-4abd-b913-992bc387dd41",
   "metadata": {},
   "outputs": [],
   "source": [
    "#non_numeric_columns = ['grade', 'sub_grade', 'emp_title', 'home_ownership', 'verification_status', 'issue_d', 'loan_status', 'purpose', 'earliest_cr_line', 'initial_list_status', 'application_type']\n",
    "\n",
    "# Ensure only existing columns are dropped\n",
    "#columns_to_drop = [col for col in non_numeric_columns if col in df.columns]\n",
    "#df.drop(columns=columns_to_drop, inplace=True)\n"
   ]
  },
  {
   "cell_type": "markdown",
   "id": "2db5e00e-f50b-429f-9a75-82966ffb7ba0",
   "metadata": {},
   "source": [
    "<span style=\"font-family: 'Times New Roman'; font-size: 18px;\">\n",
    "Upon examining the features of loan amount and installment, it becomes clear that there is a strong relationship between the two. This correlation likely stems from an internal formula utilized by the company, which is quite logical. When you lend a person one million dollars, it’s reasonable to anticipate that, based on a certain calculation, your monthly repayment amounts will be significantly elevated. You’re likely to apply that same formula even when you lend a person a thousand bucks. It is probable that there will be a connection between those payments. It appears that they are employing a specific calculation method that directly relates to the size of the loan in order to determine the appropriate payment amount. To validate this, we could generate a scatter plot. </span>"
   ]
  },
  {
   "cell_type": "code",
   "execution_count": 139,
   "id": "7e05d371-857f-4b75-b074-b12815c8b935",
   "metadata": {},
   "outputs": [],
   "source": [
    "#feat_info('loan_amnt')"
   ]
  },
  {
   "cell_type": "code",
   "execution_count": 141,
   "id": "ec20b2f1-ae66-4362-b70b-d8e6f2e60ab5",
   "metadata": {},
   "outputs": [],
   "source": [
    "#feat_info('installment')"
   ]
  },
  {
   "cell_type": "code",
   "execution_count": 142,
   "id": "3471c3fe-9c2d-445d-88e7-f42027cd9fc5",
   "metadata": {},
   "outputs": [
    {
     "data": {
      "text/plain": [
       "<Axes: xlabel='installment', ylabel='loan_amnt'>"
      ]
     },
     "execution_count": 142,
     "metadata": {},
     "output_type": "execute_result"
    },
    {
     "data": {
      "image/png": "[encoded data removed]",
      "text/plain": [
       "<Figure size 640x480 with 1 Axes>"
      ]
     },
     "metadata": {},
     "output_type": "display_data"
    }
   ],
   "source": [
    "sns.scatterplot(x='installment',y='loan_amnt',data=df)"
   ]
  },
  {
   "cell_type": "code",
   "execution_count": 143,
   "id": "58fee4cf-654b-4111-a831-f06d0d631d9e",
   "metadata": {},
   "outputs": [
    {
     "data": {
      "text/plain": [
       "Index(['loan_amnt', 'term', 'int_rate', 'installment', 'grade', 'sub_grade',\n",
       "       'emp_title', 'emp_length', 'home_ownership', 'annual_inc',\n",
       "       'verification_status', 'issue_d', 'loan_status', 'purpose', 'title',\n",
       "       'dti', 'earliest_cr_line', 'open_acc', 'pub_rec', 'revol_bal',\n",
       "       'revol_util', 'total_acc', 'initial_list_status', 'application_type',\n",
       "       'mort_acc', 'pub_rec_bankruptcies', 'address'],\n",
       "      dtype='object')"
      ]
     },
     "execution_count": 143,
     "metadata": {},
     "output_type": "execute_result"
    }
   ],
   "source": [
    "df.columns"
   ]
  },
  {
   "cell_type": "code",
   "execution_count": 144,
   "id": "2e0ca7e8-6f22-429f-86e2-3dc082007581",
   "metadata": {},
   "outputs": [
    {
     "data": {
      "text/plain": [
       "array([116018,  64187, 105987,  31488,  63524,  11772,   3054],\n",
       "      dtype=int64)"
      ]
     },
     "execution_count": 144,
     "metadata": {},
     "output_type": "execute_result"
    }
   ],
   "source": [
    "df['grade'].unique()"
   ]
  },
  {
   "cell_type": "markdown",
   "id": "7d9dd005-8b05-4ad8-ae19-d1901fdc4578",
   "metadata": {},
   "source": [
    "\n",
    "<span style=\"font-family: 'Times New Roman'; font-size: 18px;\">\n",
    "\n",
    "In this section, we document our original dataframe, referred to as df1, and proceed with our tasks using it.  \n",
    "\n",
    " </span>\n",
    "\n"
   ]
  },
  {
   "cell_type": "code",
   "execution_count": 145,
   "id": "2c5bd681-5181-4e34-9f36-873dbe2efe74",
   "metadata": {},
   "outputs": [],
   "source": [
    "df1 = pd.read_csv('lending_club_loan_two.csv')"
   ]
  },
  {
   "cell_type": "markdown",
   "id": "d4e03307-20f0-49fb-ba24-ca7569594904",
   "metadata": {},
   "source": [
    "<span style=\"font-family: 'Times New Roman'; font-size: 18px;\">\n",
    "Our next step is to generate a box plot that illustrates the correlation \n",
    "    between the status of loans and their respective amounts. This box plot illustrates the response to the inquiry regarding the connection between high-cost loans and the inability to repay them, as well as low-value loans that are fully paid off. It enables us to investigate this relationship, and overall, the results appear quite similar. The average for charged-off loans is slightly elevated in this box plot, indicating that a higher loan amount correlates with a marginally greater chance of default. Which again intuitively makes sense that it's harder to pay back larger loans than smaller ones.   </span>"
   ]
  },
  {
   "cell_type": "code",
   "execution_count": 146,
   "id": "21dfebf1-34b9-46fc-9845-3b9e5d1f3311",
   "metadata": {},
   "outputs": [
    {
     "name": "stderr",
     "output_type": "stream",
     "text": [
      "C:\\Users\\rojin\\AppData\\Local\\Temp\\ipykernel_14876\\1545644459.py:1: FutureWarning: \n",
      "\n",
      "Passing `palette` without assigning `hue` is deprecated and will be removed in v0.14.0. Assign the `x` variable to `hue` and set `legend=False` for the same effect.\n",
      "\n",
      "  sns.boxplot(x='loan_status', y='loan_amnt',data=df1, palette='Set2')\n"
     ]
    },
    {
     "data": {
      "text/plain": [
       "<Axes: xlabel='loan_status', ylabel='loan_amnt'>"
      ]
     },
     "execution_count": 146,
     "metadata": {},
     "output_type": "execute_result"
    },
    {
     "data": {
      "image/png": "[encoded data removed]",
      "text/plain": [
       "<Figure size 640x480 with 1 Axes>"
      ]
     },
     "metadata": {},
     "output_type": "display_data"
    }
   ],
   "source": [
    "sns.boxplot(x='loan_status', y='loan_amnt',data=df1, palette='Set2')"
   ]
  },
  {
   "cell_type": "markdown",
   "id": "2431d5a7-8819-49e1-b66b-1fd72ec55115",
   "metadata": {},
   "source": [
    "<span style=\"font-family: 'Times New Roman'; font-size: 18px;\">\n",
    "\n",
    "In this section, we compute the summary statistics for the loan amounts, grouped according to their loan status.\n",
    "The table below shows us the quantitative \n",
    "numbers behind this box plot. Here we can see that the charged off average price is a little higher than the fully paid loan. \n",
    "So, the averages of the loans for people that aren't able to pay them back are slightly higher than the averages\n",
    "for people that do pay off their loans. \n",
    "    \n",
    "   </span>"
   ]
  },
  {
   "cell_type": "code",
   "execution_count": 147,
   "id": "6430ae72-0844-4715-a6fb-8fc4d3ee48ca",
   "metadata": {},
   "outputs": [
    {
     "data": {
      "text/html": [
       "<div>\n",
       "<style scoped>\n",
       "    .dataframe tbody tr th:only-of-type {\n",
       "        vertical-align: middle;\n",
       "    }\n",
       "\n",
       "    .dataframe tbody tr th {\n",
       "        vertical-align: top;\n",
       "    }\n",
       "\n",
       "    .dataframe thead th {\n",
       "        text-align: right;\n",
       "    }\n",
       "</style>\n",
       "<table border=\"1\" class=\"dataframe\">\n",
       "  <thead>\n",
       "    <tr style=\"text-align: right;\">\n",
       "      <th></th>\n",
       "      <th>count</th>\n",
       "      <th>mean</th>\n",
       "      <th>std</th>\n",
       "      <th>min</th>\n",
       "      <th>25%</th>\n",
       "      <th>50%</th>\n",
       "      <th>75%</th>\n",
       "      <th>max</th>\n",
       "    </tr>\n",
       "    <tr>\n",
       "      <th>loan_status</th>\n",
       "      <th></th>\n",
       "      <th></th>\n",
       "      <th></th>\n",
       "      <th></th>\n",
       "      <th></th>\n",
       "      <th></th>\n",
       "      <th></th>\n",
       "      <th></th>\n",
       "    </tr>\n",
       "  </thead>\n",
       "  <tbody>\n",
       "    <tr>\n",
       "      <th>Charged Off</th>\n",
       "      <td>77673.0</td>\n",
       "      <td>15126.300967</td>\n",
       "      <td>8505.090557</td>\n",
       "      <td>1000.0</td>\n",
       "      <td>8525.0</td>\n",
       "      <td>14000.0</td>\n",
       "      <td>20000.0</td>\n",
       "      <td>40000.0</td>\n",
       "    </tr>\n",
       "    <tr>\n",
       "      <th>Fully Paid</th>\n",
       "      <td>318357.0</td>\n",
       "      <td>13866.878771</td>\n",
       "      <td>8302.319699</td>\n",
       "      <td>500.0</td>\n",
       "      <td>7500.0</td>\n",
       "      <td>12000.0</td>\n",
       "      <td>19225.0</td>\n",
       "      <td>40000.0</td>\n",
       "    </tr>\n",
       "  </tbody>\n",
       "</table>\n",
       "</div>"
      ],
      "text/plain": [
       "                count          mean          std     min     25%      50%  \\\n",
       "loan_status                                                                 \n",
       "Charged Off   77673.0  15126.300967  8505.090557  1000.0  8525.0  14000.0   \n",
       "Fully Paid   318357.0  13866.878771  8302.319699   500.0  7500.0  12000.0   \n",
       "\n",
       "                 75%      max  \n",
       "loan_status                    \n",
       "Charged Off  20000.0  40000.0  \n",
       "Fully Paid   19225.0  40000.0  "
      ]
     },
     "execution_count": 147,
     "metadata": {},
     "output_type": "execute_result"
    }
   ],
   "source": [
    "df1.groupby('loan_status')['loan_amnt'].describe()"
   ]
  },
  {
   "cell_type": "markdown",
   "id": "3f9d53fc-6561-4ded-8989-de2fd433be67",
   "metadata": {},
   "source": [
    "<span style=\"font-family: 'Times New Roman'; font-size: 18px;\">\n",
    "    \n",
    "Following that, we examine the columns for grade and sub-grade that LendingClub assigns to its loans. The primary question focuses on determining the various grades along with their specific subgrades. By employing the .unique() method, we can extract unique values. The subgrades reveal details about the primary grade, as they include both the letter grade and an additional character that provides further context. \n",
    "\n",
    " </span>"
   ]
  },
  {
   "cell_type": "code",
   "execution_count": 148,
   "id": "1a981403-1da5-4a9a-a5d3-2ad95563ac31",
   "metadata": {},
   "outputs": [
    {
     "data": {
      "text/plain": [
       "array(['B', 'A', 'C', 'E', 'D', 'F', 'G'], dtype=object)"
      ]
     },
     "execution_count": 148,
     "metadata": {},
     "output_type": "execute_result"
    }
   ],
   "source": [
    "df1['grade'].unique()"
   ]
  },
  {
   "cell_type": "code",
   "execution_count": 149,
   "id": "230d609b-756e-4b9d-bd0e-0fd963a9f32e",
   "metadata": {},
   "outputs": [
    {
     "data": {
      "text/plain": [
       "array(['B4', 'B5', 'B3', 'A2', 'C5', 'C3', 'A1', 'B2', 'C1', 'A5', 'E4',\n",
       "       'A4', 'A3', 'D1', 'C2', 'B1', 'D3', 'D5', 'D2', 'E1', 'E2', 'E5',\n",
       "       'F4', 'E3', 'D4', 'G1', 'F5', 'G2', 'C4', 'F1', 'F3', 'G5', 'G4',\n",
       "       'F2', 'G3'], dtype=object)"
      ]
     },
     "execution_count": 149,
     "metadata": {},
     "output_type": "execute_result"
    }
   ],
   "source": [
    "df1['sub_grade'].unique()"
   ]
  },
  {
   "cell_type": "markdown",
   "id": "735505da-789a-4810-91e2-e9f73a5e7e5d",
   "metadata": {},
   "source": [
    "<span style=\"font-family: 'Times New Roman'; font-size: 18px;\">\n",
    "    \n",
    " Our goal is to generate a count plot for each grade, with the loan status label represented by different colors. This approach allows us to determine whether there is a distinction between completely settling your debt or having it written off according to your score. \n",
    "<br>The count plot illustrates a distinct correlation, indicating that the proportion of loans that have been charged off appears to rise with higher letter grades. It appears that the top-tier clients receive an A rating, while those in the next tier are assigned grades such as B, C, D, and so on. \n",
    " </span>"
   ]
  },
  {
   "cell_type": "code",
   "execution_count": 150,
   "id": "654b59f6-443b-4503-8a18-81e98c6018dd",
   "metadata": {},
   "outputs": [
    {
     "data": {
      "text/plain": [
       "<Axes: xlabel='grade', ylabel='count'>"
      ]
     },
     "execution_count": 150,
     "metadata": {},
     "output_type": "execute_result"
    },
    {
     "data": {
      "image/png": "[encoded data removed]",
      "text/plain": [
       "<Figure size 640x480 with 1 Axes>"
      ]
     },
     "metadata": {},
     "output_type": "display_data"
    }
   ],
   "source": [
    "sns.countplot(x='grade', data=df1, hue='loan_status')"
   ]
  },
  {
   "cell_type": "markdown",
   "id": "29a88dc8-e013-4175-a960-83b8f557c103",
   "metadata": {},
   "source": [
    "<span style=\"font-family: 'Times New Roman'; font-size: 18px;\">\n",
    "    \n",
    " Our goal is to generate a count plot for each grade, with the loan status label represented by different colors. This approach allows us to determine whether there is a distinction between completely settling your debt or having it written off according to your score. \n",
    "<br>The count plot illustrates a distinct correlation, indicating that the proportion of loans that have been charged off appears to rise with higher letter grades. It appears that the top-tier clients receive an A rating, while those in the next tier are assigned grades such as B, C, D, and so on.  \n",
    "<br>In order to create the subsequent illustration, we generate a count plot that displays the distribution of subgrades across the complete dataset. What is the total count of A1s and A2s in our possession, among others? The predominant categories appear to be A, B, and C, which is somewhat logical since these loans carry a higher risk and are more prone to being written off, as indicated by the previous count plot of the overall grades. \n",
    " </span>"
   ]
  },
  {
   "cell_type": "code",
   "execution_count": 151,
   "id": "d5383aee-807c-4bc3-acef-a7bcbd06f8f4",
   "metadata": {},
   "outputs": [
    {
     "name": "stderr",
     "output_type": "stream",
     "text": [
      "C:\\Users\\rojin\\AppData\\Local\\Temp\\ipykernel_14876\\1693477650.py:3: FutureWarning: \n",
      "\n",
      "Passing `palette` without assigning `hue` is deprecated and will be removed in v0.14.0. Assign the `x` variable to `hue` and set `legend=False` for the same effect.\n",
      "\n",
      "  sns.countplot(x='sub_grade', data=df1, order= subgrade_order, palette='coolwarm')\n"
     ]
    },
    {
     "data": {
      "text/plain": [
       "<Axes: xlabel='sub_grade', ylabel='count'>"
      ]
     },
     "execution_count": 151,
     "metadata": {},
     "output_type": "execute_result"
    },
    {
     "data": {
      "image/png": "[encoded data removed]",
      "text/plain": [
       "<Figure size 1200x400 with 1 Axes>"
      ]
     },
     "metadata": {},
     "output_type": "display_data"
    }
   ],
   "source": [
    "plt.figure(figsize=(12,4))\n",
    "subgrade_order = sorted(df1['sub_grade'].unique())\n",
    "sns.countplot(x='sub_grade', data=df1, order= subgrade_order, palette='coolwarm')"
   ]
  },
  {
   "cell_type": "markdown",
   "id": "e77894d3-d44a-4334-b6ca-a9d756fed568",
   "metadata": {},
   "source": [
    "<span style=\"font-family: 'Times New Roman'; font-size: 18px;\">\n",
    "It looks like the repayment for F and G subgrades happens rarely. Our goal is to focus on those specific subgrades and generate a count plot exclusively for them, incorporating hue as well. It appears that in the lowest grade classifications, the rate of accounts charged off is nearly identical to that of accounts that have been fully paid off. It could be beneficial to explore whether providing loans to individuals is worthwhile if we are going to assign them a grade of G or F. In our upcoming analysis, we will focus closely on that specific area of the data. We will apply a quick filter using pandas.     \n",
    "\n",
    "\n",
    " </span>"
   ]
  },
  {
   "cell_type": "code",
   "execution_count": 152,
   "id": "1f8b8a55-19b6-4fe1-9a78-20d366048056",
   "metadata": {},
   "outputs": [
    {
     "data": {
      "text/plain": [
       "<Axes: xlabel='sub_grade', ylabel='count'>"
      ]
     },
     "execution_count": 152,
     "metadata": {},
     "output_type": "execute_result"
    },
    {
     "data": {
      "image/png": "[encoded data removed]",
      "text/plain": [
       "<Figure size 1200x400 with 1 Axes>"
      ]
     },
     "metadata": {},
     "output_type": "display_data"
    }
   ],
   "source": [
    "plt.figure(figsize=(12,4))\n",
    "subgrade_order = sorted(df1['sub_grade'].unique())\n",
    "sns.countplot(x='sub_grade', data=df1, order= subgrade_order, palette='coolwarm', \n",
    "              hue='loan_status')"
   ]
  },
  {
   "cell_type": "markdown",
   "id": "a53b1015-4103-438b-89e8-03dcd46ca5a4",
   "metadata": {},
   "source": [
    "<span style=\"font-family: 'Times New Roman'; font-size: 18px;\">\n",
    "We can now observe the comparison between fully paid loans and those that have been charged off for these lower subgrades. It’s interesting to note that if you receive a G5 grade, the chances of completely paying off your loan are nearly equal to the chances of it being charged off.\n",
    "\n",
    " </span>"
   ]
  },
  {
   "cell_type": "code",
   "execution_count": 153,
   "id": "c0506846-e8f3-4f31-9e6b-ec2501f6744d",
   "metadata": {},
   "outputs": [
    {
     "data": {
      "text/plain": [
       "<Axes: xlabel='sub_grade', ylabel='count'>"
      ]
     },
     "execution_count": 153,
     "metadata": {},
     "output_type": "execute_result"
    },
    {
     "data": {
      "image/png": "[encoded data removed]",
      "text/plain": [
       "<Figure size 1200x400 with 1 Axes>"
      ]
     },
     "metadata": {},
     "output_type": "display_data"
    }
   ],
   "source": [
    "f_and_g = df1[(df1['grade']=='G') | (df1['grade']=='F')]\n",
    "\n",
    "plt.figure(figsize=(12,4))\n",
    "subgrade_order = sorted(f_and_g['sub_grade'].unique())\n",
    "sns.countplot(x='sub_grade', data=f_and_g, order= subgrade_order, palette='coolwarm', \n",
    "              hue='loan_status')"
   ]
  },
  {
   "cell_type": "markdown",
   "id": "ed197e91-3a5b-4c72-b7cd-85604895335c",
   "metadata": {},
   "source": [
    "<span style=\"font-family: 'Times New Roman'; font-size: 18px;\">\n",
    "A new column named loan repaid will be established, where a value of one indicates that the loan has been completely paid off, while a value of zero signifies that it has been written off. \n",
    "\n",
    " </span>"
   ]
  },
  {
   "cell_type": "code",
   "execution_count": 154,
   "id": "88cbfc6d-428a-4b0a-964a-c753a4e08213",
   "metadata": {},
   "outputs": [],
   "source": [
    "df['loan_repaid'] = df1['loan_status'].map({'Fully Paid': 1, 'Charged Off': 0})\n",
    "df1['loan_repaid'] = df1['loan_status'].map({'Fully Paid': 1, 'Charged Off': 0})"
   ]
  },
  {
   "cell_type": "code",
   "execution_count": 155,
   "id": "6d6ce287-2f4c-4fbf-8ce8-11a1a5e1a495",
   "metadata": {},
   "outputs": [
    {
     "data": {
      "text/html": [
       "<div>\n",
       "<style scoped>\n",
       "    .dataframe tbody tr th:only-of-type {\n",
       "        vertical-align: middle;\n",
       "    }\n",
       "\n",
       "    .dataframe tbody tr th {\n",
       "        vertical-align: top;\n",
       "    }\n",
       "\n",
       "    .dataframe thead th {\n",
       "        text-align: right;\n",
       "    }\n",
       "</style>\n",
       "<table border=\"1\" class=\"dataframe\">\n",
       "  <thead>\n",
       "    <tr style=\"text-align: right;\">\n",
       "      <th></th>\n",
       "      <th>loan_repaid</th>\n",
       "      <th>loan_status</th>\n",
       "    </tr>\n",
       "  </thead>\n",
       "  <tbody>\n",
       "    <tr>\n",
       "      <th>0</th>\n",
       "      <td>1</td>\n",
       "      <td>318357</td>\n",
       "    </tr>\n",
       "    <tr>\n",
       "      <th>1</th>\n",
       "      <td>1</td>\n",
       "      <td>318357</td>\n",
       "    </tr>\n",
       "    <tr>\n",
       "      <th>2</th>\n",
       "      <td>1</td>\n",
       "      <td>318357</td>\n",
       "    </tr>\n",
       "    <tr>\n",
       "      <th>3</th>\n",
       "      <td>1</td>\n",
       "      <td>318357</td>\n",
       "    </tr>\n",
       "    <tr>\n",
       "      <th>4</th>\n",
       "      <td>0</td>\n",
       "      <td>77673</td>\n",
       "    </tr>\n",
       "    <tr>\n",
       "      <th>...</th>\n",
       "      <td>...</td>\n",
       "      <td>...</td>\n",
       "    </tr>\n",
       "    <tr>\n",
       "      <th>396025</th>\n",
       "      <td>1</td>\n",
       "      <td>318357</td>\n",
       "    </tr>\n",
       "    <tr>\n",
       "      <th>396026</th>\n",
       "      <td>1</td>\n",
       "      <td>318357</td>\n",
       "    </tr>\n",
       "    <tr>\n",
       "      <th>396027</th>\n",
       "      <td>1</td>\n",
       "      <td>318357</td>\n",
       "    </tr>\n",
       "    <tr>\n",
       "      <th>396028</th>\n",
       "      <td>1</td>\n",
       "      <td>318357</td>\n",
       "    </tr>\n",
       "    <tr>\n",
       "      <th>396029</th>\n",
       "      <td>1</td>\n",
       "      <td>318357</td>\n",
       "    </tr>\n",
       "  </tbody>\n",
       "</table>\n",
       "<p>396030 rows × 2 columns</p>\n",
       "</div>"
      ],
      "text/plain": [
       "        loan_repaid  loan_status\n",
       "0                 1       318357\n",
       "1                 1       318357\n",
       "2                 1       318357\n",
       "3                 1       318357\n",
       "4                 0        77673\n",
       "...             ...          ...\n",
       "396025            1       318357\n",
       "396026            1       318357\n",
       "396027            1       318357\n",
       "396028            1       318357\n",
       "396029            1       318357\n",
       "\n",
       "[396030 rows x 2 columns]"
      ]
     },
     "execution_count": 155,
     "metadata": {},
     "output_type": "execute_result"
    }
   ],
   "source": [
    "df[['loan_repaid','loan_status']]"
   ]
  },
  {
   "cell_type": "markdown",
   "id": "e73d4d01-34f1-4e03-a5b1-a2adf8ae157c",
   "metadata": {},
   "source": [
    "<span style=\"font-family: 'Times New Roman'; font-size: 18px;\">\n",
    "We aim to develop a chart that highlights which numerical characteristics are most strongly associated with the actual label. The first step is to compute these correlation values. The subsequent action involves solely selecting the column that indicates loan repayment. It is evident that the interest rate exhibits the strongest inverse relationship with an individual's likelihood of repaying their loan, which is quite logical. If your loan comes with a very steep interest rate, you might struggle to repay it. \n",
    " </span>"
   ]
  },
  {
   "cell_type": "code",
   "execution_count": 156,
   "id": "6c48a1b2-544f-42f9-abff-ef9182d2862b",
   "metadata": {},
   "outputs": [
    {
     "data": {
      "text/html": [
       "<div>\n",
       "<style scoped>\n",
       "    .dataframe tbody tr th:only-of-type {\n",
       "        vertical-align: middle;\n",
       "    }\n",
       "\n",
       "    .dataframe tbody tr th {\n",
       "        vertical-align: top;\n",
       "    }\n",
       "\n",
       "    .dataframe thead th {\n",
       "        text-align: right;\n",
       "    }\n",
       "</style>\n",
       "<table border=\"1\" class=\"dataframe\">\n",
       "  <thead>\n",
       "    <tr style=\"text-align: right;\">\n",
       "      <th></th>\n",
       "      <th>loan_amnt</th>\n",
       "      <th>term</th>\n",
       "      <th>int_rate</th>\n",
       "      <th>installment</th>\n",
       "      <th>grade</th>\n",
       "      <th>sub_grade</th>\n",
       "      <th>emp_title</th>\n",
       "      <th>emp_length</th>\n",
       "      <th>home_ownership</th>\n",
       "      <th>annual_inc</th>\n",
       "      <th>...</th>\n",
       "      <th>pub_rec</th>\n",
       "      <th>revol_bal</th>\n",
       "      <th>revol_util</th>\n",
       "      <th>total_acc</th>\n",
       "      <th>initial_list_status</th>\n",
       "      <th>application_type</th>\n",
       "      <th>mort_acc</th>\n",
       "      <th>pub_rec_bankruptcies</th>\n",
       "      <th>address</th>\n",
       "      <th>loan_repaid</th>\n",
       "    </tr>\n",
       "  </thead>\n",
       "  <tbody>\n",
       "    <tr>\n",
       "      <th>loan_amnt</th>\n",
       "      <td>1.000000</td>\n",
       "      <td>-0.393862</td>\n",
       "      <td>0.168921</td>\n",
       "      <td>0.953929</td>\n",
       "      <td>-0.164253</td>\n",
       "      <td>-0.160692</td>\n",
       "      <td>0.030706</td>\n",
       "      <td>0.089134</td>\n",
       "      <td>0.094124</td>\n",
       "      <td>0.336887</td>\n",
       "      <td>...</td>\n",
       "      <td>-0.077779</td>\n",
       "      <td>0.328320</td>\n",
       "      <td>0.099911</td>\n",
       "      <td>0.223886</td>\n",
       "      <td>-0.077743</td>\n",
       "      <td>-0.014675</td>\n",
       "      <td>0.222315</td>\n",
       "      <td>-0.106539</td>\n",
       "      <td>0.000630</td>\n",
       "      <td>-0.059836</td>\n",
       "    </tr>\n",
       "    <tr>\n",
       "      <th>term</th>\n",
       "      <td>-0.393862</td>\n",
       "      <td>1.000000</td>\n",
       "      <td>-0.434594</td>\n",
       "      <td>-0.153378</td>\n",
       "      <td>0.308766</td>\n",
       "      <td>0.312086</td>\n",
       "      <td>-0.019534</td>\n",
       "      <td>-0.051494</td>\n",
       "      <td>-0.049468</td>\n",
       "      <td>-0.060330</td>\n",
       "      <td>...</td>\n",
       "      <td>0.018758</td>\n",
       "      <td>-0.084787</td>\n",
       "      <td>-0.055166</td>\n",
       "      <td>-0.101346</td>\n",
       "      <td>0.104799</td>\n",
       "      <td>0.013343</td>\n",
       "      <td>-0.096220</td>\n",
       "      <td>0.019826</td>\n",
       "      <td>0.001625</td>\n",
       "      <td>0.173246</td>\n",
       "    </tr>\n",
       "    <tr>\n",
       "      <th>int_rate</th>\n",
       "      <td>0.168921</td>\n",
       "      <td>-0.434594</td>\n",
       "      <td>1.000000</td>\n",
       "      <td>0.162758</td>\n",
       "      <td>-0.486888</td>\n",
       "      <td>-0.479354</td>\n",
       "      <td>-0.006188</td>\n",
       "      <td>0.003576</td>\n",
       "      <td>-0.038375</td>\n",
       "      <td>-0.056771</td>\n",
       "      <td>...</td>\n",
       "      <td>0.060986</td>\n",
       "      <td>-0.011280</td>\n",
       "      <td>0.293659</td>\n",
       "      <td>-0.036404</td>\n",
       "      <td>0.056161</td>\n",
       "      <td>-0.031520</td>\n",
       "      <td>-0.082583</td>\n",
       "      <td>0.057450</td>\n",
       "      <td>-0.000882</td>\n",
       "      <td>-0.247758</td>\n",
       "    </tr>\n",
       "    <tr>\n",
       "      <th>installment</th>\n",
       "      <td>0.953929</td>\n",
       "      <td>-0.153378</td>\n",
       "      <td>0.162758</td>\n",
       "      <td>1.000000</td>\n",
       "      <td>-0.145404</td>\n",
       "      <td>-0.139938</td>\n",
       "      <td>0.026732</td>\n",
       "      <td>0.078118</td>\n",
       "      <td>0.079079</td>\n",
       "      <td>0.330381</td>\n",
       "      <td>...</td>\n",
       "      <td>-0.067892</td>\n",
       "      <td>0.316455</td>\n",
       "      <td>0.123915</td>\n",
       "      <td>0.202430</td>\n",
       "      <td>-0.040731</td>\n",
       "      <td>-0.014835</td>\n",
       "      <td>0.193694</td>\n",
       "      <td>-0.098628</td>\n",
       "      <td>0.001277</td>\n",
       "      <td>-0.041082</td>\n",
       "    </tr>\n",
       "    <tr>\n",
       "      <th>grade</th>\n",
       "      <td>-0.164253</td>\n",
       "      <td>0.308766</td>\n",
       "      <td>-0.486888</td>\n",
       "      <td>-0.145404</td>\n",
       "      <td>1.000000</td>\n",
       "      <td>0.927388</td>\n",
       "      <td>-0.010117</td>\n",
       "      <td>-0.003018</td>\n",
       "      <td>0.007204</td>\n",
       "      <td>-0.023632</td>\n",
       "      <td>...</td>\n",
       "      <td>0.008728</td>\n",
       "      <td>-0.014259</td>\n",
       "      <td>-0.021758</td>\n",
       "      <td>-0.019062</td>\n",
       "      <td>0.002996</td>\n",
       "      <td>0.023961</td>\n",
       "      <td>0.000312</td>\n",
       "      <td>0.019369</td>\n",
       "      <td>-0.000560</td>\n",
       "      <td>0.149396</td>\n",
       "    </tr>\n",
       "    <tr>\n",
       "      <th>sub_grade</th>\n",
       "      <td>-0.160692</td>\n",
       "      <td>0.312086</td>\n",
       "      <td>-0.479354</td>\n",
       "      <td>-0.139938</td>\n",
       "      <td>0.927388</td>\n",
       "      <td>1.000000</td>\n",
       "      <td>-0.010357</td>\n",
       "      <td>-0.005530</td>\n",
       "      <td>0.005335</td>\n",
       "      <td>-0.025034</td>\n",
       "      <td>...</td>\n",
       "      <td>0.008936</td>\n",
       "      <td>-0.013001</td>\n",
       "      <td>-0.005704</td>\n",
       "      <td>-0.023071</td>\n",
       "      <td>0.007132</td>\n",
       "      <td>0.023566</td>\n",
       "      <td>-0.004801</td>\n",
       "      <td>0.019655</td>\n",
       "      <td>0.000259</td>\n",
       "      <td>0.149232</td>\n",
       "    </tr>\n",
       "    <tr>\n",
       "      <th>emp_title</th>\n",
       "      <td>0.030706</td>\n",
       "      <td>-0.019534</td>\n",
       "      <td>-0.006188</td>\n",
       "      <td>0.026732</td>\n",
       "      <td>-0.010117</td>\n",
       "      <td>-0.010357</td>\n",
       "      <td>1.000000</td>\n",
       "      <td>0.037248</td>\n",
       "      <td>-0.000399</td>\n",
       "      <td>0.011670</td>\n",
       "      <td>...</td>\n",
       "      <td>0.027026</td>\n",
       "      <td>0.007099</td>\n",
       "      <td>-0.014174</td>\n",
       "      <td>0.056744</td>\n",
       "      <td>-0.086461</td>\n",
       "      <td>-0.009423</td>\n",
       "      <td>0.020472</td>\n",
       "      <td>0.016897</td>\n",
       "      <td>-0.001095</td>\n",
       "      <td>-0.015310</td>\n",
       "    </tr>\n",
       "    <tr>\n",
       "      <th>emp_length</th>\n",
       "      <td>0.089134</td>\n",
       "      <td>-0.051494</td>\n",
       "      <td>0.003576</td>\n",
       "      <td>0.078118</td>\n",
       "      <td>-0.003018</td>\n",
       "      <td>-0.005530</td>\n",
       "      <td>0.037248</td>\n",
       "      <td>1.000000</td>\n",
       "      <td>0.050595</td>\n",
       "      <td>0.064455</td>\n",
       "      <td>...</td>\n",
       "      <td>0.026253</td>\n",
       "      <td>0.092106</td>\n",
       "      <td>0.033834</td>\n",
       "      <td>0.120120</td>\n",
       "      <td>-0.035663</td>\n",
       "      <td>-0.002846</td>\n",
       "      <td>0.201265</td>\n",
       "      <td>0.028215</td>\n",
       "      <td>-0.001267</td>\n",
       "      <td>0.014396</td>\n",
       "    </tr>\n",
       "    <tr>\n",
       "      <th>home_ownership</th>\n",
       "      <td>0.094124</td>\n",
       "      <td>-0.049468</td>\n",
       "      <td>-0.038375</td>\n",
       "      <td>0.079079</td>\n",
       "      <td>0.007204</td>\n",
       "      <td>0.005335</td>\n",
       "      <td>-0.000399</td>\n",
       "      <td>0.050595</td>\n",
       "      <td>1.000000</td>\n",
       "      <td>0.093064</td>\n",
       "      <td>...</td>\n",
       "      <td>-0.004231</td>\n",
       "      <td>0.059949</td>\n",
       "      <td>0.043559</td>\n",
       "      <td>0.098306</td>\n",
       "      <td>0.000341</td>\n",
       "      <td>-0.000804</td>\n",
       "      <td>0.249250</td>\n",
       "      <td>-0.004125</td>\n",
       "      <td>-0.001989</td>\n",
       "      <td>0.034768</td>\n",
       "    </tr>\n",
       "    <tr>\n",
       "      <th>annual_inc</th>\n",
       "      <td>0.336887</td>\n",
       "      <td>-0.060330</td>\n",
       "      <td>-0.056771</td>\n",
       "      <td>0.330381</td>\n",
       "      <td>-0.023632</td>\n",
       "      <td>-0.025034</td>\n",
       "      <td>0.011670</td>\n",
       "      <td>0.064455</td>\n",
       "      <td>0.093064</td>\n",
       "      <td>1.000000</td>\n",
       "      <td>...</td>\n",
       "      <td>-0.013720</td>\n",
       "      <td>0.299773</td>\n",
       "      <td>0.027871</td>\n",
       "      <td>0.193023</td>\n",
       "      <td>-0.041752</td>\n",
       "      <td>0.010861</td>\n",
       "      <td>0.236320</td>\n",
       "      <td>-0.050162</td>\n",
       "      <td>-0.000636</td>\n",
       "      <td>0.053432</td>\n",
       "    </tr>\n",
       "    <tr>\n",
       "      <th>verification_status</th>\n",
       "      <td>0.305009</td>\n",
       "      <td>-0.188817</td>\n",
       "      <td>0.234213</td>\n",
       "      <td>0.292621</td>\n",
       "      <td>-0.121975</td>\n",
       "      <td>-0.118686</td>\n",
       "      <td>-0.009436</td>\n",
       "      <td>0.056940</td>\n",
       "      <td>0.027816</td>\n",
       "      <td>0.076761</td>\n",
       "      <td>...</td>\n",
       "      <td>0.039377</td>\n",
       "      <td>0.108097</td>\n",
       "      <td>0.073482</td>\n",
       "      <td>0.089344</td>\n",
       "      <td>0.023418</td>\n",
       "      <td>-0.017224</td>\n",
       "      <td>0.087407</td>\n",
       "      <td>0.027361</td>\n",
       "      <td>0.001222</td>\n",
       "      <td>-0.075058</td>\n",
       "    </tr>\n",
       "    <tr>\n",
       "      <th>issue_d</th>\n",
       "      <td>0.065825</td>\n",
       "      <td>-0.019415</td>\n",
       "      <td>0.074043</td>\n",
       "      <td>0.071442</td>\n",
       "      <td>-0.004246</td>\n",
       "      <td>-0.010061</td>\n",
       "      <td>0.111443</td>\n",
       "      <td>0.045780</td>\n",
       "      <td>0.013495</td>\n",
       "      <td>0.008083</td>\n",
       "      <td>...</td>\n",
       "      <td>0.081143</td>\n",
       "      <td>0.015623</td>\n",
       "      <td>0.052100</td>\n",
       "      <td>0.076620</td>\n",
       "      <td>-0.185886</td>\n",
       "      <td>0.038373</td>\n",
       "      <td>0.022778</td>\n",
       "      <td>0.080943</td>\n",
       "      <td>-0.000114</td>\n",
       "      <td>-0.065340</td>\n",
       "    </tr>\n",
       "    <tr>\n",
       "      <th>loan_status</th>\n",
       "      <td>-0.059836</td>\n",
       "      <td>0.173246</td>\n",
       "      <td>-0.247758</td>\n",
       "      <td>-0.041082</td>\n",
       "      <td>0.149396</td>\n",
       "      <td>0.149232</td>\n",
       "      <td>-0.015310</td>\n",
       "      <td>0.014396</td>\n",
       "      <td>0.034768</td>\n",
       "      <td>0.053432</td>\n",
       "      <td>...</td>\n",
       "      <td>-0.019933</td>\n",
       "      <td>0.010892</td>\n",
       "      <td>-0.082373</td>\n",
       "      <td>0.017893</td>\n",
       "      <td>0.009489</td>\n",
       "      <td>0.002489</td>\n",
       "      <td>0.073111</td>\n",
       "      <td>-0.009383</td>\n",
       "      <td>0.008361</td>\n",
       "      <td>1.000000</td>\n",
       "    </tr>\n",
       "    <tr>\n",
       "      <th>purpose</th>\n",
       "      <td>0.136213</td>\n",
       "      <td>-0.067798</td>\n",
       "      <td>0.048314</td>\n",
       "      <td>0.132912</td>\n",
       "      <td>0.022701</td>\n",
       "      <td>0.027365</td>\n",
       "      <td>0.010708</td>\n",
       "      <td>0.025324</td>\n",
       "      <td>0.025986</td>\n",
       "      <td>-0.027077</td>\n",
       "      <td>...</td>\n",
       "      <td>0.002892</td>\n",
       "      <td>0.025097</td>\n",
       "      <td>0.104835</td>\n",
       "      <td>0.062524</td>\n",
       "      <td>-0.033183</td>\n",
       "      <td>-0.007145</td>\n",
       "      <td>-0.005289</td>\n",
       "      <td>0.006994</td>\n",
       "      <td>0.001076</td>\n",
       "      <td>-0.028137</td>\n",
       "    </tr>\n",
       "    <tr>\n",
       "      <th>title</th>\n",
       "      <td>0.117665</td>\n",
       "      <td>-0.101087</td>\n",
       "      <td>0.035536</td>\n",
       "      <td>0.100203</td>\n",
       "      <td>-0.038109</td>\n",
       "      <td>-0.039202</td>\n",
       "      <td>0.118714</td>\n",
       "      <td>0.046314</td>\n",
       "      <td>0.003162</td>\n",
       "      <td>0.012195</td>\n",
       "      <td>...</td>\n",
       "      <td>0.080072</td>\n",
       "      <td>0.019494</td>\n",
       "      <td>-0.004682</td>\n",
       "      <td>0.094581</td>\n",
       "      <td>-0.263311</td>\n",
       "      <td>-0.026095</td>\n",
       "      <td>0.008476</td>\n",
       "      <td>0.066732</td>\n",
       "      <td>0.000654</td>\n",
       "      <td>-0.071614</td>\n",
       "    </tr>\n",
       "    <tr>\n",
       "      <th>dti</th>\n",
       "      <td>0.016636</td>\n",
       "      <td>-0.036508</td>\n",
       "      <td>0.079038</td>\n",
       "      <td>0.015786</td>\n",
       "      <td>-0.023939</td>\n",
       "      <td>-0.022687</td>\n",
       "      <td>0.033581</td>\n",
       "      <td>0.030678</td>\n",
       "      <td>-0.009259</td>\n",
       "      <td>-0.081685</td>\n",
       "      <td>...</td>\n",
       "      <td>-0.017639</td>\n",
       "      <td>0.063571</td>\n",
       "      <td>0.088375</td>\n",
       "      <td>0.102128</td>\n",
       "      <td>-0.022783</td>\n",
       "      <td>-0.077913</td>\n",
       "      <td>-0.025439</td>\n",
       "      <td>-0.014558</td>\n",
       "      <td>0.000517</td>\n",
       "      <td>-0.062413</td>\n",
       "    </tr>\n",
       "    <tr>\n",
       "      <th>earliest_cr_line</th>\n",
       "      <td>-0.021299</td>\n",
       "      <td>-0.019755</td>\n",
       "      <td>0.021071</td>\n",
       "      <td>-0.022759</td>\n",
       "      <td>0.002311</td>\n",
       "      <td>0.004541</td>\n",
       "      <td>0.000310</td>\n",
       "      <td>-0.063932</td>\n",
       "      <td>0.022879</td>\n",
       "      <td>-0.039554</td>\n",
       "      <td>...</td>\n",
       "      <td>0.008022</td>\n",
       "      <td>-0.084902</td>\n",
       "      <td>0.035895</td>\n",
       "      <td>0.006467</td>\n",
       "      <td>0.006964</td>\n",
       "      <td>0.001009</td>\n",
       "      <td>-0.060980</td>\n",
       "      <td>0.014936</td>\n",
       "      <td>-0.000296</td>\n",
       "      <td>-0.002069</td>\n",
       "    </tr>\n",
       "    <tr>\n",
       "      <th>open_acc</th>\n",
       "      <td>0.198556</td>\n",
       "      <td>-0.079575</td>\n",
       "      <td>0.011649</td>\n",
       "      <td>0.188973</td>\n",
       "      <td>-0.031568</td>\n",
       "      <td>-0.034747</td>\n",
       "      <td>0.047437</td>\n",
       "      <td>0.041164</td>\n",
       "      <td>0.056935</td>\n",
       "      <td>0.136150</td>\n",
       "      <td>...</td>\n",
       "      <td>-0.018392</td>\n",
       "      <td>0.221192</td>\n",
       "      <td>-0.131420</td>\n",
       "      <td>0.680728</td>\n",
       "      <td>-0.071925</td>\n",
       "      <td>-0.012213</td>\n",
       "      <td>0.109205</td>\n",
       "      <td>-0.027732</td>\n",
       "      <td>0.002292</td>\n",
       "      <td>-0.028012</td>\n",
       "    </tr>\n",
       "    <tr>\n",
       "      <th>pub_rec</th>\n",
       "      <td>-0.077779</td>\n",
       "      <td>0.018758</td>\n",
       "      <td>0.060986</td>\n",
       "      <td>-0.067892</td>\n",
       "      <td>0.008728</td>\n",
       "      <td>0.008936</td>\n",
       "      <td>0.027026</td>\n",
       "      <td>0.026253</td>\n",
       "      <td>-0.004231</td>\n",
       "      <td>-0.013720</td>\n",
       "      <td>...</td>\n",
       "      <td>1.000000</td>\n",
       "      <td>-0.101664</td>\n",
       "      <td>-0.075910</td>\n",
       "      <td>0.019723</td>\n",
       "      <td>-0.045897</td>\n",
       "      <td>-0.003518</td>\n",
       "      <td>0.011552</td>\n",
       "      <td>0.699408</td>\n",
       "      <td>-0.000489</td>\n",
       "      <td>-0.019933</td>\n",
       "    </tr>\n",
       "    <tr>\n",
       "      <th>revol_bal</th>\n",
       "      <td>0.328320</td>\n",
       "      <td>-0.084787</td>\n",
       "      <td>-0.011280</td>\n",
       "      <td>0.316455</td>\n",
       "      <td>-0.014259</td>\n",
       "      <td>-0.013001</td>\n",
       "      <td>0.007099</td>\n",
       "      <td>0.092106</td>\n",
       "      <td>0.059949</td>\n",
       "      <td>0.299773</td>\n",
       "      <td>...</td>\n",
       "      <td>-0.101664</td>\n",
       "      <td>1.000000</td>\n",
       "      <td>0.226346</td>\n",
       "      <td>0.191616</td>\n",
       "      <td>-0.028336</td>\n",
       "      <td>-0.006604</td>\n",
       "      <td>0.194925</td>\n",
       "      <td>-0.124532</td>\n",
       "      <td>0.000993</td>\n",
       "      <td>0.010892</td>\n",
       "    </tr>\n",
       "    <tr>\n",
       "      <th>revol_util</th>\n",
       "      <td>0.099911</td>\n",
       "      <td>-0.055166</td>\n",
       "      <td>0.293659</td>\n",
       "      <td>0.123915</td>\n",
       "      <td>-0.021758</td>\n",
       "      <td>-0.005704</td>\n",
       "      <td>-0.014174</td>\n",
       "      <td>0.033834</td>\n",
       "      <td>0.043559</td>\n",
       "      <td>0.027871</td>\n",
       "      <td>...</td>\n",
       "      <td>-0.075910</td>\n",
       "      <td>0.226346</td>\n",
       "      <td>1.000000</td>\n",
       "      <td>-0.104273</td>\n",
       "      <td>0.058789</td>\n",
       "      <td>-0.006591</td>\n",
       "      <td>0.007514</td>\n",
       "      <td>-0.086751</td>\n",
       "      <td>-0.001342</td>\n",
       "      <td>-0.082373</td>\n",
       "    </tr>\n",
       "    <tr>\n",
       "      <th>total_acc</th>\n",
       "      <td>0.223886</td>\n",
       "      <td>-0.101346</td>\n",
       "      <td>-0.036404</td>\n",
       "      <td>0.202430</td>\n",
       "      <td>-0.019062</td>\n",
       "      <td>-0.023071</td>\n",
       "      <td>0.056744</td>\n",
       "      <td>0.120120</td>\n",
       "      <td>0.098306</td>\n",
       "      <td>0.193023</td>\n",
       "      <td>...</td>\n",
       "      <td>0.019723</td>\n",
       "      <td>0.191616</td>\n",
       "      <td>-0.104273</td>\n",
       "      <td>1.000000</td>\n",
       "      <td>-0.067851</td>\n",
       "      <td>-0.008954</td>\n",
       "      <td>0.381072</td>\n",
       "      <td>0.042035</td>\n",
       "      <td>0.003242</td>\n",
       "      <td>0.017893</td>\n",
       "    </tr>\n",
       "    <tr>\n",
       "      <th>initial_list_status</th>\n",
       "      <td>-0.077743</td>\n",
       "      <td>0.104799</td>\n",
       "      <td>0.056161</td>\n",
       "      <td>-0.040731</td>\n",
       "      <td>0.002996</td>\n",
       "      <td>0.007132</td>\n",
       "      <td>-0.086461</td>\n",
       "      <td>-0.035663</td>\n",
       "      <td>0.000341</td>\n",
       "      <td>-0.041752</td>\n",
       "      <td>...</td>\n",
       "      <td>-0.045897</td>\n",
       "      <td>-0.028336</td>\n",
       "      <td>0.058789</td>\n",
       "      <td>-0.067851</td>\n",
       "      <td>1.000000</td>\n",
       "      <td>0.025628</td>\n",
       "      <td>-0.026847</td>\n",
       "      <td>-0.040875</td>\n",
       "      <td>0.000126</td>\n",
       "      <td>0.009489</td>\n",
       "    </tr>\n",
       "    <tr>\n",
       "      <th>application_type</th>\n",
       "      <td>-0.014675</td>\n",
       "      <td>0.013343</td>\n",
       "      <td>-0.031520</td>\n",
       "      <td>-0.014835</td>\n",
       "      <td>0.023961</td>\n",
       "      <td>0.023566</td>\n",
       "      <td>-0.009423</td>\n",
       "      <td>-0.002846</td>\n",
       "      <td>-0.000804</td>\n",
       "      <td>0.010861</td>\n",
       "      <td>...</td>\n",
       "      <td>-0.003518</td>\n",
       "      <td>-0.006604</td>\n",
       "      <td>-0.006591</td>\n",
       "      <td>-0.008954</td>\n",
       "      <td>0.025628</td>\n",
       "      <td>1.000000</td>\n",
       "      <td>0.001338</td>\n",
       "      <td>-0.004106</td>\n",
       "      <td>-0.000114</td>\n",
       "      <td>0.002489</td>\n",
       "    </tr>\n",
       "    <tr>\n",
       "      <th>mort_acc</th>\n",
       "      <td>0.222315</td>\n",
       "      <td>-0.096220</td>\n",
       "      <td>-0.082583</td>\n",
       "      <td>0.193694</td>\n",
       "      <td>0.000312</td>\n",
       "      <td>-0.004801</td>\n",
       "      <td>0.020472</td>\n",
       "      <td>0.201265</td>\n",
       "      <td>0.249250</td>\n",
       "      <td>0.236320</td>\n",
       "      <td>...</td>\n",
       "      <td>0.011552</td>\n",
       "      <td>0.194925</td>\n",
       "      <td>0.007514</td>\n",
       "      <td>0.381072</td>\n",
       "      <td>-0.026847</td>\n",
       "      <td>0.001338</td>\n",
       "      <td>1.000000</td>\n",
       "      <td>0.027239</td>\n",
       "      <td>-0.001147</td>\n",
       "      <td>0.073111</td>\n",
       "    </tr>\n",
       "    <tr>\n",
       "      <th>pub_rec_bankruptcies</th>\n",
       "      <td>-0.106539</td>\n",
       "      <td>0.019826</td>\n",
       "      <td>0.057450</td>\n",
       "      <td>-0.098628</td>\n",
       "      <td>0.019369</td>\n",
       "      <td>0.019655</td>\n",
       "      <td>0.016897</td>\n",
       "      <td>0.028215</td>\n",
       "      <td>-0.004125</td>\n",
       "      <td>-0.050162</td>\n",
       "      <td>...</td>\n",
       "      <td>0.699408</td>\n",
       "      <td>-0.124532</td>\n",
       "      <td>-0.086751</td>\n",
       "      <td>0.042035</td>\n",
       "      <td>-0.040875</td>\n",
       "      <td>-0.004106</td>\n",
       "      <td>0.027239</td>\n",
       "      <td>1.000000</td>\n",
       "      <td>-0.001386</td>\n",
       "      <td>-0.009383</td>\n",
       "    </tr>\n",
       "    <tr>\n",
       "      <th>address</th>\n",
       "      <td>0.000630</td>\n",
       "      <td>0.001625</td>\n",
       "      <td>-0.000882</td>\n",
       "      <td>0.001277</td>\n",
       "      <td>-0.000560</td>\n",
       "      <td>0.000259</td>\n",
       "      <td>-0.001095</td>\n",
       "      <td>-0.001267</td>\n",
       "      <td>-0.001989</td>\n",
       "      <td>-0.000636</td>\n",
       "      <td>...</td>\n",
       "      <td>-0.000489</td>\n",
       "      <td>0.000993</td>\n",
       "      <td>-0.001342</td>\n",
       "      <td>0.003242</td>\n",
       "      <td>0.000126</td>\n",
       "      <td>-0.000114</td>\n",
       "      <td>-0.001147</td>\n",
       "      <td>-0.001386</td>\n",
       "      <td>1.000000</td>\n",
       "      <td>0.008361</td>\n",
       "    </tr>\n",
       "    <tr>\n",
       "      <th>loan_repaid</th>\n",
       "      <td>-0.059836</td>\n",
       "      <td>0.173246</td>\n",
       "      <td>-0.247758</td>\n",
       "      <td>-0.041082</td>\n",
       "      <td>0.149396</td>\n",
       "      <td>0.149232</td>\n",
       "      <td>-0.015310</td>\n",
       "      <td>0.014396</td>\n",
       "      <td>0.034768</td>\n",
       "      <td>0.053432</td>\n",
       "      <td>...</td>\n",
       "      <td>-0.019933</td>\n",
       "      <td>0.010892</td>\n",
       "      <td>-0.082373</td>\n",
       "      <td>0.017893</td>\n",
       "      <td>0.009489</td>\n",
       "      <td>0.002489</td>\n",
       "      <td>0.073111</td>\n",
       "      <td>-0.009383</td>\n",
       "      <td>0.008361</td>\n",
       "      <td>1.000000</td>\n",
       "    </tr>\n",
       "  </tbody>\n",
       "</table>\n",
       "<p>28 rows × 28 columns</p>\n",
       "</div>"
      ],
      "text/plain": [
       "                      loan_amnt      term  int_rate  installment     grade  \\\n",
       "loan_amnt              1.000000 -0.393862  0.168921     0.953929 -0.164253   \n",
       "term                  -0.393862  1.000000 -0.434594    -0.153378  0.308766   \n",
       "int_rate               0.168921 -0.434594  1.000000     0.162758 -0.486888   \n",
       "installment            0.953929 -0.153378  0.162758     1.000000 -0.145404   \n",
       "grade                 -0.164253  0.308766 -0.486888    -0.145404  1.000000   \n",
       "sub_grade             -0.160692  0.312086 -0.479354    -0.139938  0.927388   \n",
       "emp_title              0.030706 -0.019534 -0.006188     0.026732 -0.010117   \n",
       "emp_length             0.089134 -0.051494  0.003576     0.078118 -0.003018   \n",
       "home_ownership         0.094124 -0.049468 -0.038375     0.079079  0.007204   \n",
       "annual_inc             0.336887 -0.060330 -0.056771     0.330381 -0.023632   \n",
       "verification_status    0.305009 -0.188817  0.234213     0.292621 -0.121975   \n",
       "issue_d                0.065825 -0.019415  0.074043     0.071442 -0.004246   \n",
       "loan_status           -0.059836  0.173246 -0.247758    -0.041082  0.149396   \n",
       "purpose                0.136213 -0.067798  0.048314     0.132912  0.022701   \n",
       "title                  0.117665 -0.101087  0.035536     0.100203 -0.038109   \n",
       "dti                    0.016636 -0.036508  0.079038     0.015786 -0.023939   \n",
       "earliest_cr_line      -0.021299 -0.019755  0.021071    -0.022759  0.002311   \n",
       "open_acc               0.198556 -0.079575  0.011649     0.188973 -0.031568   \n",
       "pub_rec               -0.077779  0.018758  0.060986    -0.067892  0.008728   \n",
       "revol_bal              0.328320 -0.084787 -0.011280     0.316455 -0.014259   \n",
       "revol_util             0.099911 -0.055166  0.293659     0.123915 -0.021758   \n",
       "total_acc              0.223886 -0.101346 -0.036404     0.202430 -0.019062   \n",
       "initial_list_status   -0.077743  0.104799  0.056161    -0.040731  0.002996   \n",
       "application_type      -0.014675  0.013343 -0.031520    -0.014835  0.023961   \n",
       "mort_acc               0.222315 -0.096220 -0.082583     0.193694  0.000312   \n",
       "pub_rec_bankruptcies  -0.106539  0.019826  0.057450    -0.098628  0.019369   \n",
       "address                0.000630  0.001625 -0.000882     0.001277 -0.000560   \n",
       "loan_repaid           -0.059836  0.173246 -0.247758    -0.041082  0.149396   \n",
       "\n",
       "                      sub_grade  emp_title  emp_length  home_ownership  \\\n",
       "loan_amnt             -0.160692   0.030706    0.089134        0.094124   \n",
       "term                   0.312086  -0.019534   -0.051494       -0.049468   \n",
       "int_rate              -0.479354  -0.006188    0.003576       -0.038375   \n",
       "installment           -0.139938   0.026732    0.078118        0.079079   \n",
       "grade                  0.927388  -0.010117   -0.003018        0.007204   \n",
       "sub_grade              1.000000  -0.010357   -0.005530        0.005335   \n",
       "emp_title             -0.010357   1.000000    0.037248       -0.000399   \n",
       "emp_length            -0.005530   0.037248    1.000000        0.050595   \n",
       "home_ownership         0.005335  -0.000399    0.050595        1.000000   \n",
       "annual_inc            -0.025034   0.011670    0.064455        0.093064   \n",
       "verification_status   -0.118686  -0.009436    0.056940        0.027816   \n",
       "issue_d               -0.010061   0.111443    0.045780        0.013495   \n",
       "loan_status            0.149232  -0.015310    0.014396        0.034768   \n",
       "purpose                0.027365   0.010708    0.025324        0.025986   \n",
       "title                 -0.039202   0.118714    0.046314        0.003162   \n",
       "dti                   -0.022687   0.033581    0.030678       -0.009259   \n",
       "earliest_cr_line       0.004541   0.000310   -0.063932        0.022879   \n",
       "open_acc              -0.034747   0.047437    0.041164        0.056935   \n",
       "pub_rec                0.008936   0.027026    0.026253       -0.004231   \n",
       "revol_bal             -0.013001   0.007099    0.092106        0.059949   \n",
       "revol_util            -0.005704  -0.014174    0.033834        0.043559   \n",
       "total_acc             -0.023071   0.056744    0.120120        0.098306   \n",
       "initial_list_status    0.007132  -0.086461   -0.035663        0.000341   \n",
       "application_type       0.023566  -0.009423   -0.002846       -0.000804   \n",
       "mort_acc              -0.004801   0.020472    0.201265        0.249250   \n",
       "pub_rec_bankruptcies   0.019655   0.016897    0.028215       -0.004125   \n",
       "address                0.000259  -0.001095   -0.001267       -0.001989   \n",
       "loan_repaid            0.149232  -0.015310    0.014396        0.034768   \n",
       "\n",
       "                      annual_inc  ...   pub_rec  revol_bal  revol_util  \\\n",
       "loan_amnt               0.336887  ... -0.077779   0.328320    0.099911   \n",
       "term                   -0.060330  ...  0.018758  -0.084787   -0.055166   \n",
       "int_rate               -0.056771  ...  0.060986  -0.011280    0.293659   \n",
       "installment             0.330381  ... -0.067892   0.316455    0.123915   \n",
       "grade                  -0.023632  ...  0.008728  -0.014259   -0.021758   \n",
       "sub_grade              -0.025034  ...  0.008936  -0.013001   -0.005704   \n",
       "emp_title               0.011670  ...  0.027026   0.007099   -0.014174   \n",
       "emp_length              0.064455  ...  0.026253   0.092106    0.033834   \n",
       "home_ownership          0.093064  ... -0.004231   0.059949    0.043559   \n",
       "annual_inc              1.000000  ... -0.013720   0.299773    0.027871   \n",
       "verification_status     0.076761  ...  0.039377   0.108097    0.073482   \n",
       "issue_d                 0.008083  ...  0.081143   0.015623    0.052100   \n",
       "loan_status             0.053432  ... -0.019933   0.010892   -0.082373   \n",
       "purpose                -0.027077  ...  0.002892   0.025097    0.104835   \n",
       "title                   0.012195  ...  0.080072   0.019494   -0.004682   \n",
       "dti                    -0.081685  ... -0.017639   0.063571    0.088375   \n",
       "earliest_cr_line       -0.039554  ...  0.008022  -0.084902    0.035895   \n",
       "open_acc                0.136150  ... -0.018392   0.221192   -0.131420   \n",
       "pub_rec                -0.013720  ...  1.000000  -0.101664   -0.075910   \n",
       "revol_bal               0.299773  ... -0.101664   1.000000    0.226346   \n",
       "revol_util              0.027871  ... -0.075910   0.226346    1.000000   \n",
       "total_acc               0.193023  ...  0.019723   0.191616   -0.104273   \n",
       "initial_list_status    -0.041752  ... -0.045897  -0.028336    0.058789   \n",
       "application_type        0.010861  ... -0.003518  -0.006604   -0.006591   \n",
       "mort_acc                0.236320  ...  0.011552   0.194925    0.007514   \n",
       "pub_rec_bankruptcies   -0.050162  ...  0.699408  -0.124532   -0.086751   \n",
       "address                -0.000636  ... -0.000489   0.000993   -0.001342   \n",
       "loan_repaid             0.053432  ... -0.019933   0.010892   -0.082373   \n",
       "\n",
       "                      total_acc  initial_list_status  application_type  \\\n",
       "loan_amnt              0.223886            -0.077743         -0.014675   \n",
       "term                  -0.101346             0.104799          0.013343   \n",
       "int_rate              -0.036404             0.056161         -0.031520   \n",
       "installment            0.202430            -0.040731         -0.014835   \n",
       "grade                 -0.019062             0.002996          0.023961   \n",
       "sub_grade             -0.023071             0.007132          0.023566   \n",
       "emp_title              0.056744            -0.086461         -0.009423   \n",
       "emp_length             0.120120            -0.035663         -0.002846   \n",
       "home_ownership         0.098306             0.000341         -0.000804   \n",
       "annual_inc             0.193023            -0.041752          0.010861   \n",
       "verification_status    0.089344             0.023418         -0.017224   \n",
       "issue_d                0.076620            -0.185886          0.038373   \n",
       "loan_status            0.017893             0.009489          0.002489   \n",
       "purpose                0.062524            -0.033183         -0.007145   \n",
       "title                  0.094581            -0.263311         -0.026095   \n",
       "dti                    0.102128            -0.022783         -0.077913   \n",
       "earliest_cr_line       0.006467             0.006964          0.001009   \n",
       "open_acc               0.680728            -0.071925         -0.012213   \n",
       "pub_rec                0.019723            -0.045897         -0.003518   \n",
       "revol_bal              0.191616            -0.028336         -0.006604   \n",
       "revol_util            -0.104273             0.058789         -0.006591   \n",
       "total_acc              1.000000            -0.067851         -0.008954   \n",
       "initial_list_status   -0.067851             1.000000          0.025628   \n",
       "application_type      -0.008954             0.025628          1.000000   \n",
       "mort_acc               0.381072            -0.026847          0.001338   \n",
       "pub_rec_bankruptcies   0.042035            -0.040875         -0.004106   \n",
       "address                0.003242             0.000126         -0.000114   \n",
       "loan_repaid            0.017893             0.009489          0.002489   \n",
       "\n",
       "                      mort_acc  pub_rec_bankruptcies   address  loan_repaid  \n",
       "loan_amnt             0.222315             -0.106539  0.000630    -0.059836  \n",
       "term                 -0.096220              0.019826  0.001625     0.173246  \n",
       "int_rate             -0.082583              0.057450 -0.000882    -0.247758  \n",
       "installment           0.193694             -0.098628  0.001277    -0.041082  \n",
       "grade                 0.000312              0.019369 -0.000560     0.149396  \n",
       "sub_grade            -0.004801              0.019655  0.000259     0.149232  \n",
       "emp_title             0.020472              0.016897 -0.001095    -0.015310  \n",
       "emp_length            0.201265              0.028215 -0.001267     0.014396  \n",
       "home_ownership        0.249250             -0.004125 -0.001989     0.034768  \n",
       "annual_inc            0.236320             -0.050162 -0.000636     0.053432  \n",
       "verification_status   0.087407              0.027361  0.001222    -0.075058  \n",
       "issue_d               0.022778              0.080943 -0.000114    -0.065340  \n",
       "loan_status           0.073111             -0.009383  0.008361     1.000000  \n",
       "purpose              -0.005289              0.006994  0.001076    -0.028137  \n",
       "title                 0.008476              0.066732  0.000654    -0.071614  \n",
       "dti                  -0.025439             -0.014558  0.000517    -0.062413  \n",
       "earliest_cr_line     -0.060980              0.014936 -0.000296    -0.002069  \n",
       "open_acc              0.109205             -0.027732  0.002292    -0.028012  \n",
       "pub_rec               0.011552              0.699408 -0.000489    -0.019933  \n",
       "revol_bal             0.194925             -0.124532  0.000993     0.010892  \n",
       "revol_util            0.007514             -0.086751 -0.001342    -0.082373  \n",
       "total_acc             0.381072              0.042035  0.003242     0.017893  \n",
       "initial_list_status  -0.026847             -0.040875  0.000126     0.009489  \n",
       "application_type      0.001338             -0.004106 -0.000114     0.002489  \n",
       "mort_acc              1.000000              0.027239 -0.001147     0.073111  \n",
       "pub_rec_bankruptcies  0.027239              1.000000 -0.001386    -0.009383  \n",
       "address              -0.001147             -0.001386  1.000000     0.008361  \n",
       "loan_repaid           0.073111             -0.009383  0.008361     1.000000  \n",
       "\n",
       "[28 rows x 28 columns]"
      ]
     },
     "execution_count": 156,
     "metadata": {},
     "output_type": "execute_result"
    }
   ],
   "source": [
    "df.corr()"
   ]
  },
  {
   "cell_type": "code",
   "execution_count": 157,
   "id": "0a8d7fe1-2895-4ba5-99fb-190bc8bb4728",
   "metadata": {},
   "outputs": [
    {
     "data": {
      "text/plain": [
       "<Axes: >"
      ]
     },
     "execution_count": 157,
     "metadata": {},
     "output_type": "execute_result"
    },
    {
     "data": {
      "image/png": "[encoded data removed]",
      "text/plain": [
       "<Figure size 640x480 with 1 Axes>"
      ]
     },
     "metadata": {},
     "output_type": "display_data"
    }
   ],
   "source": [
    "df.corr()['loan_repaid'].sort_values().drop(['loan_repaid','loan_status']).plot(kind='bar')"
   ]
  },
  {
   "cell_type": "markdown",
   "id": "60734f5b-ee0b-4cb1-afef-043cb4f9a190",
   "metadata": {},
   "source": [
    "<span style=\"font-family: 'Times New Roman'; font-size: 18px;\">\n",
    "    \n",
    "## Data PreProcessing\n",
    "\n",
    "Our goal here is to eliminate or complete any gaps in the data. It is essential to eliminate redundant or superfluous functionalities and transform categorical string attributes into dummy variables. \n",
    "\n",
    "### Missing Data \n",
    "A range of criteria is employed to determine if the information should be retained, eliminated, or supplemented with the missing data.\n",
    " </span>"
   ]
  },
  {
   "cell_type": "code",
   "execution_count": 158,
   "id": "b54d08c9-2a15-436c-973c-6acd056e5e09",
   "metadata": {},
   "outputs": [
    {
     "data": {
      "text/plain": [
       "396030"
      ]
     },
     "execution_count": 158,
     "metadata": {},
     "output_type": "execute_result"
    }
   ],
   "source": [
    "len(df)"
   ]
  },
  {
   "cell_type": "markdown",
   "id": "12861272-a167-4cec-ba0b-c980d8c197de",
   "metadata": {},
   "source": [
    "<span style=\"font-family: 'Times New Roman'; font-size: 18px;\">\n",
    "    \n",
    "Our goal is to develop a sequence that illustrates the overall number of absent entries for each column.\n",
    "\n",
    "\n",
    " </span>"
   ]
  },
  {
   "cell_type": "code",
   "execution_count": 159,
   "id": "e9206b81-e726-4731-a6a8-169439e14973",
   "metadata": {},
   "outputs": [
    {
     "data": {
      "text/plain": [
       "loan_amnt                   0\n",
       "term                        0\n",
       "int_rate                    0\n",
       "installment                 0\n",
       "grade                       0\n",
       "sub_grade                   0\n",
       "emp_title               22927\n",
       "emp_length              18301\n",
       "home_ownership              0\n",
       "annual_inc                  0\n",
       "verification_status         0\n",
       "issue_d                     0\n",
       "loan_status                 0\n",
       "purpose                     0\n",
       "title                    1756\n",
       "dti                         0\n",
       "earliest_cr_line            0\n",
       "open_acc                    0\n",
       "pub_rec                     0\n",
       "revol_bal                   0\n",
       "revol_util                276\n",
       "total_acc                   0\n",
       "initial_list_status         0\n",
       "application_type            0\n",
       "mort_acc                37795\n",
       "pub_rec_bankruptcies      535\n",
       "address                     0\n",
       "loan_repaid                 0\n",
       "dtype: int64"
      ]
     },
     "execution_count": 159,
     "metadata": {},
     "output_type": "execute_result"
    }
   ],
   "source": [
    "df1.isnull().sum()"
   ]
  },
  {
   "cell_type": "markdown",
   "id": "fb8fe3a8-e221-4f61-898d-079a99416d84",
   "metadata": {},
   "source": [
    "<span style=\"font-family: 'Times New Roman'; font-size: 18px;\">\n",
    "    \n",
    "We aim to modify this series so that it reflects the percentage of the complete DataFrame. There is a shortfall of 5.7% in job titles and nearly 10% in mortgage accounts. \n",
    "\n",
    " </span>\n",
    "\n"
   ]
  },
  {
   "cell_type": "code",
   "execution_count": 160,
   "id": "e60dee04-29b4-4f8b-b1f5-f5f35112acec",
   "metadata": {},
   "outputs": [
    {
     "data": {
      "text/plain": [
       "loan_amnt               0.000000\n",
       "term                    0.000000\n",
       "int_rate                0.000000\n",
       "installment             0.000000\n",
       "grade                   0.000000\n",
       "sub_grade               0.000000\n",
       "emp_title               5.789208\n",
       "emp_length              4.621115\n",
       "home_ownership          0.000000\n",
       "annual_inc              0.000000\n",
       "verification_status     0.000000\n",
       "issue_d                 0.000000\n",
       "loan_status             0.000000\n",
       "purpose                 0.000000\n",
       "title                   0.443401\n",
       "dti                     0.000000\n",
       "earliest_cr_line        0.000000\n",
       "open_acc                0.000000\n",
       "pub_rec                 0.000000\n",
       "revol_bal               0.000000\n",
       "revol_util              0.069692\n",
       "total_acc               0.000000\n",
       "initial_list_status     0.000000\n",
       "application_type        0.000000\n",
       "mort_acc                9.543469\n",
       "pub_rec_bankruptcies    0.135091\n",
       "address                 0.000000\n",
       "loan_repaid             0.000000\n",
       "dtype: float64"
      ]
     },
     "execution_count": 160,
     "metadata": {},
     "output_type": "execute_result"
    }
   ],
   "source": [
    "100 * df1.isnull().sum()/len(df1)"
   ]
  },
  {
   "cell_type": "markdown",
   "id": "9fb38f41-09c1-455e-96e4-c3ac2d8e7c75",
   "metadata": {},
   "source": [
    "<span style=\"font-family: 'Times New Roman'; font-size: 18px;\">\n",
    "    \n",
    "Let's take a closer look at emp_title and emp_length to assess whether we can safely eliminate them. A crucial question to pose is regarding the count of unique job titles in the employment sector. We're curious whether we'll eliminate the job title or replace it with something else. \n",
    " </span>\n",
    "\n"
   ]
  },
  {
   "cell_type": "code",
   "execution_count": 161,
   "id": "a9c695ba-7ea2-4195-ba16-47096beadd9a",
   "metadata": {},
   "outputs": [
    {
     "data": {
      "text/plain": [
       "array(['Marketing', 'Credit analyst ', 'Statistician', ...,\n",
       "       \"Michael's Arts & Crafts\", 'licensed bankere',\n",
       "       'Gracon Services, Inc'], dtype=object)"
      ]
     },
     "execution_count": 161,
     "metadata": {},
     "output_type": "execute_result"
    }
   ],
   "source": [
    "df1['emp_title'].unique()"
   ]
  },
  {
   "cell_type": "markdown",
   "id": "b65298ef-796d-40d9-89ed-3fc7abcfb6f9",
   "metadata": {},
   "source": [
    "<span style=\"font-family: 'Times New Roman'; font-size: 18px;\">\n",
    "    \n",
    "It becomes apparent that the number of titles is excessively high to transform this into a dummy variable feature. Incorporating an additional 173,000 boolean columns isn't feasible. Instead, we can focus on thorough feature engineering to classify these positions into high-income and medium-income categories. However, we must rely on numerous assumptions and determine a method to align this with more than 173,000 distinct job titles. The abundance of job titles is overwhelming, and many of them lack clarity since a significant number of individuals possess distinct titles. Therefore, we should eliminate these titles as they won't realistically serve our needs.  </span>"
   ]
  },
  {
   "cell_type": "code",
   "execution_count": 162,
   "id": "f5914c21-4369-4c15-a753-680ab4b13d9f",
   "metadata": {},
   "outputs": [
    {
     "data": {
      "text/plain": [
       "emp_title\n",
       "Teacher                    4389\n",
       "Manager                    4250\n",
       "Registered Nurse           1856\n",
       "RN                         1846\n",
       "Supervisor                 1830\n",
       "                           ... \n",
       "Postman                       1\n",
       "McCarthy & Holthus, LLC       1\n",
       "jp flooring                   1\n",
       "Histology Technologist        1\n",
       "Gracon Services, Inc          1\n",
       "Name: count, Length: 173105, dtype: int64"
      ]
     },
     "execution_count": 162,
     "metadata": {},
     "output_type": "execute_result"
    }
   ],
   "source": [
    "df1['emp_title'].value_counts()"
   ]
  },
  {
   "cell_type": "code",
   "execution_count": 163,
   "id": "6111d8b9-4f5c-4d32-823e-ab1985e75a93",
   "metadata": {},
   "outputs": [],
   "source": [
    "df1_drop = df1.drop('emp_title',axis=1)"
   ]
  },
  {
   "cell_type": "markdown",
   "id": "7cf0aa48-201f-4f09-bd82-b07f7543f48f",
   "metadata": {},
   "source": [
    "<span style=\"font-family: 'Times New Roman'; font-size: 18px;\">\n",
    "Our next step involves generating a count plot for the employment length feature. To arrange the values in a specific order, we can compile a list that reflects that sequence.     \n",
    "  </span>"
   ]
  },
  {
   "cell_type": "code",
   "execution_count": 164,
   "id": "60ade2a5-6678-4213-a616-4503b52b0b62",
   "metadata": {},
   "outputs": [
    {
     "data": {
      "text/plain": [
       "['1 year',\n",
       " '10+ years',\n",
       " '2 years',\n",
       " '3 years',\n",
       " '4 years',\n",
       " '5 years',\n",
       " '6 years',\n",
       " '7 years',\n",
       " '8 years',\n",
       " '9 years',\n",
       " '< 1 year']"
      ]
     },
     "execution_count": 164,
     "metadata": {},
     "output_type": "execute_result"
    }
   ],
   "source": [
    "sorted(df1_drop['emp_length'].dropna().unique())"
   ]
  },
  {
   "cell_type": "code",
   "execution_count": 165,
   "id": "6b272ba2-8878-42bc-8dd9-025b9303e928",
   "metadata": {},
   "outputs": [],
   "source": [
    "emp_length_order = ['< 1 year',\n",
    " '1 year',\n",
    " '2 years',\n",
    " '3 years',\n",
    " '4 years',\n",
    " '5 years',\n",
    " '6 years',\n",
    " '7 years',\n",
    " '8 years',\n",
    " '9 years',\n",
    " '10+ years']"
   ]
  },
  {
   "cell_type": "markdown",
   "id": "298c2dc5-b489-4f10-8e76-5df854328bb7",
   "metadata": {},
   "source": [
    "<span style=\"font-family: 'Times New Roman'; font-size: 18px;\">\n",
    "A significant number of individuals appear to have been in their jobs for over a decade, which is quite logical. When someone takes out a loan, it’s highly probable that they are employed. Remember, our goal is to assess whether an individual will repay their loan. So, what is their loan situation? We are particularly interested in the connection between loans that are fully repaid and those that have been charged off, in relation to the duration of employment. If there is a significant disparity in these categories, it becomes a crucial factor. Conversely, if the ratio of fully paid loans to charged-off loans remains consistent across various employment lengths, it may not provide much insight. Our goal is to determine the proportion of individuals who have completely settled their debts compared to those whose debts have been written off, categorized by their duration of employment.   </span>"
   ]
  },
  {
   "cell_type": "code",
   "execution_count": 166,
   "id": "fde6f5cb-c621-4146-8a62-2394d482fbc6",
   "metadata": {},
   "outputs": [
    {
     "data": {
      "text/plain": [
       "<Axes: xlabel='emp_length', ylabel='count'>"
      ]
     },
     "execution_count": 166,
     "metadata": {},
     "output_type": "execute_result"
    },
    {
     "data": {
      "image/png": "[encoded data removed]",
      "text/plain": [
       "<Figure size 1200x400 with 1 Axes>"
      ]
     },
     "metadata": {},
     "output_type": "display_data"
    }
   ],
   "source": [
    "plt.figure(figsize=(12,4))\n",
    "sns.countplot(x='emp_length' , data=df1_drop, order=emp_length_order, hue='loan_status',palette='viridis')"
   ]
  },
  {
   "cell_type": "markdown",
   "id": "a69de5d9-0c0a-4d21-b6ce-0a3de5ce97cb",
   "metadata": {},
   "source": [
    "<span style=\"font-family: 'Times New Roman'; font-size: 18px;\"> \n",
    "    We are looking to determine the proportion of individuals who fail to repay their loans compared to those who do, categorized by their employment status, and we wish to analyze the ratio between these two groups. \n",
    "  </span>"
   ]
  },
  {
   "cell_type": "code",
   "execution_count": 167,
   "id": "0f423a30-5b14-41d5-abae-bd12d85f42d8",
   "metadata": {},
   "outputs": [],
   "source": [
    "emp_co = df1_drop[df1_drop['loan_status']=='Charged Off'].groupby('emp_length').count()['loan_status']"
   ]
  },
  {
   "cell_type": "code",
   "execution_count": 168,
   "id": "0e5a9f50-be94-4c8a-8e9b-d33d1cef0d2b",
   "metadata": {},
   "outputs": [],
   "source": [
    "emp_fp = df1_drop[df1_drop['loan_status']=='Fully Paid'].groupby('emp_length').count()['loan_status']"
   ]
  },
  {
   "cell_type": "code",
   "execution_count": 169,
   "id": "133b96ba-a30a-4d43-9823-2bc3138be1a5",
   "metadata": {},
   "outputs": [],
   "source": [
    "emp_len = emp_co/(emp_co+emp_fp)"
   ]
  },
  {
   "cell_type": "markdown",
   "id": "01a724d4-22ba-4f5f-a36d-d0082c32e1cd",
   "metadata": {},
   "source": [
    "<span style=\"font-family: 'Times New Roman'; font-size: 18px;\"> \n",
    "    It appears that the duration of employment does not significantly impact the rates of charge-offs. It appears that, no matter how long someone has been employed, approximately 20 percent will still have outstanding loans that they haven't repaid. This can be illustrated using a bar chart. It is evident that percentages and ratios convey fundamentally identical information. Given that the heights of these bars are nearly identical, there is limited information or distinction among the columns representing employment duration. The primary distinction observed is that individuals with a decade of work experience exhibit a marginally lower charge-off rate compared to those who have been employed for less than a year. Nevertheless, the difference is not substantial enough to warrant the ongoing use of this feature. Because they are highly alike in every position, we will remove that particular column. \n",
    "  </span>"
   ]
  },
  {
   "cell_type": "code",
   "execution_count": 170,
   "id": "7c79aca8-ff19-40d4-a095-4dbb0511a77d",
   "metadata": {},
   "outputs": [
    {
     "data": {
      "text/plain": [
       "<Axes: xlabel='emp_length'>"
      ]
     },
     "execution_count": 170,
     "metadata": {},
     "output_type": "execute_result"
    },
    {
     "data": {
      "image/png": "[encoded data removed]",
      "text/plain": [
       "<Figure size 640x480 with 1 Axes>"
      ]
     },
     "metadata": {},
     "output_type": "display_data"
    }
   ],
   "source": [
    "emp_len.plot(kind='bar')"
   ]
  },
  {
   "cell_type": "code",
   "execution_count": 171,
   "id": "a785b766-1ea0-4e6a-92f9-c2f6c47a6744",
   "metadata": {},
   "outputs": [],
   "source": [
    "df1_drop = df1_drop.drop('emp_length',axis=1)"
   ]
  },
  {
   "cell_type": "code",
   "execution_count": 172,
   "id": "3a2f017a-b0de-4331-8061-ce4f67e135ad",
   "metadata": {},
   "outputs": [
    {
     "data": {
      "text/plain": [
       "loan_amnt                   0\n",
       "term                        0\n",
       "int_rate                    0\n",
       "installment                 0\n",
       "grade                       0\n",
       "sub_grade                   0\n",
       "home_ownership              0\n",
       "annual_inc                  0\n",
       "verification_status         0\n",
       "issue_d                     0\n",
       "loan_status                 0\n",
       "purpose                     0\n",
       "title                    1756\n",
       "dti                         0\n",
       "earliest_cr_line            0\n",
       "open_acc                    0\n",
       "pub_rec                     0\n",
       "revol_bal                   0\n",
       "revol_util                276\n",
       "total_acc                   0\n",
       "initial_list_status         0\n",
       "application_type            0\n",
       "mort_acc                37795\n",
       "pub_rec_bankruptcies      535\n",
       "address                     0\n",
       "loan_repaid                 0\n",
       "dtype: int64"
      ]
     },
     "execution_count": 172,
     "metadata": {},
     "output_type": "execute_result"
    }
   ],
   "source": [
    "df1_drop.isnull().sum()"
   ]
  },
  {
   "cell_type": "markdown",
   "id": "7637a82c-1af9-4c08-a221-3933ab4bb8c8",
   "metadata": {},
   "source": [
    "<span style=\"font-family: 'Times New Roman'; font-size: 18px;\"> \n",
    "\n",
    "## Categorical data\n",
    "We take a look at the section dedicated to the title and  purpose. \n",
    "\n",
    "    \n",
    "  </span>"
   ]
  },
  {
   "cell_type": "code",
   "execution_count": 173,
   "id": "3676b36b-8424-49b1-9efe-fa60602e3526",
   "metadata": {},
   "outputs": [
    {
     "data": {
      "text/plain": [
       "0              vacation\n",
       "1    debt_consolidation\n",
       "2           credit_card\n",
       "3           credit_card\n",
       "4           credit_card\n",
       "5    debt_consolidation\n",
       "6      home_improvement\n",
       "7           credit_card\n",
       "8    debt_consolidation\n",
       "9    debt_consolidation\n",
       "Name: purpose, dtype: object"
      ]
     },
     "execution_count": 173,
     "metadata": {},
     "output_type": "execute_result"
    }
   ],
   "source": [
    "df1_drop['purpose'].head(10)"
   ]
  },
  {
   "cell_type": "markdown",
   "id": "772586a8-a3f3-4a8e-8b2b-3037c9a28e21",
   "metadata": {},
   "source": [
    "<span style=\"font-family: 'Times New Roman'; font-size: 18px;\"> \n",
    "\n",
    "The title column serves merely as a descriptive label or subcategory for its intended function, so it would be logical to eliminate that column altogether. \n",
    "\n",
    "  </span>"
   ]
  },
  {
   "cell_type": "code",
   "execution_count": 174,
   "id": "81f7fcfc-20b3-4afc-9534-a3d0daeafe88",
   "metadata": {},
   "outputs": [
    {
     "data": {
      "text/plain": [
       "0                   Vacation\n",
       "1         Debt consolidation\n",
       "2    Credit card refinancing\n",
       "3    Credit card refinancing\n",
       "4      Credit Card Refinance\n",
       "5         Debt consolidation\n",
       "6           Home improvement\n",
       "7       No More Credit Cards\n",
       "8         Debt consolidation\n",
       "9         Debt Consolidation\n",
       "Name: title, dtype: object"
      ]
     },
     "execution_count": 174,
     "metadata": {},
     "output_type": "execute_result"
    }
   ],
   "source": [
    "df1_drop['title'].head(10)"
   ]
  },
  {
   "cell_type": "code",
   "execution_count": 175,
   "id": "0910ba6e-4df4-43d6-924d-ea830f6aeecb",
   "metadata": {},
   "outputs": [],
   "source": [
    "df1_drop = df1_drop.drop('title',axis=1)"
   ]
  },
  {
   "cell_type": "markdown",
   "id": "67ac30d3-7cf7-47ce-8691-79ddc8119b8c",
   "metadata": {},
   "source": [
    "<span style=\"font-family: 'Times New Roman'; font-size: 18px;\"> \n",
    "\n",
    "The variable 'mort_acc' represents the number of mortgage accounts individuals possess. We will generate a count of these values. It appears that a significant portion of the population, nearly 25%, has no additional mortgage accounts, while others have one, two, and so forth. Interestingly, there are some outliers in this dataset, including an individual with as many as 34 mortgage accounts, but we will include these in our analysis. We're curious about how to handle this column and the extent of missing data it contains. Nearly 10% of the entries in this mortgage account number are incomplete. This implies that we are unable to remove the rows. In that case, we would forfeit 10% of our data. Should we consider eliminating the feature altogether as an alternative? There isn't a definitive solution in this case; it's perfectly acceptable to disregard it, yet you're not losing out on significant information either. Only 10% of the task remains to be finished. Is there a method to complete this data? One strategy could involve identifying which of the other available features, for which we have complete information, strongly correlates with these mortgage accounts, and then using that correlation to supplement our data. \n",
    "\n",
    "  </span>"
   ]
  },
  {
   "cell_type": "code",
   "execution_count": 176,
   "id": "2095ced1-256c-4187-a25d-15ce8a8601e3",
   "metadata": {},
   "outputs": [
    {
     "data": {
      "text/plain": [
       "mort_acc\n",
       "0.0     139777\n",
       "1.0      60416\n",
       "2.0      49948\n",
       "3.0      38049\n",
       "4.0      27887\n",
       "5.0      18194\n",
       "6.0      11069\n",
       "7.0       6052\n",
       "8.0       3121\n",
       "9.0       1656\n",
       "10.0       865\n",
       "11.0       479\n",
       "12.0       264\n",
       "13.0       146\n",
       "14.0       107\n",
       "15.0        61\n",
       "16.0        37\n",
       "17.0        22\n",
       "18.0        18\n",
       "19.0        15\n",
       "20.0        13\n",
       "24.0        10\n",
       "22.0         7\n",
       "21.0         4\n",
       "25.0         4\n",
       "27.0         3\n",
       "32.0         2\n",
       "31.0         2\n",
       "23.0         2\n",
       "26.0         2\n",
       "28.0         1\n",
       "30.0         1\n",
       "34.0         1\n",
       "Name: count, dtype: int64"
      ]
     },
     "execution_count": 176,
     "metadata": {},
     "output_type": "execute_result"
    }
   ],
   "source": [
    "df1_drop['mort_acc'].value_counts()"
   ]
  },
  {
   "cell_type": "markdown",
   "id": "81fe83e3-d98c-4ba8-85e8-a370b9a8a436",
   "metadata": {},
   "source": [
    "<span style=\"font-family: 'Times New Roman'; font-size: 18px;\"> \n",
    "Numerous strategies exist for addressing gaps in data. Let's take a look at the columns that have the highest correlation with the mortgage accounts column. We aim to analyze the relationship between the mortgage account column and all the numerical columns we currently have. \n",
    "\n",
    "  </span>"
   ]
  },
  {
   "cell_type": "code",
   "execution_count": 177,
   "id": "b5041fcf-20a7-4375-ad14-5d82f6244356",
   "metadata": {},
   "outputs": [
    {
     "name": "stdout",
     "output_type": "stream",
     "text": [
      "Columns that cannot be converted to float: ['term', 'grade', 'sub_grade', 'home_ownership', 'verification_status', 'issue_d', 'loan_status', 'purpose', 'earliest_cr_line', 'initial_list_status', 'application_type', 'address']\n"
     ]
    }
   ],
   "source": [
    "non_numeric_columns2 = []\n",
    "for column in df1_drop.columns:\n",
    "    try:\n",
    "        df1_drop[column].astype(float)\n",
    "    except ValueError:\n",
    "        non_numeric_columns2.append(column)\n",
    "\n",
    "print(\"Columns that cannot be converted to float:\", non_numeric_columns2)\n",
    "\n",
    "df2_drop=pd.DataFrame()\n",
    "\n",
    "# Apply frequency encoding to non-numeric columns\n",
    "df2_drop = df1_drop.copy()\n",
    "for column in non_numeric_columns2:\n",
    "    freq_encoding = df1_drop[column].value_counts().to_dict()\n",
    "    df2_drop[column] = df1_drop[column].map(freq_encoding)"
   ]
  },
  {
   "cell_type": "code",
   "execution_count": 178,
   "id": "a9c76eb1-6061-47ea-a741-6e20c19ddc82",
   "metadata": {},
   "outputs": [
    {
     "data": {
      "text/plain": [
       "term                   -0.096220\n",
       "int_rate               -0.082583\n",
       "earliest_cr_line       -0.060980\n",
       "initial_list_status    -0.026847\n",
       "dti                    -0.025439\n",
       "purpose                -0.005289\n",
       "sub_grade              -0.004801\n",
       "address                -0.001147\n",
       "grade                   0.000312\n",
       "application_type        0.001338\n",
       "revol_util              0.007514\n",
       "pub_rec                 0.011552\n",
       "issue_d                 0.022778\n",
       "pub_rec_bankruptcies    0.027239\n",
       "loan_status             0.073111\n",
       "loan_repaid             0.073111\n",
       "verification_status     0.087407\n",
       "open_acc                0.109205\n",
       "installment             0.193694\n",
       "revol_bal               0.194925\n",
       "loan_amnt               0.222315\n",
       "annual_inc              0.236320\n",
       "home_ownership          0.249250\n",
       "total_acc               0.381072\n",
       "mort_acc                1.000000\n",
       "Name: mort_acc, dtype: float64"
      ]
     },
     "execution_count": 178,
     "metadata": {},
     "output_type": "execute_result"
    }
   ],
   "source": [
    "df2_drop.corr()['mort_acc'].sort_values()"
   ]
  },
  {
   "cell_type": "markdown",
   "id": "4487dfd8-743a-40fd-ba40-62b7f3cff881",
   "metadata": {},
   "source": [
    "<span style=\"font-family: 'Times New Roman'; font-size: 18px;\"> \n",
    "It's noteworthy that we possess this comparable column for total accounts, and while the correlation isn't flawless, indicating that the data isn't duplicated, it does show a fairly strong positive relationship. As a result, the overall account feature is linked to the mortgage account feature This aligns well with the idea that the total number of accounts is linked to the quantity of mortgage accounts. Consequently, we should move forward with the fillna function. We will arrange the DataFrame according to the total number of accounts and calculate the average for mortgage accounts linked to each total account record. Subsequently, we will utilize the mean to complete the mortgage account section where data is lacking. In order to achieve this, we create a function. \n",
    "  </span>"
   ]
  },
  {
   "cell_type": "code",
   "execution_count": 179,
   "id": "1e7cc044-7e92-45b6-92b1-0ce70592a2dc",
   "metadata": {},
   "outputs": [],
   "source": [
    "total_acc_avg = df2_drop.groupby('total_acc').mean()['mort_acc']"
   ]
  },
  {
   "cell_type": "code",
   "execution_count": 180,
   "id": "d8101c19-eee0-4ece-8f41-8e015870d18a",
   "metadata": {},
   "outputs": [],
   "source": [
    "def fill_mort_acc(total_acc, mort_acc):\n",
    "    if np.isnan(mort_acc):\n",
    "        return total_acc_avg[total_acc]\n",
    "    else:\n",
    "        return mort_acc"
   ]
  },
  {
   "cell_type": "code",
   "execution_count": 181,
   "id": "05110ed3-e584-40f4-a95f-6dea55c365b7",
   "metadata": {},
   "outputs": [],
   "source": [
    "df2_drop['mort_acc'] = df2_drop.apply(lambda x: fill_mort_acc(x['total_acc'],x['mort_acc']),axis=1)"
   ]
  },
  {
   "cell_type": "markdown",
   "id": "b10b7544-0494-4ded-8d96-0f5618bbfa1a",
   "metadata": {},
   "source": [
    "<span style=\"font-family: 'Times New Roman'; font-size: 18px;\"> \n",
    "It has come to our attention that there are two absent data columns: revol_util and public recorded bankruptcies. Nevertheless, this constitutes merely a tiny fraction of our complete dataset, totaling no more than 535 and 276. We can simply remove these rows. </span>"
   ]
  },
  {
   "cell_type": "code",
   "execution_count": 182,
   "id": "41603999-4c30-4592-a985-8bc9ebb2995a",
   "metadata": {},
   "outputs": [
    {
     "data": {
      "text/plain": [
       "loan_amnt                 0\n",
       "term                      0\n",
       "int_rate                  0\n",
       "installment               0\n",
       "grade                     0\n",
       "sub_grade                 0\n",
       "home_ownership            0\n",
       "annual_inc                0\n",
       "verification_status       0\n",
       "issue_d                   0\n",
       "loan_status               0\n",
       "purpose                   0\n",
       "dti                       0\n",
       "earliest_cr_line          0\n",
       "open_acc                  0\n",
       "pub_rec                   0\n",
       "revol_bal                 0\n",
       "revol_util              276\n",
       "total_acc                 0\n",
       "initial_list_status       0\n",
       "application_type          0\n",
       "mort_acc                  0\n",
       "pub_rec_bankruptcies    535\n",
       "address                   0\n",
       "loan_repaid               0\n",
       "dtype: int64"
      ]
     },
     "execution_count": 182,
     "metadata": {},
     "output_type": "execute_result"
    }
   ],
   "source": [
    "df2_drop.isnull().sum()"
   ]
  },
  {
   "cell_type": "code",
   "execution_count": 183,
   "id": "b91f356c-ea39-4768-8d0e-f452a877da7b",
   "metadata": {},
   "outputs": [],
   "source": [
    "df2_drop= df2_drop.dropna()"
   ]
  },
  {
   "cell_type": "code",
   "execution_count": 184,
   "id": "b6d6e7b6-d12c-4519-b0b9-0fdb44550453",
   "metadata": {},
   "outputs": [
    {
     "data": {
      "text/plain": [
       "loan_amnt               0\n",
       "term                    0\n",
       "int_rate                0\n",
       "installment             0\n",
       "grade                   0\n",
       "sub_grade               0\n",
       "home_ownership          0\n",
       "annual_inc              0\n",
       "verification_status     0\n",
       "issue_d                 0\n",
       "loan_status             0\n",
       "purpose                 0\n",
       "dti                     0\n",
       "earliest_cr_line        0\n",
       "open_acc                0\n",
       "pub_rec                 0\n",
       "revol_bal               0\n",
       "revol_util              0\n",
       "total_acc               0\n",
       "initial_list_status     0\n",
       "application_type        0\n",
       "mort_acc                0\n",
       "pub_rec_bankruptcies    0\n",
       "address                 0\n",
       "loan_repaid             0\n",
       "dtype: int64"
      ]
     },
     "execution_count": 184,
     "metadata": {},
     "output_type": "execute_result"
    }
   ],
   "source": [
    "df2_drop.isnull().sum()"
   ]
  },
  {
   "cell_type": "markdown",
   "id": "2f14b310-266b-49cb-a999-275ff472f72b",
   "metadata": {},
   "source": [
    "<span style=\"font-family: 'Times New Roman'; font-size: 18px;\"> \n",
    "\n",
    "### Categorical Variables and Dummy Variables\n",
    "With the missing data now taken care of, we are ready to tackle the string values linked to the categorical columns. \n",
    "    </span>"
   ]
  },
  {
   "cell_type": "code",
   "execution_count": 185,
   "id": "a7391fc1-8931-459f-ad9e-a421dbab360c",
   "metadata": {},
   "outputs": [
    {
     "data": {
      "text/plain": [
       "loan_amnt               float64\n",
       "term                      int64\n",
       "int_rate                float64\n",
       "installment             float64\n",
       "grade                     int64\n",
       "sub_grade                 int64\n",
       "home_ownership            int64\n",
       "annual_inc              float64\n",
       "verification_status       int64\n",
       "issue_d                   int64\n",
       "loan_status               int64\n",
       "purpose                   int64\n",
       "dti                     float64\n",
       "earliest_cr_line          int64\n",
       "open_acc                float64\n",
       "pub_rec                 float64\n",
       "revol_bal               float64\n",
       "revol_util              float64\n",
       "total_acc               float64\n",
       "initial_list_status       int64\n",
       "application_type          int64\n",
       "mort_acc                float64\n",
       "pub_rec_bankruptcies    float64\n",
       "address                   int64\n",
       "loan_repaid               int64\n",
       "dtype: object"
      ]
     },
     "execution_count": 185,
     "metadata": {},
     "output_type": "execute_result"
    }
   ],
   "source": [
    "df2_drop.dtypes"
   ]
  },
  {
   "cell_type": "code",
   "execution_count": 186,
   "id": "b805af71-0162-4ec0-bafd-a2b4fb1cd944",
   "metadata": {},
   "outputs": [
    {
     "data": {
      "text/plain": [
       "Index([], dtype='object')"
      ]
     },
     "execution_count": 186,
     "metadata": {},
     "output_type": "execute_result"
    }
   ],
   "source": [
    "df.select_dtypes(['object']).columns"
   ]
  },
  {
   "cell_type": "code",
   "execution_count": 188,
   "id": "84175ec0-0fce-4512-b8a8-81adf6480b0a",
   "metadata": {},
   "outputs": [],
   "source": [
    "#feat_info('term')"
   ]
  },
  {
   "cell_type": "code",
   "execution_count": 189,
   "id": "d193c35d-b08e-4bb6-9604-379ce75147a9",
   "metadata": {},
   "outputs": [
    {
     "data": {
      "text/plain": [
       "term\n",
       "302005    301247\n",
       "94025      93972\n",
       "Name: count, dtype: int64"
      ]
     },
     "execution_count": 189,
     "metadata": {},
     "output_type": "execute_result"
    }
   ],
   "source": [
    "df2_drop['term'].value_counts()"
   ]
  },
  {
   "cell_type": "code",
   "execution_count": 190,
   "id": "d2e6c7a3-f76b-453a-830c-031ddd0b6258",
   "metadata": {},
   "outputs": [
    {
     "data": {
      "text/plain": [
       "loan_amnt               float64\n",
       "term                     object\n",
       "int_rate                float64\n",
       "installment             float64\n",
       "grade                    object\n",
       "sub_grade                object\n",
       "emp_title                object\n",
       "emp_length               object\n",
       "home_ownership           object\n",
       "annual_inc              float64\n",
       "verification_status      object\n",
       "issue_d                  object\n",
       "loan_status              object\n",
       "purpose                  object\n",
       "title                    object\n",
       "dti                     float64\n",
       "earliest_cr_line         object\n",
       "open_acc                float64\n",
       "pub_rec                 float64\n",
       "revol_bal               float64\n",
       "revol_util              float64\n",
       "total_acc               float64\n",
       "initial_list_status      object\n",
       "application_type         object\n",
       "mort_acc                float64\n",
       "pub_rec_bankruptcies    float64\n",
       "address                  object\n",
       "loan_repaid               int64\n",
       "dtype: object"
      ]
     },
     "execution_count": 190,
     "metadata": {},
     "output_type": "execute_result"
    }
   ],
   "source": [
    "df1.dtypes"
   ]
  },
  {
   "cell_type": "markdown",
   "id": "ebb9bac6-a164-4dc7-9739-c3ff9a81307e",
   "metadata": {},
   "source": [
    "<span style=\"font-family: 'Times New Roman'; font-size: 18px;\"> \n",
    "\n",
    "### Term feature\n",
    "It is essential to change the feature designation into a numeric data type of either 36 or 60 integers by utilizing the .apply() or .map() functions.      </span>"
   ]
  },
  {
   "cell_type": "code",
   "execution_count": 191,
   "id": "671c3a05-9cdb-4094-af4a-adb6b98d2f3a",
   "metadata": {},
   "outputs": [],
   "source": [
    "df2_drop['term'] = df1['term'].apply(lambda term: int(term[:3]))"
   ]
  },
  {
   "cell_type": "code",
   "execution_count": 192,
   "id": "a6d48951-818c-4077-acf3-c7de4c77cb68",
   "metadata": {},
   "outputs": [
    {
     "data": {
      "text/plain": [
       "term\n",
       "36    301247\n",
       "60     93972\n",
       "Name: count, dtype: int64"
      ]
     },
     "execution_count": 192,
     "metadata": {},
     "output_type": "execute_result"
    }
   ],
   "source": [
    "df2_drop['term'].value_counts()"
   ]
  },
  {
   "cell_type": "markdown",
   "id": "43cf667d-151f-4bf1-9c79-b1f0f81de9cc",
   "metadata": {},
   "source": [
    "<span style=\"font-family: 'Times New Roman'; font-size: 18px;\"> \n",
    "\n",
    "### Grade feature\n",
    "Since we understand that grade is included within sub_grade, we can simply remove the grade attribute. \n",
    "     </span>"
   ]
  },
  {
   "cell_type": "code",
   "execution_count": 193,
   "id": "4c8e0efe-9820-4ada-b452-1b7ed35c75f3",
   "metadata": {},
   "outputs": [],
   "source": [
    "df2_drop = df2_drop.drop('grade',axis=1)"
   ]
  },
  {
   "cell_type": "code",
   "execution_count": 194,
   "id": "babf3682-0363-4509-b7b2-6acd0f1f790c",
   "metadata": {},
   "outputs": [
    {
     "data": {
      "text/plain": [
       "Index(['loan_amnt', 'term', 'int_rate', 'installment', 'sub_grade',\n",
       "       'home_ownership', 'annual_inc', 'verification_status', 'issue_d',\n",
       "       'loan_status', 'purpose', 'dti', 'earliest_cr_line', 'open_acc',\n",
       "       'pub_rec', 'revol_bal', 'revol_util', 'total_acc',\n",
       "       'initial_list_status', 'application_type', 'mort_acc',\n",
       "       'pub_rec_bankruptcies', 'address', 'loan_repaid'],\n",
       "      dtype='object')"
      ]
     },
     "execution_count": 194,
     "metadata": {},
     "output_type": "execute_result"
    }
   ],
   "source": [
    "df2_drop.columns"
   ]
  },
  {
   "cell_type": "markdown",
   "id": "9b0d90c9-0392-47ea-b7d6-cce35a323d95",
   "metadata": {},
   "source": [
    "<span style=\"font-family: 'Times New Roman'; font-size: 18px;\"> \n",
    "\n",
    "At this point, we aim to convert the sub_grade columns into dummy variables and\n",
    "subsequently merge these new columns with the existing data frame.To prevent any redundancy problems, we eliminate the initial column from our dataset.      </span>"
   ]
  },
  {
   "cell_type": "code",
   "execution_count": 195,
   "id": "1759cb36-3c53-4b1f-bf7d-1671436cca1e",
   "metadata": {},
   "outputs": [],
   "source": [
    "dummies = pd.get_dummies(df2_drop['sub_grade'], drop_first =True)"
   ]
  },
  {
   "cell_type": "code",
   "execution_count": 196,
   "id": "4ff9a89d-465f-4f50-82de-5db5053a82ec",
   "metadata": {},
   "outputs": [
    {
     "data": {
      "text/html": [
       "<div>\n",
       "<style scoped>\n",
       "    .dataframe tbody tr th:only-of-type {\n",
       "        vertical-align: middle;\n",
       "    }\n",
       "\n",
       "    .dataframe tbody tr th {\n",
       "        vertical-align: top;\n",
       "    }\n",
       "\n",
       "    .dataframe thead th {\n",
       "        text-align: right;\n",
       "    }\n",
       "</style>\n",
       "<table border=\"1\" class=\"dataframe\">\n",
       "  <thead>\n",
       "    <tr style=\"text-align: right;\">\n",
       "      <th></th>\n",
       "      <th>374</th>\n",
       "      <th>552</th>\n",
       "      <th>754</th>\n",
       "      <th>1058</th>\n",
       "      <th>1397</th>\n",
       "      <th>1787</th>\n",
       "      <th>2286</th>\n",
       "      <th>2766</th>\n",
       "      <th>3536</th>\n",
       "      <th>4572</th>\n",
       "      <th>...</th>\n",
       "      <th>18526</th>\n",
       "      <th>19182</th>\n",
       "      <th>20280</th>\n",
       "      <th>21221</th>\n",
       "      <th>22085</th>\n",
       "      <th>22495</th>\n",
       "      <th>22580</th>\n",
       "      <th>23662</th>\n",
       "      <th>25601</th>\n",
       "      <th>26655</th>\n",
       "    </tr>\n",
       "  </thead>\n",
       "  <tbody>\n",
       "    <tr>\n",
       "      <th>0</th>\n",
       "      <td>False</td>\n",
       "      <td>False</td>\n",
       "      <td>False</td>\n",
       "      <td>False</td>\n",
       "      <td>False</td>\n",
       "      <td>False</td>\n",
       "      <td>False</td>\n",
       "      <td>False</td>\n",
       "      <td>False</td>\n",
       "      <td>False</td>\n",
       "      <td>...</td>\n",
       "      <td>False</td>\n",
       "      <td>False</td>\n",
       "      <td>False</td>\n",
       "      <td>False</td>\n",
       "      <td>False</td>\n",
       "      <td>False</td>\n",
       "      <td>False</td>\n",
       "      <td>False</td>\n",
       "      <td>True</td>\n",
       "      <td>False</td>\n",
       "    </tr>\n",
       "    <tr>\n",
       "      <th>1</th>\n",
       "      <td>False</td>\n",
       "      <td>False</td>\n",
       "      <td>False</td>\n",
       "      <td>False</td>\n",
       "      <td>False</td>\n",
       "      <td>False</td>\n",
       "      <td>False</td>\n",
       "      <td>False</td>\n",
       "      <td>False</td>\n",
       "      <td>False</td>\n",
       "      <td>...</td>\n",
       "      <td>False</td>\n",
       "      <td>False</td>\n",
       "      <td>False</td>\n",
       "      <td>False</td>\n",
       "      <td>True</td>\n",
       "      <td>False</td>\n",
       "      <td>False</td>\n",
       "      <td>False</td>\n",
       "      <td>False</td>\n",
       "      <td>False</td>\n",
       "    </tr>\n",
       "    <tr>\n",
       "      <th>2</th>\n",
       "      <td>False</td>\n",
       "      <td>False</td>\n",
       "      <td>False</td>\n",
       "      <td>False</td>\n",
       "      <td>False</td>\n",
       "      <td>False</td>\n",
       "      <td>False</td>\n",
       "      <td>False</td>\n",
       "      <td>False</td>\n",
       "      <td>False</td>\n",
       "      <td>...</td>\n",
       "      <td>False</td>\n",
       "      <td>False</td>\n",
       "      <td>False</td>\n",
       "      <td>False</td>\n",
       "      <td>False</td>\n",
       "      <td>False</td>\n",
       "      <td>False</td>\n",
       "      <td>False</td>\n",
       "      <td>False</td>\n",
       "      <td>True</td>\n",
       "    </tr>\n",
       "    <tr>\n",
       "      <th>3</th>\n",
       "      <td>False</td>\n",
       "      <td>False</td>\n",
       "      <td>False</td>\n",
       "      <td>False</td>\n",
       "      <td>False</td>\n",
       "      <td>False</td>\n",
       "      <td>False</td>\n",
       "      <td>False</td>\n",
       "      <td>False</td>\n",
       "      <td>False</td>\n",
       "      <td>...</td>\n",
       "      <td>False</td>\n",
       "      <td>False</td>\n",
       "      <td>False</td>\n",
       "      <td>False</td>\n",
       "      <td>False</td>\n",
       "      <td>False</td>\n",
       "      <td>False</td>\n",
       "      <td>False</td>\n",
       "      <td>False</td>\n",
       "      <td>False</td>\n",
       "    </tr>\n",
       "    <tr>\n",
       "      <th>4</th>\n",
       "      <td>False</td>\n",
       "      <td>False</td>\n",
       "      <td>False</td>\n",
       "      <td>False</td>\n",
       "      <td>False</td>\n",
       "      <td>False</td>\n",
       "      <td>False</td>\n",
       "      <td>False</td>\n",
       "      <td>False</td>\n",
       "      <td>False</td>\n",
       "      <td>...</td>\n",
       "      <td>False</td>\n",
       "      <td>False</td>\n",
       "      <td>False</td>\n",
       "      <td>False</td>\n",
       "      <td>False</td>\n",
       "      <td>False</td>\n",
       "      <td>False</td>\n",
       "      <td>False</td>\n",
       "      <td>False</td>\n",
       "      <td>False</td>\n",
       "    </tr>\n",
       "    <tr>\n",
       "      <th>...</th>\n",
       "      <td>...</td>\n",
       "      <td>...</td>\n",
       "      <td>...</td>\n",
       "      <td>...</td>\n",
       "      <td>...</td>\n",
       "      <td>...</td>\n",
       "      <td>...</td>\n",
       "      <td>...</td>\n",
       "      <td>...</td>\n",
       "      <td>...</td>\n",
       "      <td>...</td>\n",
       "      <td>...</td>\n",
       "      <td>...</td>\n",
       "      <td>...</td>\n",
       "      <td>...</td>\n",
       "      <td>...</td>\n",
       "      <td>...</td>\n",
       "      <td>...</td>\n",
       "      <td>...</td>\n",
       "      <td>...</td>\n",
       "      <td>...</td>\n",
       "    </tr>\n",
       "    <tr>\n",
       "      <th>396025</th>\n",
       "      <td>False</td>\n",
       "      <td>False</td>\n",
       "      <td>False</td>\n",
       "      <td>False</td>\n",
       "      <td>False</td>\n",
       "      <td>False</td>\n",
       "      <td>False</td>\n",
       "      <td>False</td>\n",
       "      <td>False</td>\n",
       "      <td>False</td>\n",
       "      <td>...</td>\n",
       "      <td>False</td>\n",
       "      <td>False</td>\n",
       "      <td>False</td>\n",
       "      <td>False</td>\n",
       "      <td>False</td>\n",
       "      <td>False</td>\n",
       "      <td>False</td>\n",
       "      <td>False</td>\n",
       "      <td>True</td>\n",
       "      <td>False</td>\n",
       "    </tr>\n",
       "    <tr>\n",
       "      <th>396026</th>\n",
       "      <td>False</td>\n",
       "      <td>False</td>\n",
       "      <td>False</td>\n",
       "      <td>False</td>\n",
       "      <td>False</td>\n",
       "      <td>False</td>\n",
       "      <td>False</td>\n",
       "      <td>False</td>\n",
       "      <td>False</td>\n",
       "      <td>False</td>\n",
       "      <td>...</td>\n",
       "      <td>False</td>\n",
       "      <td>False</td>\n",
       "      <td>False</td>\n",
       "      <td>False</td>\n",
       "      <td>False</td>\n",
       "      <td>False</td>\n",
       "      <td>False</td>\n",
       "      <td>True</td>\n",
       "      <td>False</td>\n",
       "      <td>False</td>\n",
       "    </tr>\n",
       "    <tr>\n",
       "      <th>396027</th>\n",
       "      <td>False</td>\n",
       "      <td>False</td>\n",
       "      <td>False</td>\n",
       "      <td>False</td>\n",
       "      <td>False</td>\n",
       "      <td>False</td>\n",
       "      <td>False</td>\n",
       "      <td>False</td>\n",
       "      <td>False</td>\n",
       "      <td>False</td>\n",
       "      <td>...</td>\n",
       "      <td>False</td>\n",
       "      <td>True</td>\n",
       "      <td>False</td>\n",
       "      <td>False</td>\n",
       "      <td>False</td>\n",
       "      <td>False</td>\n",
       "      <td>False</td>\n",
       "      <td>False</td>\n",
       "      <td>False</td>\n",
       "      <td>False</td>\n",
       "    </tr>\n",
       "    <tr>\n",
       "      <th>396028</th>\n",
       "      <td>False</td>\n",
       "      <td>False</td>\n",
       "      <td>False</td>\n",
       "      <td>False</td>\n",
       "      <td>False</td>\n",
       "      <td>False</td>\n",
       "      <td>False</td>\n",
       "      <td>False</td>\n",
       "      <td>False</td>\n",
       "      <td>False</td>\n",
       "      <td>...</td>\n",
       "      <td>False</td>\n",
       "      <td>False</td>\n",
       "      <td>False</td>\n",
       "      <td>False</td>\n",
       "      <td>False</td>\n",
       "      <td>False</td>\n",
       "      <td>True</td>\n",
       "      <td>False</td>\n",
       "      <td>False</td>\n",
       "      <td>False</td>\n",
       "    </tr>\n",
       "    <tr>\n",
       "      <th>396029</th>\n",
       "      <td>False</td>\n",
       "      <td>False</td>\n",
       "      <td>False</td>\n",
       "      <td>False</td>\n",
       "      <td>False</td>\n",
       "      <td>False</td>\n",
       "      <td>False</td>\n",
       "      <td>False</td>\n",
       "      <td>False</td>\n",
       "      <td>False</td>\n",
       "      <td>...</td>\n",
       "      <td>False</td>\n",
       "      <td>False</td>\n",
       "      <td>False</td>\n",
       "      <td>False</td>\n",
       "      <td>False</td>\n",
       "      <td>False</td>\n",
       "      <td>True</td>\n",
       "      <td>False</td>\n",
       "      <td>False</td>\n",
       "      <td>False</td>\n",
       "    </tr>\n",
       "  </tbody>\n",
       "</table>\n",
       "<p>395219 rows × 34 columns</p>\n",
       "</div>"
      ],
      "text/plain": [
       "        374    552    754    1058   1397   1787   2286   2766   3536   4572   \\\n",
       "0       False  False  False  False  False  False  False  False  False  False   \n",
       "1       False  False  False  False  False  False  False  False  False  False   \n",
       "2       False  False  False  False  False  False  False  False  False  False   \n",
       "3       False  False  False  False  False  False  False  False  False  False   \n",
       "4       False  False  False  False  False  False  False  False  False  False   \n",
       "...       ...    ...    ...    ...    ...    ...    ...    ...    ...    ...   \n",
       "396025  False  False  False  False  False  False  False  False  False  False   \n",
       "396026  False  False  False  False  False  False  False  False  False  False   \n",
       "396027  False  False  False  False  False  False  False  False  False  False   \n",
       "396028  False  False  False  False  False  False  False  False  False  False   \n",
       "396029  False  False  False  False  False  False  False  False  False  False   \n",
       "\n",
       "        ...  18526  19182  20280  21221  22085  22495  22580  23662  25601  \\\n",
       "0       ...  False  False  False  False  False  False  False  False   True   \n",
       "1       ...  False  False  False  False   True  False  False  False  False   \n",
       "2       ...  False  False  False  False  False  False  False  False  False   \n",
       "3       ...  False  False  False  False  False  False  False  False  False   \n",
       "4       ...  False  False  False  False  False  False  False  False  False   \n",
       "...     ...    ...    ...    ...    ...    ...    ...    ...    ...    ...   \n",
       "396025  ...  False  False  False  False  False  False  False  False   True   \n",
       "396026  ...  False  False  False  False  False  False  False   True  False   \n",
       "396027  ...  False   True  False  False  False  False  False  False  False   \n",
       "396028  ...  False  False  False  False  False  False   True  False  False   \n",
       "396029  ...  False  False  False  False  False  False   True  False  False   \n",
       "\n",
       "        26655  \n",
       "0       False  \n",
       "1       False  \n",
       "2        True  \n",
       "3       False  \n",
       "4       False  \n",
       "...       ...  \n",
       "396025  False  \n",
       "396026  False  \n",
       "396027  False  \n",
       "396028  False  \n",
       "396029  False  \n",
       "\n",
       "[395219 rows x 34 columns]"
      ]
     },
     "execution_count": 196,
     "metadata": {},
     "output_type": "execute_result"
    }
   ],
   "source": [
    "dummies"
   ]
  },
  {
   "cell_type": "code",
   "execution_count": 197,
   "id": "4a1e8988-754c-4f10-ace3-be3d6857e5d2",
   "metadata": {},
   "outputs": [
    {
     "data": {
      "text/plain": [
       "Index(['loan_amnt', 'term', 'int_rate', 'installment', 'sub_grade',\n",
       "       'home_ownership', 'annual_inc', 'verification_status', 'issue_d',\n",
       "       'loan_status', 'purpose', 'dti', 'earliest_cr_line', 'open_acc',\n",
       "       'pub_rec', 'revol_bal', 'revol_util', 'total_acc',\n",
       "       'initial_list_status', 'application_type', 'mort_acc',\n",
       "       'pub_rec_bankruptcies', 'address', 'loan_repaid'],\n",
       "      dtype='object')"
      ]
     },
     "execution_count": 197,
     "metadata": {},
     "output_type": "execute_result"
    }
   ],
   "source": [
    "df2_drop.columns"
   ]
  },
  {
   "cell_type": "code",
   "execution_count": 198,
   "id": "69779020-f3f0-45b6-86bd-dce90b090e79",
   "metadata": {},
   "outputs": [
    {
     "data": {
      "text/html": [
       "<div>\n",
       "<style scoped>\n",
       "    .dataframe tbody tr th:only-of-type {\n",
       "        vertical-align: middle;\n",
       "    }\n",
       "\n",
       "    .dataframe tbody tr th {\n",
       "        vertical-align: top;\n",
       "    }\n",
       "\n",
       "    .dataframe thead th {\n",
       "        text-align: right;\n",
       "    }\n",
       "</style>\n",
       "<table border=\"1\" class=\"dataframe\">\n",
       "  <thead>\n",
       "    <tr style=\"text-align: right;\">\n",
       "      <th></th>\n",
       "      <th>loan_amnt</th>\n",
       "      <th>term</th>\n",
       "      <th>int_rate</th>\n",
       "      <th>installment</th>\n",
       "      <th>sub_grade</th>\n",
       "      <th>home_ownership</th>\n",
       "      <th>annual_inc</th>\n",
       "      <th>verification_status</th>\n",
       "      <th>issue_d</th>\n",
       "      <th>loan_status</th>\n",
       "      <th>...</th>\n",
       "      <th>pub_rec</th>\n",
       "      <th>revol_bal</th>\n",
       "      <th>revol_util</th>\n",
       "      <th>total_acc</th>\n",
       "      <th>initial_list_status</th>\n",
       "      <th>application_type</th>\n",
       "      <th>mort_acc</th>\n",
       "      <th>pub_rec_bankruptcies</th>\n",
       "      <th>address</th>\n",
       "      <th>loan_repaid</th>\n",
       "    </tr>\n",
       "  </thead>\n",
       "  <tbody>\n",
       "    <tr>\n",
       "      <th>0</th>\n",
       "      <td>10000.0</td>\n",
       "      <td>36</td>\n",
       "      <td>11.44</td>\n",
       "      <td>329.48</td>\n",
       "      <td>25601</td>\n",
       "      <td>159790</td>\n",
       "      <td>117000.0</td>\n",
       "      <td>125082</td>\n",
       "      <td>11705</td>\n",
       "      <td>318357</td>\n",
       "      <td>...</td>\n",
       "      <td>0.0</td>\n",
       "      <td>36369.0</td>\n",
       "      <td>41.8</td>\n",
       "      <td>25.0</td>\n",
       "      <td>157964</td>\n",
       "      <td>395319</td>\n",
       "      <td>0.0</td>\n",
       "      <td>0.0</td>\n",
       "      <td>1</td>\n",
       "      <td>1</td>\n",
       "    </tr>\n",
       "    <tr>\n",
       "      <th>1</th>\n",
       "      <td>8000.0</td>\n",
       "      <td>36</td>\n",
       "      <td>11.99</td>\n",
       "      <td>265.68</td>\n",
       "      <td>22085</td>\n",
       "      <td>198348</td>\n",
       "      <td>65000.0</td>\n",
       "      <td>125082</td>\n",
       "      <td>11705</td>\n",
       "      <td>318357</td>\n",
       "      <td>...</td>\n",
       "      <td>0.0</td>\n",
       "      <td>20131.0</td>\n",
       "      <td>53.3</td>\n",
       "      <td>27.0</td>\n",
       "      <td>238066</td>\n",
       "      <td>395319</td>\n",
       "      <td>3.0</td>\n",
       "      <td>0.0</td>\n",
       "      <td>1</td>\n",
       "      <td>1</td>\n",
       "    </tr>\n",
       "    <tr>\n",
       "      <th>2</th>\n",
       "      <td>15600.0</td>\n",
       "      <td>36</td>\n",
       "      <td>10.49</td>\n",
       "      <td>506.97</td>\n",
       "      <td>26655</td>\n",
       "      <td>159790</td>\n",
       "      <td>43057.0</td>\n",
       "      <td>131385</td>\n",
       "      <td>11705</td>\n",
       "      <td>318357</td>\n",
       "      <td>...</td>\n",
       "      <td>0.0</td>\n",
       "      <td>11987.0</td>\n",
       "      <td>92.2</td>\n",
       "      <td>26.0</td>\n",
       "      <td>238066</td>\n",
       "      <td>395319</td>\n",
       "      <td>0.0</td>\n",
       "      <td>0.0</td>\n",
       "      <td>1</td>\n",
       "      <td>1</td>\n",
       "    </tr>\n",
       "    <tr>\n",
       "      <th>3</th>\n",
       "      <td>7200.0</td>\n",
       "      <td>36</td>\n",
       "      <td>6.49</td>\n",
       "      <td>220.65</td>\n",
       "      <td>9567</td>\n",
       "      <td>159790</td>\n",
       "      <td>54000.0</td>\n",
       "      <td>125082</td>\n",
       "      <td>8858</td>\n",
       "      <td>318357</td>\n",
       "      <td>...</td>\n",
       "      <td>0.0</td>\n",
       "      <td>5472.0</td>\n",
       "      <td>21.5</td>\n",
       "      <td>13.0</td>\n",
       "      <td>238066</td>\n",
       "      <td>395319</td>\n",
       "      <td>0.0</td>\n",
       "      <td>0.0</td>\n",
       "      <td>1</td>\n",
       "      <td>1</td>\n",
       "    </tr>\n",
       "    <tr>\n",
       "      <th>4</th>\n",
       "      <td>24375.0</td>\n",
       "      <td>60</td>\n",
       "      <td>17.27</td>\n",
       "      <td>609.33</td>\n",
       "      <td>18244</td>\n",
       "      <td>198348</td>\n",
       "      <td>55000.0</td>\n",
       "      <td>139563</td>\n",
       "      <td>6970</td>\n",
       "      <td>77673</td>\n",
       "      <td>...</td>\n",
       "      <td>0.0</td>\n",
       "      <td>24584.0</td>\n",
       "      <td>69.8</td>\n",
       "      <td>43.0</td>\n",
       "      <td>238066</td>\n",
       "      <td>395319</td>\n",
       "      <td>1.0</td>\n",
       "      <td>0.0</td>\n",
       "      <td>1</td>\n",
       "      <td>0</td>\n",
       "    </tr>\n",
       "  </tbody>\n",
       "</table>\n",
       "<p>5 rows × 24 columns</p>\n",
       "</div>"
      ],
      "text/plain": [
       "   loan_amnt  term  int_rate  installment  sub_grade  home_ownership  \\\n",
       "0    10000.0    36     11.44       329.48      25601          159790   \n",
       "1     8000.0    36     11.99       265.68      22085          198348   \n",
       "2    15600.0    36     10.49       506.97      26655          159790   \n",
       "3     7200.0    36      6.49       220.65       9567          159790   \n",
       "4    24375.0    60     17.27       609.33      18244          198348   \n",
       "\n",
       "   annual_inc  verification_status  issue_d  loan_status  ...  pub_rec  \\\n",
       "0    117000.0               125082    11705       318357  ...      0.0   \n",
       "1     65000.0               125082    11705       318357  ...      0.0   \n",
       "2     43057.0               131385    11705       318357  ...      0.0   \n",
       "3     54000.0               125082     8858       318357  ...      0.0   \n",
       "4     55000.0               139563     6970        77673  ...      0.0   \n",
       "\n",
       "   revol_bal  revol_util  total_acc  initial_list_status  application_type  \\\n",
       "0    36369.0        41.8       25.0               157964            395319   \n",
       "1    20131.0        53.3       27.0               238066            395319   \n",
       "2    11987.0        92.2       26.0               238066            395319   \n",
       "3     5472.0        21.5       13.0               238066            395319   \n",
       "4    24584.0        69.8       43.0               238066            395319   \n",
       "\n",
       "   mort_acc  pub_rec_bankruptcies  address  loan_repaid  \n",
       "0       0.0                   0.0        1            1  \n",
       "1       3.0                   0.0        1            1  \n",
       "2       0.0                   0.0        1            1  \n",
       "3       0.0                   0.0        1            1  \n",
       "4       1.0                   0.0        1            0  \n",
       "\n",
       "[5 rows x 24 columns]"
      ]
     },
     "execution_count": 198,
     "metadata": {},
     "output_type": "execute_result"
    }
   ],
   "source": [
    "df2_drop.head()"
   ]
  },
  {
   "cell_type": "markdown",
   "id": "f09333a6-2175-4621-8966-31b1aca70277",
   "metadata": {},
   "source": [
    "<span style=\"font-family: 'Times New Roman'; font-size: 18px;\"> \n",
    "In this section, you'll see an increase in the number of columns due to the implementation of one hot encoding for every potential sub_grade. We ended up discarding the initial one, which happened to be A_1.      </span>"
   ]
  },
  {
   "cell_type": "code",
   "execution_count": 199,
   "id": "67879bff-de30-4910-a321-5fc9cd124ee8",
   "metadata": {},
   "outputs": [],
   "source": [
    "df2_drop=pd.concat([df2_drop.drop('sub_grade',axis=1),dummies],axis=1)"
   ]
  },
  {
   "cell_type": "code",
   "execution_count": 200,
   "id": "a12b76cf-7532-42cd-852e-912e6766d376",
   "metadata": {},
   "outputs": [
    {
     "data": {
      "text/html": [
       "<div>\n",
       "<style scoped>\n",
       "    .dataframe tbody tr th:only-of-type {\n",
       "        vertical-align: middle;\n",
       "    }\n",
       "\n",
       "    .dataframe tbody tr th {\n",
       "        vertical-align: top;\n",
       "    }\n",
       "\n",
       "    .dataframe thead th {\n",
       "        text-align: right;\n",
       "    }\n",
       "</style>\n",
       "<table border=\"1\" class=\"dataframe\">\n",
       "  <thead>\n",
       "    <tr style=\"text-align: right;\">\n",
       "      <th></th>\n",
       "      <th>loan_amnt</th>\n",
       "      <th>term</th>\n",
       "      <th>int_rate</th>\n",
       "      <th>installment</th>\n",
       "      <th>home_ownership</th>\n",
       "      <th>annual_inc</th>\n",
       "      <th>verification_status</th>\n",
       "      <th>issue_d</th>\n",
       "      <th>loan_status</th>\n",
       "      <th>purpose</th>\n",
       "      <th>...</th>\n",
       "      <th>18526</th>\n",
       "      <th>19182</th>\n",
       "      <th>20280</th>\n",
       "      <th>21221</th>\n",
       "      <th>22085</th>\n",
       "      <th>22495</th>\n",
       "      <th>22580</th>\n",
       "      <th>23662</th>\n",
       "      <th>25601</th>\n",
       "      <th>26655</th>\n",
       "    </tr>\n",
       "  </thead>\n",
       "  <tbody>\n",
       "    <tr>\n",
       "      <th>0</th>\n",
       "      <td>10000.0</td>\n",
       "      <td>36</td>\n",
       "      <td>11.44</td>\n",
       "      <td>329.48</td>\n",
       "      <td>159790</td>\n",
       "      <td>117000.0</td>\n",
       "      <td>125082</td>\n",
       "      <td>11705</td>\n",
       "      <td>318357</td>\n",
       "      <td>2452</td>\n",
       "      <td>...</td>\n",
       "      <td>False</td>\n",
       "      <td>False</td>\n",
       "      <td>False</td>\n",
       "      <td>False</td>\n",
       "      <td>False</td>\n",
       "      <td>False</td>\n",
       "      <td>False</td>\n",
       "      <td>False</td>\n",
       "      <td>True</td>\n",
       "      <td>False</td>\n",
       "    </tr>\n",
       "    <tr>\n",
       "      <th>1</th>\n",
       "      <td>8000.0</td>\n",
       "      <td>36</td>\n",
       "      <td>11.99</td>\n",
       "      <td>265.68</td>\n",
       "      <td>198348</td>\n",
       "      <td>65000.0</td>\n",
       "      <td>125082</td>\n",
       "      <td>11705</td>\n",
       "      <td>318357</td>\n",
       "      <td>234507</td>\n",
       "      <td>...</td>\n",
       "      <td>False</td>\n",
       "      <td>False</td>\n",
       "      <td>False</td>\n",
       "      <td>False</td>\n",
       "      <td>True</td>\n",
       "      <td>False</td>\n",
       "      <td>False</td>\n",
       "      <td>False</td>\n",
       "      <td>False</td>\n",
       "      <td>False</td>\n",
       "    </tr>\n",
       "    <tr>\n",
       "      <th>2</th>\n",
       "      <td>15600.0</td>\n",
       "      <td>36</td>\n",
       "      <td>10.49</td>\n",
       "      <td>506.97</td>\n",
       "      <td>159790</td>\n",
       "      <td>43057.0</td>\n",
       "      <td>131385</td>\n",
       "      <td>11705</td>\n",
       "      <td>318357</td>\n",
       "      <td>83019</td>\n",
       "      <td>...</td>\n",
       "      <td>False</td>\n",
       "      <td>False</td>\n",
       "      <td>False</td>\n",
       "      <td>False</td>\n",
       "      <td>False</td>\n",
       "      <td>False</td>\n",
       "      <td>False</td>\n",
       "      <td>False</td>\n",
       "      <td>False</td>\n",
       "      <td>True</td>\n",
       "    </tr>\n",
       "    <tr>\n",
       "      <th>3</th>\n",
       "      <td>7200.0</td>\n",
       "      <td>36</td>\n",
       "      <td>6.49</td>\n",
       "      <td>220.65</td>\n",
       "      <td>159790</td>\n",
       "      <td>54000.0</td>\n",
       "      <td>125082</td>\n",
       "      <td>8858</td>\n",
       "      <td>318357</td>\n",
       "      <td>83019</td>\n",
       "      <td>...</td>\n",
       "      <td>False</td>\n",
       "      <td>False</td>\n",
       "      <td>False</td>\n",
       "      <td>False</td>\n",
       "      <td>False</td>\n",
       "      <td>False</td>\n",
       "      <td>False</td>\n",
       "      <td>False</td>\n",
       "      <td>False</td>\n",
       "      <td>False</td>\n",
       "    </tr>\n",
       "    <tr>\n",
       "      <th>4</th>\n",
       "      <td>24375.0</td>\n",
       "      <td>60</td>\n",
       "      <td>17.27</td>\n",
       "      <td>609.33</td>\n",
       "      <td>198348</td>\n",
       "      <td>55000.0</td>\n",
       "      <td>139563</td>\n",
       "      <td>6970</td>\n",
       "      <td>77673</td>\n",
       "      <td>83019</td>\n",
       "      <td>...</td>\n",
       "      <td>False</td>\n",
       "      <td>False</td>\n",
       "      <td>False</td>\n",
       "      <td>False</td>\n",
       "      <td>False</td>\n",
       "      <td>False</td>\n",
       "      <td>False</td>\n",
       "      <td>False</td>\n",
       "      <td>False</td>\n",
       "      <td>False</td>\n",
       "    </tr>\n",
       "    <tr>\n",
       "      <th>...</th>\n",
       "      <td>...</td>\n",
       "      <td>...</td>\n",
       "      <td>...</td>\n",
       "      <td>...</td>\n",
       "      <td>...</td>\n",
       "      <td>...</td>\n",
       "      <td>...</td>\n",
       "      <td>...</td>\n",
       "      <td>...</td>\n",
       "      <td>...</td>\n",
       "      <td>...</td>\n",
       "      <td>...</td>\n",
       "      <td>...</td>\n",
       "      <td>...</td>\n",
       "      <td>...</td>\n",
       "      <td>...</td>\n",
       "      <td>...</td>\n",
       "      <td>...</td>\n",
       "      <td>...</td>\n",
       "      <td>...</td>\n",
       "      <td>...</td>\n",
       "    </tr>\n",
       "    <tr>\n",
       "      <th>396025</th>\n",
       "      <td>10000.0</td>\n",
       "      <td>60</td>\n",
       "      <td>10.99</td>\n",
       "      <td>217.38</td>\n",
       "      <td>159790</td>\n",
       "      <td>40000.0</td>\n",
       "      <td>131385</td>\n",
       "      <td>8401</td>\n",
       "      <td>318357</td>\n",
       "      <td>234507</td>\n",
       "      <td>...</td>\n",
       "      <td>False</td>\n",
       "      <td>False</td>\n",
       "      <td>False</td>\n",
       "      <td>False</td>\n",
       "      <td>False</td>\n",
       "      <td>False</td>\n",
       "      <td>False</td>\n",
       "      <td>False</td>\n",
       "      <td>True</td>\n",
       "      <td>False</td>\n",
       "    </tr>\n",
       "    <tr>\n",
       "      <th>396026</th>\n",
       "      <td>21000.0</td>\n",
       "      <td>36</td>\n",
       "      <td>12.29</td>\n",
       "      <td>700.42</td>\n",
       "      <td>198348</td>\n",
       "      <td>110000.0</td>\n",
       "      <td>131385</td>\n",
       "      <td>7167</td>\n",
       "      <td>318357</td>\n",
       "      <td>234507</td>\n",
       "      <td>...</td>\n",
       "      <td>False</td>\n",
       "      <td>False</td>\n",
       "      <td>False</td>\n",
       "      <td>False</td>\n",
       "      <td>False</td>\n",
       "      <td>False</td>\n",
       "      <td>False</td>\n",
       "      <td>True</td>\n",
       "      <td>False</td>\n",
       "      <td>False</td>\n",
       "    </tr>\n",
       "    <tr>\n",
       "      <th>396027</th>\n",
       "      <td>5000.0</td>\n",
       "      <td>36</td>\n",
       "      <td>9.99</td>\n",
       "      <td>161.32</td>\n",
       "      <td>159790</td>\n",
       "      <td>56500.0</td>\n",
       "      <td>139563</td>\n",
       "      <td>10047</td>\n",
       "      <td>318357</td>\n",
       "      <td>234507</td>\n",
       "      <td>...</td>\n",
       "      <td>False</td>\n",
       "      <td>True</td>\n",
       "      <td>False</td>\n",
       "      <td>False</td>\n",
       "      <td>False</td>\n",
       "      <td>False</td>\n",
       "      <td>False</td>\n",
       "      <td>False</td>\n",
       "      <td>False</td>\n",
       "      <td>False</td>\n",
       "    </tr>\n",
       "    <tr>\n",
       "      <th>396028</th>\n",
       "      <td>21000.0</td>\n",
       "      <td>60</td>\n",
       "      <td>15.31</td>\n",
       "      <td>503.02</td>\n",
       "      <td>198348</td>\n",
       "      <td>64000.0</td>\n",
       "      <td>139563</td>\n",
       "      <td>4220</td>\n",
       "      <td>318357</td>\n",
       "      <td>234507</td>\n",
       "      <td>...</td>\n",
       "      <td>False</td>\n",
       "      <td>False</td>\n",
       "      <td>False</td>\n",
       "      <td>False</td>\n",
       "      <td>False</td>\n",
       "      <td>False</td>\n",
       "      <td>True</td>\n",
       "      <td>False</td>\n",
       "      <td>False</td>\n",
       "      <td>False</td>\n",
       "    </tr>\n",
       "    <tr>\n",
       "      <th>396029</th>\n",
       "      <td>2000.0</td>\n",
       "      <td>36</td>\n",
       "      <td>13.61</td>\n",
       "      <td>67.98</td>\n",
       "      <td>159790</td>\n",
       "      <td>42996.0</td>\n",
       "      <td>139563</td>\n",
       "      <td>832</td>\n",
       "      <td>318357</td>\n",
       "      <td>234507</td>\n",
       "      <td>...</td>\n",
       "      <td>False</td>\n",
       "      <td>False</td>\n",
       "      <td>False</td>\n",
       "      <td>False</td>\n",
       "      <td>False</td>\n",
       "      <td>False</td>\n",
       "      <td>True</td>\n",
       "      <td>False</td>\n",
       "      <td>False</td>\n",
       "      <td>False</td>\n",
       "    </tr>\n",
       "  </tbody>\n",
       "</table>\n",
       "<p>395219 rows × 57 columns</p>\n",
       "</div>"
      ],
      "text/plain": [
       "        loan_amnt  term  int_rate  installment  home_ownership  annual_inc  \\\n",
       "0         10000.0    36     11.44       329.48          159790    117000.0   \n",
       "1          8000.0    36     11.99       265.68          198348     65000.0   \n",
       "2         15600.0    36     10.49       506.97          159790     43057.0   \n",
       "3          7200.0    36      6.49       220.65          159790     54000.0   \n",
       "4         24375.0    60     17.27       609.33          198348     55000.0   \n",
       "...           ...   ...       ...          ...             ...         ...   \n",
       "396025    10000.0    60     10.99       217.38          159790     40000.0   \n",
       "396026    21000.0    36     12.29       700.42          198348    110000.0   \n",
       "396027     5000.0    36      9.99       161.32          159790     56500.0   \n",
       "396028    21000.0    60     15.31       503.02          198348     64000.0   \n",
       "396029     2000.0    36     13.61        67.98          159790     42996.0   \n",
       "\n",
       "        verification_status  issue_d  loan_status  purpose  ...  18526  19182  \\\n",
       "0                    125082    11705       318357     2452  ...  False  False   \n",
       "1                    125082    11705       318357   234507  ...  False  False   \n",
       "2                    131385    11705       318357    83019  ...  False  False   \n",
       "3                    125082     8858       318357    83019  ...  False  False   \n",
       "4                    139563     6970        77673    83019  ...  False  False   \n",
       "...                     ...      ...          ...      ...  ...    ...    ...   \n",
       "396025               131385     8401       318357   234507  ...  False  False   \n",
       "396026               131385     7167       318357   234507  ...  False  False   \n",
       "396027               139563    10047       318357   234507  ...  False   True   \n",
       "396028               139563     4220       318357   234507  ...  False  False   \n",
       "396029               139563      832       318357   234507  ...  False  False   \n",
       "\n",
       "        20280  21221  22085  22495  22580  23662  25601  26655  \n",
       "0       False  False  False  False  False  False   True  False  \n",
       "1       False  False   True  False  False  False  False  False  \n",
       "2       False  False  False  False  False  False  False   True  \n",
       "3       False  False  False  False  False  False  False  False  \n",
       "4       False  False  False  False  False  False  False  False  \n",
       "...       ...    ...    ...    ...    ...    ...    ...    ...  \n",
       "396025  False  False  False  False  False  False   True  False  \n",
       "396026  False  False  False  False  False   True  False  False  \n",
       "396027  False  False  False  False  False  False  False  False  \n",
       "396028  False  False  False  False   True  False  False  False  \n",
       "396029  False  False  False  False   True  False  False  False  \n",
       "\n",
       "[395219 rows x 57 columns]"
      ]
     },
     "execution_count": 200,
     "metadata": {},
     "output_type": "execute_result"
    }
   ],
   "source": [
    "df2_drop"
   ]
  },
  {
   "cell_type": "markdown",
   "id": "cc6ff18e-607a-4203-906f-942a490ff060",
   "metadata": {},
   "source": [
    "<span style=\"font-family: 'Times New Roman'; font-size: 18px;\"> \n",
    "    \n",
    "### Verification_status, application_type, initial_list_status, purpose columns\n",
    "The same tasks will be executed with dummy variables applied to the indicated columns. These columns verification_status, application_type, initial_list_status and purpose\n",
    "  are suitable for being treated as dummy variables since they have limited categories, primarily consisting of binary choices or just a handful of options. \n",
    "\n",
    "</span>"
   ]
  },
  {
   "cell_type": "code",
   "execution_count": 201,
   "id": "006ce7ad-410d-4018-875a-049e4325c9dc",
   "metadata": {},
   "outputs": [],
   "source": [
    "dumies = pd.get_dummies(df2_drop[['verification_status','application_type',\n",
    "                                  'initial_list_status','purpose']],drop_first=True)"
   ]
  },
  {
   "cell_type": "code",
   "execution_count": 202,
   "id": "d2ae9b08-fd9d-499e-b244-39e2fe7238e9",
   "metadata": {},
   "outputs": [],
   "source": [
    "df2_drop = pd.concat([df2_drop.drop(['verification_status','application_type',\n",
    "                                  'initial_list_status','purpose'],axis=1),dummies],axis=1)"
   ]
  },
  {
   "cell_type": "markdown",
   "id": "5e8678e2-f15b-4c9e-a345-9c9d6fb721ac",
   "metadata": {},
   "source": [
    "<span style=\"font-family: 'Times New Roman'; font-size: 18px;\"> \n",
    "    \n",
    "### Home_ownership column\n",
    "To assess home ownership, we will proceed to analyze the value counts. Because there's so few people in 'none' or 'any' columns lets just put these categories in the other category. In order to achieve this, we substitute 'none' and 'any' with 'other' by utilizing the replace function. \n",
    "\n",
    "</span>"
   ]
  },
  {
   "cell_type": "code",
   "execution_count": 203,
   "id": "2ad820b6-71fc-409c-89ef-aece6a8ae809",
   "metadata": {},
   "outputs": [
    {
     "data": {
      "text/plain": [
       "home_ownership\n",
       "MORTGAGE    198348\n",
       "RENT        159790\n",
       "OWN          37746\n",
       "OTHER          112\n",
       "NONE            31\n",
       "ANY              3\n",
       "Name: count, dtype: int64"
      ]
     },
     "execution_count": 203,
     "metadata": {},
     "output_type": "execute_result"
    }
   ],
   "source": [
    "df1['home_ownership'].value_counts()"
   ]
  },
  {
   "cell_type": "code",
   "execution_count": 204,
   "id": "a6d1a1de-808c-48fa-8a1e-f1c1947c2eda",
   "metadata": {},
   "outputs": [],
   "source": [
    "df2_drop['home_ownership']= df1['home_ownership'].replace(['NONE','ANY'],'OTHER')"
   ]
  },
  {
   "cell_type": "code",
   "execution_count": 205,
   "id": "81a4e6c5-30cf-433c-ad7e-a29bd6ee0081",
   "metadata": {},
   "outputs": [
    {
     "data": {
      "text/plain": [
       "home_ownership\n",
       "MORTGAGE    198022\n",
       "RENT        159395\n",
       "OWN          37660\n",
       "OTHER          142\n",
       "Name: count, dtype: int64"
      ]
     },
     "execution_count": 205,
     "metadata": {},
     "output_type": "execute_result"
    }
   ],
   "source": [
    "df2_drop['home_ownership'].value_counts()"
   ]
  },
  {
   "cell_type": "code",
   "execution_count": 206,
   "id": "0a008a63-609a-42aa-b67e-5da1385edcc2",
   "metadata": {},
   "outputs": [],
   "source": [
    "dummies = pd.get_dummies(df2_drop['home_ownership'])\n",
    "df2_drop=pd.concat([df2_drop.drop('home_ownership',axis=1),dummies],axis=1)"
   ]
  },
  {
   "cell_type": "markdown",
   "id": "2c6f4f72-f01b-4a06-999e-d9f132382841",
   "metadata": {},
   "source": [
    "<span style=\"font-family: 'Times New Roman'; font-size: 18px;\"> \n",
    "    \n",
    "### Address column\n",
    "Our goal is to develop a zip code column derived from the address information in the dataset with feature engineering, which will be labeled zip_code and will isolate the zip code from the address. \n",
    "\n",
    "</span>"
   ]
  },
  {
   "cell_type": "code",
   "execution_count": 207,
   "id": "1aead141-f2b6-4b6b-90e2-ca66a084191d",
   "metadata": {},
   "outputs": [],
   "source": [
    "df2_drop['zip_code']=df1['address'].apply(lambda address:address[-5:])"
   ]
  },
  {
   "cell_type": "code",
   "execution_count": 208,
   "id": "3f83ce34-10ff-41ec-9580-ad1a6fe9c9d3",
   "metadata": {},
   "outputs": [
    {
     "data": {
      "text/plain": [
       "zip_code\n",
       "70466    56880\n",
       "22690    56413\n",
       "30723    56402\n",
       "48052    55811\n",
       "00813    45725\n",
       "29597    45393\n",
       "05113    45300\n",
       "11650    11210\n",
       "93700    11126\n",
       "86630    10959\n",
       "Name: count, dtype: int64"
      ]
     },
     "execution_count": 208,
     "metadata": {},
     "output_type": "execute_result"
    }
   ],
   "source": [
    "df2_drop['zip_code'].value_counts()"
   ]
  },
  {
   "cell_type": "markdown",
   "id": "0ebe711a-e4d3-4e22-813b-ef2239cc95fc",
   "metadata": {},
   "source": [
    "<span style=\"font-family: 'Times New Roman'; font-size: 18px;\"> \n",
    "We aim to convert the zip_code column into dummy variables utilizing pandas. And concatenate the result and drop the original zip_code column along with dropping the address column. \n",
    "\n",
    "</span>"
   ]
  },
  {
   "cell_type": "code",
   "execution_count": 209,
   "id": "53b4c466-5cf6-4a16-ac89-9b6b399d0dcc",
   "metadata": {},
   "outputs": [],
   "source": [
    "dummies = pd.get_dummies(df2_drop['zip_code'])\n",
    "df2_drop=pd.concat([df2_drop.drop('zip_code',axis=1),dummies],axis=1)"
   ]
  },
  {
   "cell_type": "code",
   "execution_count": 210,
   "id": "cdaf639d-5706-400a-bd53-9585a2f8829a",
   "metadata": {},
   "outputs": [],
   "source": [
    "df2_drop = df2_drop.drop('address', axis=1)"
   ]
  },
  {
   "cell_type": "markdown",
   "id": "6f9d0350-797f-42b1-9c66-c64adea56bfe",
   "metadata": {},
   "source": [
    "<span style=\"font-family: 'Times New Roman'; font-size: 18px;\"> \n",
    "    \n",
    "### Issue_d\n",
    "The issued_d column indicates the month in which the loan was funded. While this information is useful for historical analysis, it isn't relevant for the predictive model we aim to build. The objective of our model is to predict whether a borrower will repay their loan based on the features available before the loan is issued. Therefore, we drop this column. \n",
    "</span>"
   ]
  },
  {
   "cell_type": "code",
   "execution_count": 212,
   "id": "bb1c4d35-0649-44ed-a3ee-137dc767d6b5",
   "metadata": {},
   "outputs": [],
   "source": [
    "#feat_info('issue_d')"
   ]
  },
  {
   "cell_type": "code",
   "execution_count": 213,
   "id": "2542c677-d57c-496e-8528-aec38fcca6e1",
   "metadata": {},
   "outputs": [],
   "source": [
    "df2_drop = df2_drop.drop('issue_d',axis=1)"
   ]
  },
  {
   "cell_type": "markdown",
   "id": "0acbb529-3fb9-4015-8e62-7724c6da89b6",
   "metadata": {},
   "source": [
    "<span style=\"font-family: 'Times New Roman'; font-size: 18px;\"> \n",
    "    \n",
    "### earliest_cr_line\n",
    "This column seems to indicate the month when the borrower's first recorded credit account was established. This feature acts as a historical time stamp, and we will employ the .apply method to extract the year from it. We will take the final four characters of the string and change them into an integer. We don't need to convert this to dummy variables because the year itself can be treated as a continuous data type. \n",
    "\n",
    "</span>"
   ]
  },
  {
   "cell_type": "code",
   "execution_count": 214,
   "id": "7b508552-a644-4bd2-96a4-510bef66b12a",
   "metadata": {},
   "outputs": [],
   "source": [
    "df2_drop['earliest_cr_line']=df1['earliest_cr_line'].apply(lambda date: int(date[-4:]))"
   ]
  },
  {
   "cell_type": "code",
   "execution_count": 215,
   "id": "2333d91f-ad8f-4bc1-b746-dcc813abbdb6",
   "metadata": {},
   "outputs": [
    {
     "data": {
      "text/plain": [
       "earliest_cr_line\n",
       "2000    29302\n",
       "2001    29031\n",
       "1999    26444\n",
       "2002    25849\n",
       "2003    23623\n",
       "        ...  \n",
       "1951        3\n",
       "1950        3\n",
       "1953        2\n",
       "1944        1\n",
       "1948        1\n",
       "Name: count, Length: 65, dtype: int64"
      ]
     },
     "execution_count": 215,
     "metadata": {},
     "output_type": "execute_result"
    }
   ],
   "source": [
    "df2_drop['earliest_cr_line'].value_counts()"
   ]
  },
  {
   "cell_type": "markdown",
   "id": "6cb1ddbe-b662-4ce6-a279-59cb4ef094d7",
   "metadata": {},
   "source": [
    "<span style=\"font-family: 'Times New Roman'; font-size: 18px;\"> \n",
    "\n",
    "### Train Test Split \n",
    "The following action involves importing the train test split function from sklearn. Next, we need to remove the 'loan_status' column because it essentially duplicates the loan repaid column. We will rely on the loan_repaid column, which is already formatted in binary (0s and 1s).</span>"
   ]
  },
  {
   "cell_type": "code",
   "execution_count": 216,
   "id": "55c09c65-e3c8-411e-8c3a-4276caee28c1",
   "metadata": {},
   "outputs": [],
   "source": [
    "from sklearn.model_selection import train_test_split"
   ]
  },
  {
   "cell_type": "code",
   "execution_count": 217,
   "id": "f7a9b7b5-2a22-4cad-bada-a769f8dc3714",
   "metadata": {},
   "outputs": [],
   "source": [
    "df2_drop = df2_drop.drop('loan_status', axis=1)"
   ]
  },
  {
   "cell_type": "code",
   "execution_count": 218,
   "id": "55b3d870-497b-4615-88f9-8d621f99758b",
   "metadata": {},
   "outputs": [
    {
     "data": {
      "text/plain": [
       "Index(['loan_amnt', 'term', 'int_rate', 'installment', 'grade', 'sub_grade',\n",
       "       'emp_title', 'emp_length', 'home_ownership', 'annual_inc',\n",
       "       'verification_status', 'issue_d', 'loan_status', 'purpose', 'title',\n",
       "       'dti', 'earliest_cr_line', 'open_acc', 'pub_rec', 'revol_bal',\n",
       "       'revol_util', 'total_acc', 'initial_list_status', 'application_type',\n",
       "       'mort_acc', 'pub_rec_bankruptcies', 'address', 'loan_repaid'],\n",
       "      dtype='object')"
      ]
     },
     "execution_count": 218,
     "metadata": {},
     "output_type": "execute_result"
    }
   ],
   "source": [
    "df.columns"
   ]
  },
  {
   "cell_type": "code",
   "execution_count": 219,
   "id": "92da8c85-6edc-491c-86f3-b4febe48d386",
   "metadata": {},
   "outputs": [],
   "source": [
    "X = df2_drop.drop('loan_repaid', axis=1).values"
   ]
  },
  {
   "cell_type": "code",
   "execution_count": 220,
   "id": "609ebbac-734d-4ecb-aa0b-79bae1438b9e",
   "metadata": {},
   "outputs": [],
   "source": [
    "y = df2_drop['loan_repaid'].values"
   ]
  },
  {
   "cell_type": "code",
   "execution_count": 221,
   "id": "4d4d9a58-c601-4da5-afa6-1a5e753791dd",
   "metadata": {},
   "outputs": [
    {
     "name": "stdout",
     "output_type": "stream",
     "text": [
      "396030\n"
     ]
    }
   ],
   "source": [
    "print(len(df))"
   ]
  },
  {
   "cell_type": "markdown",
   "id": "f7b0866d-1c80-4569-a357-0531062fd8a4",
   "metadata": {},
   "source": [
    "<span style=\"font-family: 'Times New Roman'; font-size: 18px;\"> \n",
    "\n",
    "Next, we perform a train test split with test_size=0.2 and a random_state=101.  </span>"
   ]
  },
  {
   "cell_type": "code",
   "execution_count": 222,
   "id": "6078f42b-dbb4-40cc-877f-b60a2f29a8a9",
   "metadata": {},
   "outputs": [],
   "source": [
    "X_train, X_test, y_train, y_test = train_test_split(X, y, test_size=0.2, random_state=101)"
   ]
  },
  {
   "cell_type": "markdown",
   "id": "086457e2-c9b8-4564-88e3-f20e8bba840a",
   "metadata": {},
   "source": [
    "<span style=\"font-family: 'Times New Roman'; font-size: 18px;\"> \n",
    "\n",
    "### Normalizing the Data \n",
    "At this point, we apply a MinMaxScaler to standardize the feature datasets X_train and X_test. It's important to remember that we aim to prevent any data leakage from the test set, so we exclusively fit the scaler using the X_train data.\n",
    "\n",
    "</span>"
   ]
  },
  {
   "cell_type": "code",
   "execution_count": 223,
   "id": "e3f4fc93-308d-49d9-b3cc-42851e3dc406",
   "metadata": {},
   "outputs": [],
   "source": [
    "from sklearn.preprocessing import MinMaxScaler"
   ]
  },
  {
   "cell_type": "code",
   "execution_count": 224,
   "id": "f63deed1-4a9b-4f73-93aa-402ce0af0969",
   "metadata": {},
   "outputs": [],
   "source": [
    "scaler = MinMaxScaler()"
   ]
  },
  {
   "cell_type": "code",
   "execution_count": 225,
   "id": "dd539a9d-838c-4a82-8d3f-e0e69ee1b034",
   "metadata": {},
   "outputs": [],
   "source": [
    "X_train = scaler.fit_transform(X_train)"
   ]
  },
  {
   "cell_type": "code",
   "execution_count": 226,
   "id": "0bc8b15d-b666-4fb3-a139-e800ec930868",
   "metadata": {},
   "outputs": [],
   "source": [
    "X_test = scaler.transform(X_test)"
   ]
  },
  {
   "cell_type": "markdown",
   "id": "9d8e209e-0528-4134-a0de-7488d1d4079f",
   "metadata": {},
   "source": [
    "<span style=\"font-family: 'Times New Roman'; font-size: 18px;\"> \n",
    "\n",
    "### Creating the Model \n",
    "We've imported the necessary libraries to build a neural network. Sequential is used for stacking layers; Dense for fully connected layers; and Dropout to prevent overfitting. We also import TensorFlow (tf) for model creation and training. This setup is foundational for deep learning projects. \n",
    "<br>\n",
    "Upon examining X_train, we observe that it begins with 78 attributes. Therefore, we will align our initial layer accordingly. Our activation function is a rectified linear unit. And to prevent overfitting we add a Dropout layer. We're going to continue with the same code, but reduce the number of neurons about in half for each layer. The final layer we need to configure is crucial for our task. Remember, we are essentially conducting a binary classification, which necessitates having a single neuron at the end. Therefore, we will set up one dense neuron with a unit count of one, utilizing a sigmoid activation function.\n",
    "<br>\n",
    "Next, we will assemble the model, and this is the point where you must ensure everything aligns. Since we are conducting a binary classification, the appropriate loss function to use is binary_crossentropy. I will opt for the Adam optimizer.</span>"
   ]
  },
  {
   "cell_type": "code",
   "execution_count": 227,
   "id": "d8be51e0-fdcd-46ff-a285-61359348e58f",
   "metadata": {},
   "outputs": [
    {
     "data": {
      "text/plain": [
       "(316175, 96)"
      ]
     },
     "execution_count": 227,
     "metadata": {},
     "output_type": "execute_result"
    }
   ],
   "source": [
    "X_train.shape"
   ]
  },
  {
   "cell_type": "code",
   "execution_count": 228,
   "id": "6dbd79b8-a44b-41ca-b341-6251fd017d76",
   "metadata": {},
   "outputs": [],
   "source": [
    "from tensorflow.keras.models import Sequential\n",
    "from tensorflow.keras.layers import Dense, Dropout\n",
    "import tensorflow as tf\n",
    "\n",
    "model = Sequential()\n",
    "\n",
    "model.add(Dense(78,activation='relu'))\n",
    "model.add(Dropout(0.2))\n",
    "\n",
    "model.add(Dense(39,activation='relu'))\n",
    "model.add(Dropout(0.2))\n",
    "\n",
    "model.add(Dense(19,activation='relu'))\n",
    "model.add(Dropout(0.2))\n",
    "\n",
    "model.add(Dense(units=1, activation='sigmoid'))\n",
    "\n",
    "model.compile(loss='binary_crossentropy',optimizer='adam')"
   ]
  },
  {
   "cell_type": "markdown",
   "id": "a07228e3-ff21-4a44-9840-4c3ea8c8cb9f",
   "metadata": {},
   "source": [
    "<span style=\"font-family: 'Times New Roman'; font-size: 18px;\"> \n",
    "\n",
    "### Fit the model\n",
    "We trained the model for a total of 25 epochs. Given the size of this dataset, it's advisable to process it in smaller groups, so we will set the batch size to 256. Ultimately, we aim to include our validation dataset to visualize the losses and determine if we are experiencing any overfitting issues.</span>"
   ]
  },
  {
   "cell_type": "code",
   "execution_count": 229,
   "id": "14a6e7a8-2e54-4831-9b16-4eca95f49ebb",
   "metadata": {},
   "outputs": [
    {
     "name": "stdout",
     "output_type": "stream",
     "text": [
      "Epoch 1/25\n",
      "\u001b[1m1236/1236\u001b[0m \u001b[32m━━━━━━━━━━━━━━━━━━━━\u001b[0m\u001b[37m\u001b[0m \u001b[1m6s\u001b[0m 2ms/step - loss: 0.3358 - val_loss: 0.2637\n",
      "Epoch 2/25\n",
      "\u001b[1m1236/1236\u001b[0m \u001b[32m━━━━━━━━━━━━━━━━━━━━\u001b[0m\u001b[37m\u001b[0m \u001b[1m2s\u001b[0m 2ms/step - loss: 0.2640 - val_loss: 0.2623\n",
      "Epoch 3/25\n",
      "\u001b[1m1236/1236\u001b[0m \u001b[32m━━━━━━━━━━━━━━━━━━━━\u001b[0m\u001b[37m\u001b[0m \u001b[1m3s\u001b[0m 2ms/step - loss: 0.2631 - val_loss: 0.2624\n",
      "Epoch 4/25\n",
      "\u001b[1m1236/1236\u001b[0m \u001b[32m━━━━━━━━━━━━━━━━━━━━\u001b[0m\u001b[37m\u001b[0m \u001b[1m3s\u001b[0m 2ms/step - loss: 0.2615 - val_loss: 0.2624\n",
      "Epoch 5/25\n",
      "\u001b[1m1236/1236\u001b[0m \u001b[32m━━━━━━━━━━━━━━━━━━━━\u001b[0m\u001b[37m\u001b[0m \u001b[1m3s\u001b[0m 2ms/step - loss: 0.2617 - val_loss: 0.2618\n",
      "Epoch 6/25\n",
      "\u001b[1m1236/1236\u001b[0m \u001b[32m━━━━━━━━━━━━━━━━━━━━\u001b[0m\u001b[37m\u001b[0m \u001b[1m3s\u001b[0m 2ms/step - loss: 0.2607 - val_loss: 0.2621\n",
      "Epoch 7/25\n",
      "\u001b[1m1236/1236\u001b[0m \u001b[32m━━━━━━━━━━━━━━━━━━━━\u001b[0m\u001b[37m\u001b[0m \u001b[1m3s\u001b[0m 2ms/step - loss: 0.2597 - val_loss: 0.2621\n",
      "Epoch 8/25\n",
      "\u001b[1m1236/1236\u001b[0m \u001b[32m━━━━━━━━━━━━━━━━━━━━\u001b[0m\u001b[37m\u001b[0m \u001b[1m3s\u001b[0m 2ms/step - loss: 0.2600 - val_loss: 0.2616\n",
      "Epoch 9/25\n",
      "\u001b[1m1236/1236\u001b[0m \u001b[32m━━━━━━━━━━━━━━━━━━━━\u001b[0m\u001b[37m\u001b[0m \u001b[1m3s\u001b[0m 3ms/step - loss: 0.2607 - val_loss: 0.2617\n",
      "Epoch 10/25\n",
      "\u001b[1m1236/1236\u001b[0m \u001b[32m━━━━━━━━━━━━━━━━━━━━\u001b[0m\u001b[37m\u001b[0m \u001b[1m3s\u001b[0m 2ms/step - loss: 0.2593 - val_loss: 0.2617\n",
      "Epoch 11/25\n",
      "\u001b[1m1236/1236\u001b[0m \u001b[32m━━━━━━━━━━━━━━━━━━━━\u001b[0m\u001b[37m\u001b[0m \u001b[1m3s\u001b[0m 2ms/step - loss: 0.2585 - val_loss: 0.2615\n",
      "Epoch 12/25\n",
      "\u001b[1m1236/1236\u001b[0m \u001b[32m━━━━━━━━━━━━━━━━━━━━\u001b[0m\u001b[37m\u001b[0m \u001b[1m3s\u001b[0m 2ms/step - loss: 0.2594 - val_loss: 0.2615\n",
      "Epoch 13/25\n",
      "\u001b[1m1236/1236\u001b[0m \u001b[32m━━━━━━━━━━━━━━━━━━━━\u001b[0m\u001b[37m\u001b[0m \u001b[1m3s\u001b[0m 2ms/step - loss: 0.2600 - val_loss: 0.2615\n",
      "Epoch 14/25\n",
      "\u001b[1m1236/1236\u001b[0m \u001b[32m━━━━━━━━━━━━━━━━━━━━\u001b[0m\u001b[37m\u001b[0m \u001b[1m3s\u001b[0m 3ms/step - loss: 0.2588 - val_loss: 0.2614\n",
      "Epoch 15/25\n",
      "\u001b[1m1236/1236\u001b[0m \u001b[32m━━━━━━━━━━━━━━━━━━━━\u001b[0m\u001b[37m\u001b[0m \u001b[1m3s\u001b[0m 2ms/step - loss: 0.2586 - val_loss: 0.2616\n",
      "Epoch 16/25\n",
      "\u001b[1m1236/1236\u001b[0m \u001b[32m━━━━━━━━━━━━━━━━━━━━\u001b[0m\u001b[37m\u001b[0m \u001b[1m3s\u001b[0m 2ms/step - loss: 0.2591 - val_loss: 0.2611\n",
      "Epoch 17/25\n",
      "\u001b[1m1236/1236\u001b[0m \u001b[32m━━━━━━━━━━━━━━━━━━━━\u001b[0m\u001b[37m\u001b[0m \u001b[1m3s\u001b[0m 2ms/step - loss: 0.2570 - val_loss: 0.2613\n",
      "Epoch 18/25\n",
      "\u001b[1m1236/1236\u001b[0m \u001b[32m━━━━━━━━━━━━━━━━━━━━\u001b[0m\u001b[37m\u001b[0m \u001b[1m3s\u001b[0m 3ms/step - loss: 0.2571 - val_loss: 0.2608\n",
      "Epoch 19/25\n",
      "\u001b[1m1236/1236\u001b[0m \u001b[32m━━━━━━━━━━━━━━━━━━━━\u001b[0m\u001b[37m\u001b[0m \u001b[1m3s\u001b[0m 2ms/step - loss: 0.2576 - val_loss: 0.2614\n",
      "Epoch 20/25\n",
      "\u001b[1m1236/1236\u001b[0m \u001b[32m━━━━━━━━━━━━━━━━━━━━\u001b[0m\u001b[37m\u001b[0m \u001b[1m3s\u001b[0m 2ms/step - loss: 0.2583 - val_loss: 0.2608\n",
      "Epoch 21/25\n",
      "\u001b[1m1236/1236\u001b[0m \u001b[32m━━━━━━━━━━━━━━━━━━━━\u001b[0m\u001b[37m\u001b[0m \u001b[1m3s\u001b[0m 2ms/step - loss: 0.2581 - val_loss: 0.2608\n",
      "Epoch 22/25\n",
      "\u001b[1m1236/1236\u001b[0m \u001b[32m━━━━━━━━━━━━━━━━━━━━\u001b[0m\u001b[37m\u001b[0m \u001b[1m3s\u001b[0m 2ms/step - loss: 0.2584 - val_loss: 0.2614\n",
      "Epoch 23/25\n",
      "\u001b[1m1236/1236\u001b[0m \u001b[32m━━━━━━━━━━━━━━━━━━━━\u001b[0m\u001b[37m\u001b[0m \u001b[1m3s\u001b[0m 2ms/step - loss: 0.2569 - val_loss: 0.2619\n",
      "Epoch 24/25\n",
      "\u001b[1m1236/1236\u001b[0m \u001b[32m━━━━━━━━━━━━━━━━━━━━\u001b[0m\u001b[37m\u001b[0m \u001b[1m3s\u001b[0m 2ms/step - loss: 0.2582 - val_loss: 0.2606\n",
      "Epoch 25/25\n",
      "\u001b[1m1236/1236\u001b[0m \u001b[32m━━━━━━━━━━━━━━━━━━━━\u001b[0m\u001b[37m\u001b[0m \u001b[1m3s\u001b[0m 2ms/step - loss: 0.2590 - val_loss: 0.2606\n"
     ]
    },
    {
     "data": {
      "text/plain": [
       "<keras.src.callbacks.history.History at 0x23635dee0d0>"
      ]
     },
     "execution_count": 229,
     "metadata": {},
     "output_type": "execute_result"
    }
   ],
   "source": [
    "model.fit(x=X_train, y=y_train,epochs=25, batch_size=256,\n",
    "          validation_data = (X_test, y_test))"
   ]
  },
  {
   "cell_type": "code",
   "execution_count": 230,
   "id": "24c5f4c9-4656-46c8-a8c7-3248de6cb990",
   "metadata": {},
   "outputs": [],
   "source": [
    "from tensorflow.keras.models import load_model"
   ]
  },
  {
   "cell_type": "markdown",
   "id": "82716e43-9f83-4933-a773-e0b52dc37668",
   "metadata": {},
   "source": [
    "<span style=\"font-family: 'Times New Roman'; font-size: 18px;\"> \n",
    "We save our model in the following code.\n",
    "</span>"
   ]
  },
  {
   "cell_type": "code",
   "execution_count": 231,
   "id": "e89d3aef-f5c7-47e4-89bf-872bae618b79",
   "metadata": {},
   "outputs": [
    {
     "name": "stderr",
     "output_type": "stream",
     "text": [
      "WARNING:absl:You are saving your model as an HDF5 file via `model.save()` or `keras.saving.save_model(model)`. This file format is considered legacy. We recommend using instead the native Keras format, e.g. `model.save('my_model.keras')` or `keras.saving.save_model(model, 'my_model.keras')`. \n"
     ]
    }
   ],
   "source": [
    "model.save('myfavoritemodel.h5')"
   ]
  },
  {
   "cell_type": "markdown",
   "id": "5508f7ac-a87c-40a3-a4e8-fba8ada51802",
   "metadata": {},
   "source": [
    "<span style=\"font-family: 'Times New Roman'; font-size: 18px;\"> \n",
    "    \n",
    "### Evaluating model performance\n",
    "We should concentrate on assessing how well the model is performing. Remember that during the training phase, we included both our training and validation datasets; now, let's proceed to visualize those results. \n",
    "\n",
    "</span>"
   ]
  },
  {
   "cell_type": "code",
   "execution_count": 232,
   "id": "ddf6e7fa-bdec-458a-83aa-ba093c2d3b07",
   "metadata": {},
   "outputs": [],
   "source": [
    "losses = pd.DataFrame(model.history.history)"
   ]
  },
  {
   "cell_type": "markdown",
   "id": "b48b6ce8-99f9-4474-b4c4-2c299f652e96",
   "metadata": {},
   "source": [
    "<span style=\"font-family: 'Times New Roman'; font-size: 18px;\"> \n",
    "\n",
    "When we analyze the losses, it becomes evident that there are two types: the training loss and the validation loss. The validation loss represents the error measured on our validation dataset during training. When we visualize this data, we observe a comparable trend where both the training and validation losses decline; however, over time, the improvement in validation loss becomes minimal.\n",
    "<br>\n",
    "An intriguing approach would be to implement an early stopping callback while extending the training over many more epochs to observe whether the graph would have persisted in its downward trend or begun to rise.\n",
    "\n",
    "</span>"
   ]
  },
  {
   "cell_type": "code",
   "execution_count": 233,
   "id": "01bb5435-00c6-4b1e-abcb-ec709a2402bd",
   "metadata": {},
   "outputs": [
    {
     "data": {
      "text/plain": [
       "<Axes: >"
      ]
     },
     "execution_count": 233,
     "metadata": {},
     "output_type": "execute_result"
    },
    {
     "data": {
      "image/png": "[encoded data removed]",
      "text/plain": [
       "<Figure size 640x480 with 1 Axes>"
      ]
     },
     "metadata": {},
     "output_type": "display_data"
    }
   ],
   "source": [
    "losses.plot()"
   ]
  },
  {
   "cell_type": "markdown",
   "id": "df63a3b2-354d-4ac4-9dd1-0927e82a2040",
   "metadata": {},
   "source": [
    "<span style=\"font-family: 'Times New Roman'; font-size: 18px;\"> \n",
    "    \n",
    "### Conclusion and model interpretation\n",
    "    \n",
    "Since this is a task involving classification, various metrics will be utilized. We can assess this using various metrics, including accuracy, precision, recall, and the F1 score. Therefore, accuracy refers to the true percentage of correct responses, and we are aiming for approximately 90% accuracy. \n",
    "<br>\n",
    "For recall I have to say there is an imbalanced label.  The number of loans that are completely paid off significantly exceeds the amount that has been written off. \n",
    "<br>\n",
    "Upon examining our initial dataframe and calculating the proportion of its length, we discover that 80% of the instances were already classified as loans that would be repaid. This suggests that creating a simple model predicting full repayment of all loans would yield an accuracy rate of 80%. Be cautious of a model that claims to achieve 80% accuracy, as a model that simply predicts every loan will be repaid will naturally reach around 80% accuracy on this specific test dataset. We ought to aim for a minimum benchmark of 80%, indicating that while our 89% accuracy in the metric is acceptable, it isn't exceptional due to the uneven distribution of our dataset. \n",
    "<br>\n",
    "The key performance indicators we need to examine include precision, recall, and the F1 score, and it appears that our performance varies slightly based on the class. The class we need to focus on is the one with fewer instances, specifically the zero class, as it has significantly less representation. Although our accuracy is impressive, we face challenges with recall, which in turn impacts our F1 score that reflects the mean of both precision and recall. \n",
    "<br>\n",
    "The real indicator of the model's performance lies in the F1 score for the zero class. Whether this score is favorable or not is contingent upon the broader context, including any existing models that aim to predict this and their respective F1 scores. We require additional context to evaluate if the recall and F1 score are satisfactory. However, it is evident that this accuracy surpasses a mere default guess, which would typically be around 80%. This approach is certainly superior to merely making a haphazard or direct assumption. As a result, our performance has significantly improved.\n",
    "<br>\n",
    "A chance selection would yield an accuracy rate of 50%. Assuming that repayment will always occur would yield an accuracy rate of 80%. Our model achieves an accuracy rate of 89%. Thus, our performance surpasses that of a mere chance prediction and a straightforward loan repayment outcome. \n",
    "</span>"
   ]
  },
  {
   "cell_type": "code",
   "execution_count": 234,
   "id": "5dd5b028-a0ab-4067-8f8d-99223bd63a56",
   "metadata": {},
   "outputs": [],
   "source": [
    "from sklearn.metrics import classification_report, confusion_matrix"
   ]
  },
  {
   "cell_type": "code",
   "execution_count": 235,
   "id": "7c0efd99-7494-412e-8fc8-a23bd2ae92e7",
   "metadata": {},
   "outputs": [
    {
     "name": "stdout",
     "output_type": "stream",
     "text": [
      "\u001b[1m2471/2471\u001b[0m \u001b[32m━━━━━━━━━━━━━━━━━━━━\u001b[0m\u001b[37m\u001b[0m \u001b[1m2s\u001b[0m 877us/step\n"
     ]
    }
   ],
   "source": [
    "predictions = model.predict(X_test)\n",
    "predicted_classes = (predictions > 0.5).astype(\"int32\")\n",
    "report = classification_report(y_test, predicted_classes,zero_division=1)"
   ]
  },
  {
   "cell_type": "code",
   "execution_count": 236,
   "id": "720aa92f-7553-402e-842c-de92968201e0",
   "metadata": {},
   "outputs": [
    {
     "name": "stdout",
     "output_type": "stream",
     "text": [
      "              precision    recall  f1-score   support\n",
      "\n",
      "           0       0.99      0.44      0.60     15658\n",
      "           1       0.88      1.00      0.93     63386\n",
      "\n",
      "    accuracy                           0.89     79044\n",
      "   macro avg       0.93      0.72      0.77     79044\n",
      "weighted avg       0.90      0.89      0.87     79044\n",
      "\n"
     ]
    }
   ],
   "source": [
    "print(report)"
   ]
  },
  {
   "cell_type": "code",
   "execution_count": 238,
   "id": "aecd5bd1-bb47-4f8f-adaa-733be6b9f9d5",
   "metadata": {},
   "outputs": [
    {
     "data": {
      "text/plain": [
       "loan_repaid\n",
       "1    318357\n",
       "0     77673\n",
       "Name: count, dtype: int64"
      ]
     },
     "execution_count": 238,
     "metadata": {},
     "output_type": "execute_result"
    }
   ],
   "source": [
    "df['loan_repaid'].value_counts()"
   ]
  },
  {
   "cell_type": "code",
   "execution_count": 239,
   "id": "b63929f8-33a9-4584-acde-d24fb73efb1a",
   "metadata": {},
   "outputs": [
    {
     "data": {
      "text/plain": [
       "0.8038709188697826"
      ]
     },
     "execution_count": 239,
     "metadata": {},
     "output_type": "execute_result"
    }
   ],
   "source": [
    "318357/len(df)"
   ]
  },
  {
   "cell_type": "markdown",
   "id": "19cdbe5e-6d1c-4ff6-b2d9-c4332e920cd3",
   "metadata": {},
   "source": [
    "<span style=\"font-family: 'Times New Roman'; font-size: 18px;\"> \n",
    "This confusion matrix reveals a significant amount of incorrect classification of zero points, leading to a diminished recall rate. \n",
    "\n",
    "</span>"
   ]
  },
  {
   "cell_type": "code",
   "execution_count": 240,
   "id": "afd2acf5-2ab1-4f26-b01b-49f5021dc36b",
   "metadata": {},
   "outputs": [
    {
     "data": {
      "text/plain": [
       "array([[ 6824,  8834],\n",
       "       [   95, 63291]], dtype=int64)"
      ]
     },
     "execution_count": 240,
     "metadata": {},
     "output_type": "execute_result"
    }
   ],
   "source": [
    "confusion_matrix(y_test,predicted_classes)"
   ]
  },
  {
   "cell_type": "markdown",
   "id": "c799c7ad-5b60-483c-a7ac-68cfefdfcabc",
   "metadata": {},
   "source": [
    "<span style=\"font-family: 'Times New Roman'; font-size: 18px;\"> \n",
    "Considering the previous assignment regarding the customer mentioned below, would you extend a loan to this individual? We will apply our model to evaluate one specific person. Therefore, we will import the random seed, assign it a value of 101, and subsequently generate a random index based on this setting. Next, from this arbitrary index, we will select a new customer and showcase their actual characteristics.\n",
    "<br>\n",
    "It’s important to confirm that what we have is not a pandas series; rather, it is a NumPy array. \n",
    "</span>"
   ]
  },
  {
   "cell_type": "code",
   "execution_count": 241,
   "id": "7efcdcdb-dc71-45d7-8af7-505613dc9092",
   "metadata": {},
   "outputs": [
    {
     "data": {
      "text/plain": [
       "loan_amnt      25000.0\n",
       "term                60\n",
       "int_rate         18.24\n",
       "installment     638.11\n",
       "annual_inc     61665.0\n",
       "                ...   \n",
       "30723             True\n",
       "48052            False\n",
       "70466            False\n",
       "86630            False\n",
       "93700            False\n",
       "Name: 305323, Length: 96, dtype: object"
      ]
     },
     "execution_count": 241,
     "metadata": {},
     "output_type": "execute_result"
    }
   ],
   "source": [
    "import random\n",
    "random.seed(101)\n",
    "random_ind =random.randint(0,len(df))\n",
    "\n",
    "new_customer = df2_drop.drop('loan_repaid', axis=1).iloc[random_ind]\n",
    "new_customer"
   ]
  },
  {
   "cell_type": "markdown",
   "id": "b7e239e6-62c8-4c4c-9e17-55d1ce523ba8",
   "metadata": {},
   "source": [
    "<span style=\"font-family: 'Times New Roman'; font-size: 18px;\"> \n",
    "Then we make sure that we scale this data in order to predict a correct class. \n",
    "Then we pass it to our model. </span>"
   ]
  },
  {
   "cell_type": "code",
   "execution_count": 243,
   "id": "625445bc-3e81-4923-b393-b6643e65d3c8",
   "metadata": {},
   "outputs": [],
   "source": [
    "new_customer = scaler.transform(new_customer.values.reshape(1,96))"
   ]
  },
  {
   "cell_type": "code",
   "execution_count": 244,
   "id": "bcd23a89-36d0-4c42-9460-5b9deb70b721",
   "metadata": {},
   "outputs": [
    {
     "name": "stdout",
     "output_type": "stream",
     "text": [
      "\u001b[1m1/1\u001b[0m \u001b[32m━━━━━━━━━━━━━━━━━━━━\u001b[0m\u001b[37m\u001b[0m \u001b[1m0s\u001b[0m 19ms/step\n"
     ]
    },
    {
     "data": {
      "text/plain": [
       "array([[1]])"
      ]
     },
     "execution_count": 244,
     "metadata": {},
     "output_type": "execute_result"
    }
   ],
   "source": [
    "#model.predict_classes(new_customer)\n",
    "\n",
    "predictions = model.predict(new_customer)\n",
    "# Convert probabilities to class labels (assuming binary classification with 0.5 threshold)\n",
    "predicted_classes = (predictions > 0.5).astype(\"int32\")\n",
    "\n",
    "predicted_classes\n"
   ]
  },
  {
   "cell_type": "markdown",
   "id": "8515d8a3-86a8-4ac3-addc-ab60c7165d67",
   "metadata": {},
   "source": [
    "<span style=\"font-family: 'Times New Roman'; font-size: 18px;\">\n",
    "\n",
    "### Testing the model\n",
    "    \n",
    "Upon executing that, we observe that our model forecasts it to be a one. Therefore, our forecast was accurate in this specific example.\n",
    " </span>"
   ]
  },
  {
   "cell_type": "code",
   "execution_count": 245,
   "id": "09807b9e-4f84-4c9c-8282-ed40418f47bd",
   "metadata": {},
   "outputs": [
    {
     "data": {
      "text/plain": [
       "1.0"
      ]
     },
     "execution_count": 245,
     "metadata": {},
     "output_type": "execute_result"
    }
   ],
   "source": [
    "df.iloc[random_ind]['loan_repaid']"
   ]
  },
  {
   "cell_type": "code",
   "execution_count": null,
   "id": "54dedd18-4c5c-4002-8200-6b358ffa70c4",
   "metadata": {},
   "outputs": [],
   "source": []
  },
  {
   "cell_type": "code",
   "execution_count": null,
   "id": "09f9d60f-0c91-4ae6-a12a-684922ffaac7",
   "metadata": {},
   "outputs": [],
   "source": []
  }
 ],
 "metadata": {
  "kernelspec": {
   "display_name": "Python 3 (ipykernel)",
   "language": "python",
   "name": "python3"
  },
  "language_info": {
   "codemirror_mode": {
    "name": "ipython",
    "version": 3
   },
   "file_extension": ".py",
   "mimetype": "text/x-python",
   "name": "python",
   "nbconvert_exporter": "python",
   "pygments_lexer": "ipython3",
   "version": "3.11.7"
  }
 },
 "nbformat": 4,
 "nbformat_minor": 5
}
